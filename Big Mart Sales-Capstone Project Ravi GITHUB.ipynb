{
 "cells": [
  {
   "cell_type": "markdown",
   "id": "8f093a39",
   "metadata": {},
   "source": [
    "# Sales Prediction for Big Mart Outlets using Regression"
   ]
  },
  {
   "cell_type": "markdown",
   "id": "586a7b5a",
   "metadata": {},
   "source": [
    "## Problem Statement \n",
    "\n",
    "\n",
    "The data scientists at BigMart have collected 2013 sales data for 1559 products across 10 stores in different cities. Also, certain attributes of each product and store have been defined. The aim is to build a predictive model and predict the sales of each product at a particular outlet.\n",
    "\n",
    "Using this model, BigMart will try to understand the properties of products and outlets which play a key role in increasing sales.\n",
    "\n",
    "Please note that the data may have missing values as some stores might not report all the data due to technical glitches. Hence, it will be required to treat them accordingly. "
   ]
  },
  {
   "cell_type": "markdown",
   "id": "0a2d3549",
   "metadata": {},
   "source": [
    "## Data Description "
   ]
  },
  {
   "cell_type": "markdown",
   "id": "6dc05a91",
   "metadata": {},
   "source": [
    "We have train (8523) and test (5681) data set, train data set has both input and output variable(s). You need to predict the sales for test data set.\n",
    "\n",
    "\n",
    "\n",
    "Train file: CSV containing the item outlet information with sales value\n",
    "\n",
    "| Variable\t| Description | \n",
    "|----------------|:--------------------|\n",
    "| Item_Identifier|Unique product ID |\n",
    "|Item_Weight|Weight of product|\n",
    "|Item_Fat_Content|Whether the product is low fat or not|\n",
    "|Item_Visibility|The % of total display area of all products in a store allocated to the particular product|\n",
    "|Item_Type |The category to which the product belongs|\n",
    "|Item_MRP|Maximum Retail Price (list price) of the product|\n",
    "|Outlet_Identifier|Unique store ID|\n",
    "|Outlet_Establishment_Year|The year in which store was established|\n",
    "|Outlet_Size|The size of the store in terms of ground area covered|\n",
    "|Outlet_Location_Type| The type of city in which the store is located|\n",
    "|Outlet_Type|Whether the outlet is just a grocery store or some sort of supermarket|\n",
    "|Item_Outlet_Sales|Sales of the product in the particular store. This is the outcome variable to be predicted.|\n",
    " \n",
    "\n",
    "Test file: CSV containing item outlet combinations for which sales need to be forecasted\n",
    "\n",
    "|Variable\t|Description|\n",
    "|------------|:-----------|\n",
    "|Item_Identifier|Unique product ID|\n",
    "|Item_Weight|Weight of product|\n",
    "|Item_Fat_Content|Whether the product is low fat or not|\n",
    "|Item_Visibility|The % of total display area of all products in a store allocated to the particular product|\n",
    "|Item_Type|The category to which the product belongs|\n",
    "|Item_MRP|Maximum Retail Price (list price) of the product|\n",
    "|Outlet_Identifier|Unique store ID|\n",
    "|Outlet_Establishment_Year|The year in which store was established|\n",
    "|Outlet_Size|The size of the store in terms of ground area covered|\n",
    "|Outlet_Location_Type|The type of city in which the store is located|\n",
    "|Outlet_Type|Whether the outlet is just a grocery store or some sort of supermarket|"
   ]
  },
  {
   "cell_type": "code",
   "execution_count": 5,
   "id": "43994e14",
   "metadata": {},
   "outputs": [],
   "source": [
    "#importing the libraries\n",
    "import io\n",
    "import pandas as pd\n",
    "import numpy as np\n",
    "import matplotlib.pyplot as plt\n",
    "import seaborn as sns\n",
    "%matplotlib inline"
   ]
  },
  {
   "cell_type": "code",
   "execution_count": 6,
   "id": "2342dd5d",
   "metadata": {},
   "outputs": [
    {
     "name": "stdout",
     "output_type": "stream",
     "text": [
      "H:\\Big Mart sales Data GITHUB\n"
     ]
    }
   ],
   "source": [
    "%cd \"H:\\Big Mart sales Data GITHUB\""
   ]
  },
  {
   "cell_type": "markdown",
   "id": "3e503cba",
   "metadata": {},
   "source": [
    "    -> Train file is complete data including dependent variable(y)\n",
    "\n",
    "    -> Test file will not have dependent variable(y) which needs to be predicted using model built on train data sample     submission file is where predictions are copied for uploading into competition site for checking the result and accuracy"
   ]
  },
  {
   "cell_type": "code",
   "execution_count": 7,
   "id": "2cae8365",
   "metadata": {},
   "outputs": [],
   "source": [
    "salestrain=pd.read_csv('big_mart_train.csv') # importing train file\n",
    "salestest=pd.read_csv('big_mart_test.csv')# importing test file"
   ]
  },
  {
   "cell_type": "markdown",
   "id": "ea705eb6",
   "metadata": {},
   "source": [
    "## Data Preprocessing & Exploratory Data Analysis"
   ]
  },
  {
   "cell_type": "code",
   "execution_count": 8,
   "id": "632cd527",
   "metadata": {},
   "outputs": [
    {
     "name": "stdout",
     "output_type": "stream",
     "text": [
      "(8523, 12)\n"
     ]
    }
   ],
   "source": [
    "print(salestrain.shape) #size of the train file"
   ]
  },
  {
   "cell_type": "code",
   "execution_count": 9,
   "id": "acf88cfb",
   "metadata": {},
   "outputs": [
    {
     "name": "stdout",
     "output_type": "stream",
     "text": [
      "(5681, 11)\n"
     ]
    }
   ],
   "source": [
    "print(salestest.shape)#size of the test file"
   ]
  },
  {
   "cell_type": "code",
   "execution_count": 10,
   "id": "09d2336d",
   "metadata": {},
   "outputs": [
    {
     "name": "stdout",
     "output_type": "stream",
     "text": [
      "<class 'pandas.core.frame.DataFrame'>\n",
      "RangeIndex: 8523 entries, 0 to 8522\n",
      "Data columns (total 12 columns):\n",
      " #   Column                     Non-Null Count  Dtype  \n",
      "---  ------                     --------------  -----  \n",
      " 0   Item_Identifier            8523 non-null   object \n",
      " 1   Item_Weight                7060 non-null   float64\n",
      " 2   Item_Fat_Content           8523 non-null   object \n",
      " 3   Item_Visibility            8523 non-null   float64\n",
      " 4   Item_Type                  8523 non-null   object \n",
      " 5   Item_MRP                   8523 non-null   float64\n",
      " 6   Outlet_Identifier          8523 non-null   object \n",
      " 7   Outlet_Establishment_Year  8523 non-null   int64  \n",
      " 8   Outlet_Size                6113 non-null   object \n",
      " 9   Outlet_Location_Type       8523 non-null   object \n",
      " 10  Outlet_Type                8523 non-null   object \n",
      " 11  Item_Outlet_Sales          8523 non-null   float64\n",
      "dtypes: float64(4), int64(1), object(7)\n",
      "memory usage: 799.2+ KB\n"
     ]
    }
   ],
   "source": [
    "salestrain.info()"
   ]
  },
  {
   "cell_type": "code",
   "execution_count": 11,
   "id": "a6a2ffe7",
   "metadata": {},
   "outputs": [
    {
     "data": {
      "text/html": [
       "<div>\n",
       "<style scoped>\n",
       "    .dataframe tbody tr th:only-of-type {\n",
       "        vertical-align: middle;\n",
       "    }\n",
       "\n",
       "    .dataframe tbody tr th {\n",
       "        vertical-align: top;\n",
       "    }\n",
       "\n",
       "    .dataframe thead th {\n",
       "        text-align: right;\n",
       "    }\n",
       "</style>\n",
       "<table border=\"1\" class=\"dataframe\">\n",
       "  <thead>\n",
       "    <tr style=\"text-align: right;\">\n",
       "      <th></th>\n",
       "      <th>Item_Identifier</th>\n",
       "      <th>Item_Weight</th>\n",
       "      <th>Item_Fat_Content</th>\n",
       "      <th>Item_Visibility</th>\n",
       "      <th>Item_Type</th>\n",
       "      <th>Item_MRP</th>\n",
       "      <th>Outlet_Identifier</th>\n",
       "      <th>Outlet_Establishment_Year</th>\n",
       "      <th>Outlet_Size</th>\n",
       "      <th>Outlet_Location_Type</th>\n",
       "      <th>Outlet_Type</th>\n",
       "      <th>Item_Outlet_Sales</th>\n",
       "    </tr>\n",
       "  </thead>\n",
       "  <tbody>\n",
       "    <tr>\n",
       "      <th>0</th>\n",
       "      <td>FDA15</td>\n",
       "      <td>9.30</td>\n",
       "      <td>Low Fat</td>\n",
       "      <td>0.016047</td>\n",
       "      <td>Dairy</td>\n",
       "      <td>249.8092</td>\n",
       "      <td>OUT049</td>\n",
       "      <td>1999</td>\n",
       "      <td>Medium</td>\n",
       "      <td>Tier 1</td>\n",
       "      <td>Supermarket Type1</td>\n",
       "      <td>3735.1380</td>\n",
       "    </tr>\n",
       "    <tr>\n",
       "      <th>1</th>\n",
       "      <td>DRC01</td>\n",
       "      <td>5.92</td>\n",
       "      <td>Regular</td>\n",
       "      <td>0.019278</td>\n",
       "      <td>Soft Drinks</td>\n",
       "      <td>48.2692</td>\n",
       "      <td>OUT018</td>\n",
       "      <td>2009</td>\n",
       "      <td>Medium</td>\n",
       "      <td>Tier 3</td>\n",
       "      <td>Supermarket Type2</td>\n",
       "      <td>443.4228</td>\n",
       "    </tr>\n",
       "    <tr>\n",
       "      <th>2</th>\n",
       "      <td>FDN15</td>\n",
       "      <td>17.50</td>\n",
       "      <td>Low Fat</td>\n",
       "      <td>0.016760</td>\n",
       "      <td>Meat</td>\n",
       "      <td>141.6180</td>\n",
       "      <td>OUT049</td>\n",
       "      <td>1999</td>\n",
       "      <td>Medium</td>\n",
       "      <td>Tier 1</td>\n",
       "      <td>Supermarket Type1</td>\n",
       "      <td>2097.2700</td>\n",
       "    </tr>\n",
       "    <tr>\n",
       "      <th>3</th>\n",
       "      <td>FDX07</td>\n",
       "      <td>19.20</td>\n",
       "      <td>Regular</td>\n",
       "      <td>0.000000</td>\n",
       "      <td>Fruits and Vegetables</td>\n",
       "      <td>182.0950</td>\n",
       "      <td>OUT010</td>\n",
       "      <td>1998</td>\n",
       "      <td>NaN</td>\n",
       "      <td>Tier 3</td>\n",
       "      <td>Grocery Store</td>\n",
       "      <td>732.3800</td>\n",
       "    </tr>\n",
       "    <tr>\n",
       "      <th>4</th>\n",
       "      <td>NCD19</td>\n",
       "      <td>8.93</td>\n",
       "      <td>Low Fat</td>\n",
       "      <td>0.000000</td>\n",
       "      <td>Household</td>\n",
       "      <td>53.8614</td>\n",
       "      <td>OUT013</td>\n",
       "      <td>1987</td>\n",
       "      <td>High</td>\n",
       "      <td>Tier 3</td>\n",
       "      <td>Supermarket Type1</td>\n",
       "      <td>994.7052</td>\n",
       "    </tr>\n",
       "  </tbody>\n",
       "</table>\n",
       "</div>"
      ],
      "text/plain": [
       "  Item_Identifier  Item_Weight Item_Fat_Content  Item_Visibility  \\\n",
       "0           FDA15         9.30          Low Fat         0.016047   \n",
       "1           DRC01         5.92          Regular         0.019278   \n",
       "2           FDN15        17.50          Low Fat         0.016760   \n",
       "3           FDX07        19.20          Regular         0.000000   \n",
       "4           NCD19         8.93          Low Fat         0.000000   \n",
       "\n",
       "               Item_Type  Item_MRP Outlet_Identifier  \\\n",
       "0                  Dairy  249.8092            OUT049   \n",
       "1            Soft Drinks   48.2692            OUT018   \n",
       "2                   Meat  141.6180            OUT049   \n",
       "3  Fruits and Vegetables  182.0950            OUT010   \n",
       "4              Household   53.8614            OUT013   \n",
       "\n",
       "   Outlet_Establishment_Year Outlet_Size Outlet_Location_Type  \\\n",
       "0                       1999      Medium               Tier 1   \n",
       "1                       2009      Medium               Tier 3   \n",
       "2                       1999      Medium               Tier 1   \n",
       "3                       1998         NaN               Tier 3   \n",
       "4                       1987        High               Tier 3   \n",
       "\n",
       "         Outlet_Type  Item_Outlet_Sales  \n",
       "0  Supermarket Type1          3735.1380  \n",
       "1  Supermarket Type2           443.4228  \n",
       "2  Supermarket Type1          2097.2700  \n",
       "3      Grocery Store           732.3800  \n",
       "4  Supermarket Type1           994.7052  "
      ]
     },
     "execution_count": 11,
     "metadata": {},
     "output_type": "execute_result"
    }
   ],
   "source": [
    "salestrain.head()"
   ]
  },
  {
   "cell_type": "code",
   "execution_count": 12,
   "id": "ecc669d7",
   "metadata": {},
   "outputs": [
    {
     "data": {
      "text/plain": [
       "Item_Identifier                 0\n",
       "Item_Weight                  1463\n",
       "Item_Fat_Content                0\n",
       "Item_Visibility                 0\n",
       "Item_Type                       0\n",
       "Item_MRP                        0\n",
       "Outlet_Identifier               0\n",
       "Outlet_Establishment_Year       0\n",
       "Outlet_Size                  2410\n",
       "Outlet_Location_Type            0\n",
       "Outlet_Type                     0\n",
       "Item_Outlet_Sales               0\n",
       "dtype: int64"
      ]
     },
     "execution_count": 12,
     "metadata": {},
     "output_type": "execute_result"
    }
   ],
   "source": [
    "salestrain.isnull().sum() #chechking for missing values"
   ]
  },
  {
   "cell_type": "code",
   "execution_count": 13,
   "id": "7d71c4f4",
   "metadata": {
    "scrolled": true
   },
   "outputs": [
    {
     "name": "stdout",
     "output_type": "stream",
     "text": [
      "<class 'pandas.core.frame.DataFrame'>\n",
      "RangeIndex: 5681 entries, 0 to 5680\n",
      "Data columns (total 11 columns):\n",
      " #   Column                     Non-Null Count  Dtype  \n",
      "---  ------                     --------------  -----  \n",
      " 0   Item_Identifier            5681 non-null   object \n",
      " 1   Item_Weight                4705 non-null   float64\n",
      " 2   Item_Fat_Content           5681 non-null   object \n",
      " 3   Item_Visibility            5681 non-null   float64\n",
      " 4   Item_Type                  5681 non-null   object \n",
      " 5   Item_MRP                   5681 non-null   float64\n",
      " 6   Outlet_Identifier          5681 non-null   object \n",
      " 7   Outlet_Establishment_Year  5681 non-null   int64  \n",
      " 8   Outlet_Size                4075 non-null   object \n",
      " 9   Outlet_Location_Type       5681 non-null   object \n",
      " 10  Outlet_Type                5681 non-null   object \n",
      "dtypes: float64(3), int64(1), object(7)\n",
      "memory usage: 488.3+ KB\n"
     ]
    }
   ],
   "source": [
    "salestest.info()"
   ]
  },
  {
   "cell_type": "code",
   "execution_count": 14,
   "id": "8304c022",
   "metadata": {},
   "outputs": [
    {
     "data": {
      "text/html": [
       "<div>\n",
       "<style scoped>\n",
       "    .dataframe tbody tr th:only-of-type {\n",
       "        vertical-align: middle;\n",
       "    }\n",
       "\n",
       "    .dataframe tbody tr th {\n",
       "        vertical-align: top;\n",
       "    }\n",
       "\n",
       "    .dataframe thead th {\n",
       "        text-align: right;\n",
       "    }\n",
       "</style>\n",
       "<table border=\"1\" class=\"dataframe\">\n",
       "  <thead>\n",
       "    <tr style=\"text-align: right;\">\n",
       "      <th></th>\n",
       "      <th>Item_Identifier</th>\n",
       "      <th>Item_Weight</th>\n",
       "      <th>Item_Fat_Content</th>\n",
       "      <th>Item_Visibility</th>\n",
       "      <th>Item_Type</th>\n",
       "      <th>Item_MRP</th>\n",
       "      <th>Outlet_Identifier</th>\n",
       "      <th>Outlet_Establishment_Year</th>\n",
       "      <th>Outlet_Size</th>\n",
       "      <th>Outlet_Location_Type</th>\n",
       "      <th>Outlet_Type</th>\n",
       "    </tr>\n",
       "  </thead>\n",
       "  <tbody>\n",
       "    <tr>\n",
       "      <th>0</th>\n",
       "      <td>FDW58</td>\n",
       "      <td>20.750</td>\n",
       "      <td>Low Fat</td>\n",
       "      <td>0.007565</td>\n",
       "      <td>Snack Foods</td>\n",
       "      <td>107.8622</td>\n",
       "      <td>OUT049</td>\n",
       "      <td>1999</td>\n",
       "      <td>Medium</td>\n",
       "      <td>Tier 1</td>\n",
       "      <td>Supermarket Type1</td>\n",
       "    </tr>\n",
       "    <tr>\n",
       "      <th>1</th>\n",
       "      <td>FDW14</td>\n",
       "      <td>8.300</td>\n",
       "      <td>reg</td>\n",
       "      <td>0.038428</td>\n",
       "      <td>Dairy</td>\n",
       "      <td>87.3198</td>\n",
       "      <td>OUT017</td>\n",
       "      <td>2007</td>\n",
       "      <td>NaN</td>\n",
       "      <td>Tier 2</td>\n",
       "      <td>Supermarket Type1</td>\n",
       "    </tr>\n",
       "    <tr>\n",
       "      <th>2</th>\n",
       "      <td>NCN55</td>\n",
       "      <td>14.600</td>\n",
       "      <td>Low Fat</td>\n",
       "      <td>0.099575</td>\n",
       "      <td>Others</td>\n",
       "      <td>241.7538</td>\n",
       "      <td>OUT010</td>\n",
       "      <td>1998</td>\n",
       "      <td>NaN</td>\n",
       "      <td>Tier 3</td>\n",
       "      <td>Grocery Store</td>\n",
       "    </tr>\n",
       "    <tr>\n",
       "      <th>3</th>\n",
       "      <td>FDQ58</td>\n",
       "      <td>7.315</td>\n",
       "      <td>Low Fat</td>\n",
       "      <td>0.015388</td>\n",
       "      <td>Snack Foods</td>\n",
       "      <td>155.0340</td>\n",
       "      <td>OUT017</td>\n",
       "      <td>2007</td>\n",
       "      <td>NaN</td>\n",
       "      <td>Tier 2</td>\n",
       "      <td>Supermarket Type1</td>\n",
       "    </tr>\n",
       "    <tr>\n",
       "      <th>4</th>\n",
       "      <td>FDY38</td>\n",
       "      <td>NaN</td>\n",
       "      <td>Regular</td>\n",
       "      <td>0.118599</td>\n",
       "      <td>Dairy</td>\n",
       "      <td>234.2300</td>\n",
       "      <td>OUT027</td>\n",
       "      <td>1985</td>\n",
       "      <td>Medium</td>\n",
       "      <td>Tier 3</td>\n",
       "      <td>Supermarket Type3</td>\n",
       "    </tr>\n",
       "  </tbody>\n",
       "</table>\n",
       "</div>"
      ],
      "text/plain": [
       "  Item_Identifier  Item_Weight Item_Fat_Content  Item_Visibility    Item_Type  \\\n",
       "0           FDW58       20.750          Low Fat         0.007565  Snack Foods   \n",
       "1           FDW14        8.300              reg         0.038428        Dairy   \n",
       "2           NCN55       14.600          Low Fat         0.099575       Others   \n",
       "3           FDQ58        7.315          Low Fat         0.015388  Snack Foods   \n",
       "4           FDY38          NaN          Regular         0.118599        Dairy   \n",
       "\n",
       "   Item_MRP Outlet_Identifier  Outlet_Establishment_Year Outlet_Size  \\\n",
       "0  107.8622            OUT049                       1999      Medium   \n",
       "1   87.3198            OUT017                       2007         NaN   \n",
       "2  241.7538            OUT010                       1998         NaN   \n",
       "3  155.0340            OUT017                       2007         NaN   \n",
       "4  234.2300            OUT027                       1985      Medium   \n",
       "\n",
       "  Outlet_Location_Type        Outlet_Type  \n",
       "0               Tier 1  Supermarket Type1  \n",
       "1               Tier 2  Supermarket Type1  \n",
       "2               Tier 3      Grocery Store  \n",
       "3               Tier 2  Supermarket Type1  \n",
       "4               Tier 3  Supermarket Type3  "
      ]
     },
     "execution_count": 14,
     "metadata": {},
     "output_type": "execute_result"
    }
   ],
   "source": [
    "salestest.head()"
   ]
  },
  {
   "cell_type": "code",
   "execution_count": 15,
   "id": "0731ebca",
   "metadata": {},
   "outputs": [
    {
     "data": {
      "text/plain": [
       "Item_Identifier                 0\n",
       "Item_Weight                   976\n",
       "Item_Fat_Content                0\n",
       "Item_Visibility                 0\n",
       "Item_Type                       0\n",
       "Item_MRP                        0\n",
       "Outlet_Identifier               0\n",
       "Outlet_Establishment_Year       0\n",
       "Outlet_Size                  1606\n",
       "Outlet_Location_Type            0\n",
       "Outlet_Type                     0\n",
       "dtype: int64"
      ]
     },
     "execution_count": 15,
     "metadata": {},
     "output_type": "execute_result"
    }
   ],
   "source": [
    "salestest.isnull().sum()#chechking for missing values"
   ]
  },
  {
   "cell_type": "markdown",
   "id": "69c037f5",
   "metadata": {},
   "source": [
    "    -> The train and test dataset have some missing values that need to be filled.\n",
    "\n",
    "    -> We will concatenate the test and train dataframes for data preprocessing, which requires the same number and order of variables in both dataframes.\n",
    "\n",
    "    -> Therefore, we will temporarily add a dependent variable to the test data for preprocessing purposes."
   ]
  },
  {
   "cell_type": "code",
   "execution_count": 16,
   "id": "cf125df4",
   "metadata": {},
   "outputs": [],
   "source": [
    "#Temporarly add dependent variable to test data for preprocessing\n",
    "salestest['Item_Outlet_Sales']='test'"
   ]
  },
  {
   "cell_type": "code",
   "execution_count": 17,
   "id": "5e81cce1",
   "metadata": {},
   "outputs": [],
   "source": [
    "# Combine Both Dataframes for preprocessing\n",
    "# For Concatenation of 2 dataframes the number of variables and squence of variables must be same.\n",
    "combinedf=pd.concat([salestrain,salestest],axis=0)\n",
    "# axis=0 is Row wise Concatenation\n",
    "# axis=1 is Column wise Concatenation"
   ]
  },
  {
   "cell_type": "code",
   "execution_count": 18,
   "id": "8873c31c",
   "metadata": {},
   "outputs": [
    {
     "name": "stdout",
     "output_type": "stream",
     "text": [
      "<class 'pandas.core.frame.DataFrame'>\n",
      "Int64Index: 14204 entries, 0 to 5680\n",
      "Data columns (total 12 columns):\n",
      " #   Column                     Non-Null Count  Dtype  \n",
      "---  ------                     --------------  -----  \n",
      " 0   Item_Identifier            14204 non-null  object \n",
      " 1   Item_Weight                11765 non-null  float64\n",
      " 2   Item_Fat_Content           14204 non-null  object \n",
      " 3   Item_Visibility            14204 non-null  float64\n",
      " 4   Item_Type                  14204 non-null  object \n",
      " 5   Item_MRP                   14204 non-null  float64\n",
      " 6   Outlet_Identifier          14204 non-null  object \n",
      " 7   Outlet_Establishment_Year  14204 non-null  int64  \n",
      " 8   Outlet_Size                10188 non-null  object \n",
      " 9   Outlet_Location_Type       14204 non-null  object \n",
      " 10  Outlet_Type                14204 non-null  object \n",
      " 11  Item_Outlet_Sales          14204 non-null  object \n",
      "dtypes: float64(3), int64(1), object(8)\n",
      "memory usage: 1.4+ MB\n"
     ]
    }
   ],
   "source": [
    "combinedf.info()"
   ]
  },
  {
   "cell_type": "code",
   "execution_count": 19,
   "id": "5830909e",
   "metadata": {},
   "outputs": [
    {
     "data": {
      "text/plain": [
       "Item_Identifier                 0\n",
       "Item_Weight                  2439\n",
       "Item_Fat_Content                0\n",
       "Item_Visibility                 0\n",
       "Item_Type                       0\n",
       "Item_MRP                        0\n",
       "Outlet_Identifier               0\n",
       "Outlet_Establishment_Year       0\n",
       "Outlet_Size                  4016\n",
       "Outlet_Location_Type            0\n",
       "Outlet_Type                     0\n",
       "Item_Outlet_Sales               0\n",
       "dtype: int64"
      ]
     },
     "execution_count": 19,
     "metadata": {},
     "output_type": "execute_result"
    }
   ],
   "source": [
    "combinedf.isnull().sum()# The total number of missing values in the dataset for each variable"
   ]
  },
  {
   "cell_type": "code",
   "execution_count": 20,
   "id": "50c21546",
   "metadata": {},
   "outputs": [
    {
     "data": {
      "text/plain": [
       "count    11765.000000\n",
       "mean        12.792854\n",
       "std          4.652502\n",
       "min          4.555000\n",
       "25%          8.710000\n",
       "50%         12.600000\n",
       "75%         16.750000\n",
       "max         21.350000\n",
       "Name: Item_Weight, dtype: float64"
      ]
     },
     "execution_count": 20,
     "metadata": {},
     "output_type": "execute_result"
    }
   ],
   "source": [
    "combinedf.Item_Weight.describe() "
   ]
  },
  {
   "cell_type": "code",
   "execution_count": 21,
   "id": "deaea8b5",
   "metadata": {},
   "outputs": [],
   "source": [
    "#mean imputation\n",
    "combinedf.Item_Weight=combinedf.Item_Weight.fillna(combinedf.Item_Weight.mean())\n",
    "# we are impotung the Item_Weight using the mean as it a numerical variable."
   ]
  },
  {
   "cell_type": "code",
   "execution_count": 22,
   "id": "dc90f34c",
   "metadata": {},
   "outputs": [
    {
     "data": {
      "text/plain": [
       "Medium    4655\n",
       "NaN       4016\n",
       "Small     3980\n",
       "High      1553\n",
       "Name: Outlet_Size, dtype: int64"
      ]
     },
     "execution_count": 22,
     "metadata": {},
     "output_type": "execute_result"
    }
   ],
   "source": [
    "combinedf.Outlet_Size.value_counts(dropna=False)"
   ]
  },
  {
   "cell_type": "code",
   "execution_count": 23,
   "id": "03e2a681",
   "metadata": {},
   "outputs": [],
   "source": [
    "combinedf.Outlet_Size=combinedf.Outlet_Size.fillna(\"Missing\")\n",
    "#since missing values are very and cannot be imputed with existing levels,impute with word missing"
   ]
  },
  {
   "cell_type": "code",
   "execution_count": 24,
   "id": "43b799ae",
   "metadata": {},
   "outputs": [
    {
     "name": "stdout",
     "output_type": "stream",
     "text": [
      "<class 'pandas.core.frame.DataFrame'>\n",
      "Int64Index: 14204 entries, 0 to 5680\n",
      "Data columns (total 12 columns):\n",
      " #   Column                     Non-Null Count  Dtype  \n",
      "---  ------                     --------------  -----  \n",
      " 0   Item_Identifier            14204 non-null  object \n",
      " 1   Item_Weight                14204 non-null  float64\n",
      " 2   Item_Fat_Content           14204 non-null  object \n",
      " 3   Item_Visibility            14204 non-null  float64\n",
      " 4   Item_Type                  14204 non-null  object \n",
      " 5   Item_MRP                   14204 non-null  float64\n",
      " 6   Outlet_Identifier          14204 non-null  object \n",
      " 7   Outlet_Establishment_Year  14204 non-null  int64  \n",
      " 8   Outlet_Size                14204 non-null  object \n",
      " 9   Outlet_Location_Type       14204 non-null  object \n",
      " 10  Outlet_Type                14204 non-null  object \n",
      " 11  Item_Outlet_Sales          14204 non-null  object \n",
      "dtypes: float64(3), int64(1), object(8)\n",
      "memory usage: 1.4+ MB\n"
     ]
    }
   ],
   "source": [
    "combinedf.info()"
   ]
  },
  {
   "cell_type": "code",
   "execution_count": 25,
   "id": "41c26353",
   "metadata": {},
   "outputs": [
    {
     "data": {
      "text/plain": [
       "Item_Identifier              0\n",
       "Item_Weight                  0\n",
       "Item_Fat_Content             0\n",
       "Item_Visibility              0\n",
       "Item_Type                    0\n",
       "Item_MRP                     0\n",
       "Outlet_Identifier            0\n",
       "Outlet_Establishment_Year    0\n",
       "Outlet_Size                  0\n",
       "Outlet_Location_Type         0\n",
       "Outlet_Type                  0\n",
       "Item_Outlet_Sales            0\n",
       "dtype: int64"
      ]
     },
     "execution_count": 25,
     "metadata": {},
     "output_type": "execute_result"
    }
   ],
   "source": [
    "combinedf.isnull().sum() #there are no missing values."
   ]
  },
  {
   "cell_type": "code",
   "execution_count": 26,
   "id": "680d4947",
   "metadata": {},
   "outputs": [
    {
     "data": {
      "text/plain": [
       "Low Fat    8485\n",
       "Regular    4824\n",
       "LF          522\n",
       "reg         195\n",
       "low fat     178\n",
       "Name: Item_Fat_Content, dtype: int64"
      ]
     },
     "execution_count": 26,
     "metadata": {},
     "output_type": "execute_result"
    }
   ],
   "source": [
    "combinedf.Item_Fat_Content.value_counts(dropna=False)\n",
    "#We can see that we have multiple duplicate data here, we are using the replace function to correct them."
   ]
  },
  {
   "cell_type": "code",
   "execution_count": 27,
   "id": "ff759202",
   "metadata": {},
   "outputs": [],
   "source": [
    "combinedf.Item_Fat_Content=combinedf.Item_Fat_Content.replace(['LF','low fat'],'Low Fat')"
   ]
  },
  {
   "cell_type": "code",
   "execution_count": 28,
   "id": "d66b859e",
   "metadata": {},
   "outputs": [],
   "source": [
    "combinedf.Item_Fat_Content=combinedf.Item_Fat_Content.replace('reg','Regular')"
   ]
  },
  {
   "cell_type": "code",
   "execution_count": 29,
   "id": "da03e397",
   "metadata": {},
   "outputs": [
    {
     "data": {
      "text/plain": [
       "Low Fat    9185\n",
       "Regular    5019\n",
       "Name: Item_Fat_Content, dtype: int64"
      ]
     },
     "execution_count": 29,
     "metadata": {},
     "output_type": "execute_result"
    }
   ],
   "source": [
    "combinedf.Item_Fat_Content.value_counts(dropna=False) # no duplicate data."
   ]
  },
  {
   "cell_type": "code",
   "execution_count": 30,
   "id": "8a666372",
   "metadata": {},
   "outputs": [
    {
     "data": {
      "text/plain": [
       "1985    2439\n",
       "1987    1553\n",
       "1999    1550\n",
       "1997    1550\n",
       "2004    1550\n",
       "2002    1548\n",
       "2009    1546\n",
       "2007    1543\n",
       "1998     925\n",
       "Name: Outlet_Establishment_Year, dtype: int64"
      ]
     },
     "execution_count": 30,
     "metadata": {},
     "output_type": "execute_result"
    }
   ],
   "source": [
    "combinedf.Outlet_Establishment_Year.value_counts()\n",
    "# As Outlet_Establishment_Year is a categorical data, but data type is in int64, we are changing the data type to object"
   ]
  },
  {
   "cell_type": "code",
   "execution_count": 31,
   "id": "969bb643",
   "metadata": {},
   "outputs": [],
   "source": [
    "# Create a new variable \"Outlet_Age\" from Outlet_Establishment_Year\n",
    "combinedf[\"Outlet_Age\"]=2022-combinedf.Outlet_Establishment_Year"
   ]
  },
  {
   "cell_type": "code",
   "execution_count": 32,
   "id": "8f815183",
   "metadata": {},
   "outputs": [
    {
     "name": "stdout",
     "output_type": "stream",
     "text": [
      "<class 'pandas.core.frame.DataFrame'>\n",
      "Int64Index: 14204 entries, 0 to 5680\n",
      "Data columns (total 13 columns):\n",
      " #   Column                     Non-Null Count  Dtype  \n",
      "---  ------                     --------------  -----  \n",
      " 0   Item_Identifier            14204 non-null  object \n",
      " 1   Item_Weight                14204 non-null  float64\n",
      " 2   Item_Fat_Content           14204 non-null  object \n",
      " 3   Item_Visibility            14204 non-null  float64\n",
      " 4   Item_Type                  14204 non-null  object \n",
      " 5   Item_MRP                   14204 non-null  float64\n",
      " 6   Outlet_Identifier          14204 non-null  object \n",
      " 7   Outlet_Establishment_Year  14204 non-null  int64  \n",
      " 8   Outlet_Size                14204 non-null  object \n",
      " 9   Outlet_Location_Type       14204 non-null  object \n",
      " 10  Outlet_Type                14204 non-null  object \n",
      " 11  Item_Outlet_Sales          14204 non-null  object \n",
      " 12  Outlet_Age                 14204 non-null  int64  \n",
      "dtypes: float64(3), int64(2), object(8)\n",
      "memory usage: 1.5+ MB\n"
     ]
    }
   ],
   "source": [
    "combinedf.info() \n",
    "# we can see the data type of Outlet_Establishment_Year changed to object."
   ]
  },
  {
   "cell_type": "code",
   "execution_count": 33,
   "id": "4147bb38",
   "metadata": {},
   "outputs": [],
   "source": [
    "# The Item_Identifier is a categorical, but we have huge number of categories, so we are creating created a new\n",
    "#variable called item_code which is extraction of first 2 characters of item_identifier\n",
    "\n",
    "combinedf['Item_code']=combinedf.Item_Identifier.apply(lambda x:x[0:2])\n",
    "\n",
    "#lambda function is anoanymos function. Function without name. keyword lambda must be used for lambda arguments"
   ]
  },
  {
   "cell_type": "code",
   "execution_count": 34,
   "id": "9762541c",
   "metadata": {},
   "outputs": [
    {
     "data": {
      "text/plain": [
       "FD    10201\n",
       "NC     2686\n",
       "DR     1317\n",
       "Name: Item_code, dtype: int64"
      ]
     },
     "execution_count": 34,
     "metadata": {},
     "output_type": "execute_result"
    }
   ],
   "source": [
    "combinedf.Item_code.value_counts(dropna=False) #FD-food,DR-drinks,NC-Non-consumable"
   ]
  },
  {
   "cell_type": "code",
   "execution_count": 35,
   "id": "70c8065d",
   "metadata": {},
   "outputs": [
    {
     "data": {
      "text/plain": [
       "Low Fat       6499\n",
       "Regular       5019\n",
       "Non-Edible    2686\n",
       "Name: Item_Fat_Content, dtype: int64"
      ]
     },
     "execution_count": 35,
     "metadata": {},
     "output_type": "execute_result"
    }
   ],
   "source": [
    "combinedf.loc[combinedf['Item_code']==\"NC\",'Item_Fat_Content'] = \"Non-Edible\"\n",
    "combinedf['Item_Fat_Content'].value_counts()\n",
    "# As we have non consumable food, we are changing the far content as non-edible"
   ]
  },
  {
   "cell_type": "code",
   "execution_count": 36,
   "id": "5478b2d1",
   "metadata": {},
   "outputs": [],
   "source": [
    "#Now we can drop the Item_Identifier variable as we created alternative variable.\n",
    "combinedf=combinedf.drop(['Item_Identifier','Outlet_Establishment_Year'],axis=1)"
   ]
  },
  {
   "cell_type": "code",
   "execution_count": 37,
   "id": "3e590c82",
   "metadata": {},
   "outputs": [
    {
     "name": "stdout",
     "output_type": "stream",
     "text": [
      "<class 'pandas.core.frame.DataFrame'>\n",
      "Int64Index: 14204 entries, 0 to 5680\n",
      "Data columns (total 12 columns):\n",
      " #   Column                Non-Null Count  Dtype  \n",
      "---  ------                --------------  -----  \n",
      " 0   Item_Weight           14204 non-null  float64\n",
      " 1   Item_Fat_Content      14204 non-null  object \n",
      " 2   Item_Visibility       14204 non-null  float64\n",
      " 3   Item_Type             14204 non-null  object \n",
      " 4   Item_MRP              14204 non-null  float64\n",
      " 5   Outlet_Identifier     14204 non-null  object \n",
      " 6   Outlet_Size           14204 non-null  object \n",
      " 7   Outlet_Location_Type  14204 non-null  object \n",
      " 8   Outlet_Type           14204 non-null  object \n",
      " 9   Item_Outlet_Sales     14204 non-null  object \n",
      " 10  Outlet_Age            14204 non-null  int64  \n",
      " 11  Item_code             14204 non-null  object \n",
      "dtypes: float64(3), int64(1), object(8)\n",
      "memory usage: 1.4+ MB\n"
     ]
    }
   ],
   "source": [
    "combinedf.info()"
   ]
  },
  {
   "cell_type": "code",
   "execution_count": 38,
   "id": "7bc368c3",
   "metadata": {},
   "outputs": [
    {
     "data": {
      "text/html": [
       "<div>\n",
       "<style scoped>\n",
       "    .dataframe tbody tr th:only-of-type {\n",
       "        vertical-align: middle;\n",
       "    }\n",
       "\n",
       "    .dataframe tbody tr th {\n",
       "        vertical-align: top;\n",
       "    }\n",
       "\n",
       "    .dataframe thead th {\n",
       "        text-align: right;\n",
       "    }\n",
       "</style>\n",
       "<table border=\"1\" class=\"dataframe\">\n",
       "  <thead>\n",
       "    <tr style=\"text-align: right;\">\n",
       "      <th></th>\n",
       "      <th>Item_Weight</th>\n",
       "      <th>Item_Visibility</th>\n",
       "      <th>Item_MRP</th>\n",
       "      <th>Outlet_Age</th>\n",
       "    </tr>\n",
       "  </thead>\n",
       "  <tbody>\n",
       "    <tr>\n",
       "      <th>count</th>\n",
       "      <td>14204.000000</td>\n",
       "      <td>14204.000000</td>\n",
       "      <td>14204.000000</td>\n",
       "      <td>14204.000000</td>\n",
       "    </tr>\n",
       "    <tr>\n",
       "      <th>mean</th>\n",
       "      <td>12.792854</td>\n",
       "      <td>0.065953</td>\n",
       "      <td>141.004977</td>\n",
       "      <td>24.169319</td>\n",
       "    </tr>\n",
       "    <tr>\n",
       "      <th>std</th>\n",
       "      <td>4.234226</td>\n",
       "      <td>0.051459</td>\n",
       "      <td>62.086938</td>\n",
       "      <td>8.371664</td>\n",
       "    </tr>\n",
       "    <tr>\n",
       "      <th>min</th>\n",
       "      <td>4.555000</td>\n",
       "      <td>0.000000</td>\n",
       "      <td>31.290000</td>\n",
       "      <td>13.000000</td>\n",
       "    </tr>\n",
       "    <tr>\n",
       "      <th>25%</th>\n",
       "      <td>9.300000</td>\n",
       "      <td>0.027036</td>\n",
       "      <td>94.012000</td>\n",
       "      <td>18.000000</td>\n",
       "    </tr>\n",
       "    <tr>\n",
       "      <th>50%</th>\n",
       "      <td>12.792854</td>\n",
       "      <td>0.054021</td>\n",
       "      <td>142.247000</td>\n",
       "      <td>23.000000</td>\n",
       "    </tr>\n",
       "    <tr>\n",
       "      <th>75%</th>\n",
       "      <td>16.000000</td>\n",
       "      <td>0.094037</td>\n",
       "      <td>185.855600</td>\n",
       "      <td>35.000000</td>\n",
       "    </tr>\n",
       "    <tr>\n",
       "      <th>max</th>\n",
       "      <td>21.350000</td>\n",
       "      <td>0.328391</td>\n",
       "      <td>266.888400</td>\n",
       "      <td>37.000000</td>\n",
       "    </tr>\n",
       "  </tbody>\n",
       "</table>\n",
       "</div>"
      ],
      "text/plain": [
       "        Item_Weight  Item_Visibility      Item_MRP    Outlet_Age\n",
       "count  14204.000000     14204.000000  14204.000000  14204.000000\n",
       "mean      12.792854         0.065953    141.004977     24.169319\n",
       "std        4.234226         0.051459     62.086938      8.371664\n",
       "min        4.555000         0.000000     31.290000     13.000000\n",
       "25%        9.300000         0.027036     94.012000     18.000000\n",
       "50%       12.792854         0.054021    142.247000     23.000000\n",
       "75%       16.000000         0.094037    185.855600     35.000000\n",
       "max       21.350000         0.328391    266.888400     37.000000"
      ]
     },
     "execution_count": 38,
     "metadata": {},
     "output_type": "execute_result"
    }
   ],
   "source": [
    "#Descriptive statistics for numerical variables\n",
    "combinedf.describe()"
   ]
  },
  {
   "cell_type": "code",
   "execution_count": 39,
   "id": "30ee3f10",
   "metadata": {},
   "outputs": [
    {
     "data": {
      "image/png": "[encoded data removed]",
      "text/plain": [
       "<Figure size 640x480 with 1 Axes>"
      ]
     },
     "metadata": {},
     "output_type": "display_data"
    }
   ],
   "source": [
    "#value counts for categorical variables and there visualization\n",
    "ax=combinedf.Item_code.value_counts().plot(kind=\"bar\")\n",
    "for i in ax.containers:\n",
    "    ax.bar_label(i,fmt=\"%0.0f\",fontsize=10)"
   ]
  },
  {
   "cell_type": "code",
   "execution_count": 40,
   "id": "ded808de",
   "metadata": {},
   "outputs": [
    {
     "name": "stdout",
     "output_type": "stream",
     "text": [
      "Low Fat       6499\n",
      "Regular       5019\n",
      "Non-Edible    2686\n",
      "Name: Item_Fat_Content, dtype: int64\n"
     ]
    },
    {
     "data": {
      "text/plain": [
       "<Axes: ylabel='Item_Fat_Content'>"
      ]
     },
     "execution_count": 40,
     "metadata": {},
     "output_type": "execute_result"
    },
    {
     "data": {
      "image/png": "[encoded data removed]",
      "text/plain": [
       "<Figure size 640x480 with 1 Axes>"
      ]
     },
     "metadata": {},
     "output_type": "display_data"
    }
   ],
   "source": [
    "print(combinedf.Item_Fat_Content.value_counts())\n",
    "combinedf.Item_Fat_Content.value_counts().plot(kind='pie',autopct='%.2f%%')"
   ]
  },
  {
   "cell_type": "code",
   "execution_count": 41,
   "id": "c74c4e4e",
   "metadata": {},
   "outputs": [
    {
     "data": {
      "image/png": "[encoded data removed]",
      "text/plain": [
       "<Figure size 640x480 with 1 Axes>"
      ]
     },
     "metadata": {},
     "output_type": "display_data"
    }
   ],
   "source": [
    "ax=combinedf.Item_Type.value_counts().plot(kind='bar')\n",
    "for i in ax.containers:\n",
    "    ax.bar_label(i,fmt=\"%0.0f\",fontsize=8)"
   ]
  },
  {
   "cell_type": "code",
   "execution_count": 42,
   "id": "43585d9c",
   "metadata": {},
   "outputs": [
    {
     "data": {
      "image/png": "[encoded data removed]",
      "text/plain": [
       "<Figure size 640x480 with 1 Axes>"
      ]
     },
     "metadata": {},
     "output_type": "display_data"
    }
   ],
   "source": [
    "ax=combinedf.Outlet_Identifier.value_counts().plot(kind='bar')\n",
    "for i in ax.containers:\n",
    "    ax.bar_label(i,fmt=\"%0.0f\",fontsize=8)"
   ]
  },
  {
   "cell_type": "code",
   "execution_count": 43,
   "id": "2b23e799",
   "metadata": {},
   "outputs": [
    {
     "name": "stdout",
     "output_type": "stream",
     "text": [
      "Medium     4655\n",
      "Missing    4016\n",
      "Small      3980\n",
      "High       1553\n",
      "Name: Outlet_Size, dtype: int64\n"
     ]
    },
    {
     "data": {
      "text/plain": [
       "<Axes: ylabel='Outlet_Size'>"
      ]
     },
     "execution_count": 43,
     "metadata": {},
     "output_type": "execute_result"
    },
    {
     "data": {
      "image/png": "[encoded data removed]",
      "text/plain": [
       "<Figure size 640x480 with 1 Axes>"
      ]
     },
     "metadata": {},
     "output_type": "display_data"
    }
   ],
   "source": [
    "print(combinedf.Outlet_Size.value_counts())\n",
    "combinedf.Outlet_Size.value_counts().plot(kind='pie',autopct='%.2f%%')"
   ]
  },
  {
   "cell_type": "code",
   "execution_count": 44,
   "id": "b89621be",
   "metadata": {},
   "outputs": [
    {
     "name": "stdout",
     "output_type": "stream",
     "text": [
      "Tier 3    5583\n",
      "Tier 2    4641\n",
      "Tier 1    3980\n",
      "Name: Outlet_Location_Type, dtype: int64\n"
     ]
    },
    {
     "data": {
      "text/plain": [
       "<Axes: ylabel='Outlet_Location_Type'>"
      ]
     },
     "execution_count": 44,
     "metadata": {},
     "output_type": "execute_result"
    },
    {
     "data": {
      "image/png": "[encoded data removed]",
      "text/plain": [
       "<Figure size 640x480 with 1 Axes>"
      ]
     },
     "metadata": {},
     "output_type": "display_data"
    }
   ],
   "source": [
    "print(combinedf.Outlet_Location_Type.value_counts())\n",
    "combinedf.Outlet_Location_Type.value_counts().plot(kind='pie',autopct='%.2f%%')"
   ]
  },
  {
   "cell_type": "code",
   "execution_count": 45,
   "id": "de4ef3c7",
   "metadata": {},
   "outputs": [
    {
     "name": "stdout",
     "output_type": "stream",
     "text": [
      "Supermarket Type1    9294\n",
      "Grocery Store        1805\n",
      "Supermarket Type3    1559\n",
      "Supermarket Type2    1546\n",
      "Name: Outlet_Type, dtype: int64\n"
     ]
    },
    {
     "data": {
      "text/plain": [
       "<Axes: ylabel='Outlet_Type'>"
      ]
     },
     "execution_count": 45,
     "metadata": {},
     "output_type": "execute_result"
    },
    {
     "data": {
      "image/png": "[encoded data removed]",
      "text/plain": [
       "<Figure size 640x480 with 1 Axes>"
      ]
     },
     "metadata": {},
     "output_type": "display_data"
    }
   ],
   "source": [
    "print(combinedf.Outlet_Type.value_counts())\n",
    "combinedf.Outlet_Type.value_counts().plot(kind='pie',autopct='%.2f%%')"
   ]
  },
  {
   "cell_type": "code",
   "execution_count": 46,
   "id": "414db117",
   "metadata": {},
   "outputs": [
    {
     "data": {
      "text/html": [
       "<div>\n",
       "<style scoped>\n",
       "    .dataframe tbody tr th:only-of-type {\n",
       "        vertical-align: middle;\n",
       "    }\n",
       "\n",
       "    .dataframe tbody tr th {\n",
       "        vertical-align: top;\n",
       "    }\n",
       "\n",
       "    .dataframe thead th {\n",
       "        text-align: right;\n",
       "    }\n",
       "</style>\n",
       "<table border=\"1\" class=\"dataframe\">\n",
       "  <thead>\n",
       "    <tr style=\"text-align: right;\">\n",
       "      <th>Item_Fat_Content</th>\n",
       "      <th>Low Fat</th>\n",
       "      <th>Non-Edible</th>\n",
       "      <th>Regular</th>\n",
       "    </tr>\n",
       "    <tr>\n",
       "      <th>Item_code</th>\n",
       "      <th></th>\n",
       "      <th></th>\n",
       "      <th></th>\n",
       "    </tr>\n",
       "  </thead>\n",
       "  <tbody>\n",
       "    <tr>\n",
       "      <th>DR</th>\n",
       "      <td>1208</td>\n",
       "      <td>0</td>\n",
       "      <td>109</td>\n",
       "    </tr>\n",
       "    <tr>\n",
       "      <th>FD</th>\n",
       "      <td>5291</td>\n",
       "      <td>0</td>\n",
       "      <td>4910</td>\n",
       "    </tr>\n",
       "    <tr>\n",
       "      <th>NC</th>\n",
       "      <td>0</td>\n",
       "      <td>2686</td>\n",
       "      <td>0</td>\n",
       "    </tr>\n",
       "  </tbody>\n",
       "</table>\n",
       "</div>"
      ],
      "text/plain": [
       "Item_Fat_Content  Low Fat  Non-Edible  Regular\n",
       "Item_code                                     \n",
       "DR                   1208           0      109\n",
       "FD                   5291           0     4910\n",
       "NC                      0        2686        0"
      ]
     },
     "execution_count": 46,
     "metadata": {},
     "output_type": "execute_result"
    }
   ],
   "source": [
    "#crosstabulation\n",
    "pd.crosstab(combinedf.Item_code,combinedf.Item_Fat_Content)"
   ]
  },
  {
   "cell_type": "code",
   "execution_count": 47,
   "id": "207f7395",
   "metadata": {},
   "outputs": [
    {
     "data": {
      "text/html": [
       "<div>\n",
       "<style scoped>\n",
       "    .dataframe tbody tr th:only-of-type {\n",
       "        vertical-align: middle;\n",
       "    }\n",
       "\n",
       "    .dataframe tbody tr th {\n",
       "        vertical-align: top;\n",
       "    }\n",
       "\n",
       "    .dataframe thead th {\n",
       "        text-align: right;\n",
       "    }\n",
       "</style>\n",
       "<table border=\"1\" class=\"dataframe\">\n",
       "  <thead>\n",
       "    <tr style=\"text-align: right;\">\n",
       "      <th>Item_Fat_Content</th>\n",
       "      <th>Low Fat</th>\n",
       "      <th>Non-Edible</th>\n",
       "      <th>Regular</th>\n",
       "    </tr>\n",
       "    <tr>\n",
       "      <th>Item_Type</th>\n",
       "      <th></th>\n",
       "      <th></th>\n",
       "      <th></th>\n",
       "    </tr>\n",
       "  </thead>\n",
       "  <tbody>\n",
       "    <tr>\n",
       "      <th>Baking Goods</th>\n",
       "      <td>542</td>\n",
       "      <td>0</td>\n",
       "      <td>544</td>\n",
       "    </tr>\n",
       "    <tr>\n",
       "      <th>Breads</th>\n",
       "      <td>222</td>\n",
       "      <td>0</td>\n",
       "      <td>194</td>\n",
       "    </tr>\n",
       "    <tr>\n",
       "      <th>Breakfast</th>\n",
       "      <td>66</td>\n",
       "      <td>0</td>\n",
       "      <td>120</td>\n",
       "    </tr>\n",
       "    <tr>\n",
       "      <th>Canned</th>\n",
       "      <td>549</td>\n",
       "      <td>0</td>\n",
       "      <td>535</td>\n",
       "    </tr>\n",
       "    <tr>\n",
       "      <th>Dairy</th>\n",
       "      <td>691</td>\n",
       "      <td>0</td>\n",
       "      <td>445</td>\n",
       "    </tr>\n",
       "    <tr>\n",
       "      <th>Frozen Foods</th>\n",
       "      <td>731</td>\n",
       "      <td>0</td>\n",
       "      <td>695</td>\n",
       "    </tr>\n",
       "    <tr>\n",
       "      <th>Fruits and Vegetables</th>\n",
       "      <td>1086</td>\n",
       "      <td>0</td>\n",
       "      <td>927</td>\n",
       "    </tr>\n",
       "    <tr>\n",
       "      <th>Hard Drinks</th>\n",
       "      <td>362</td>\n",
       "      <td>0</td>\n",
       "      <td>0</td>\n",
       "    </tr>\n",
       "    <tr>\n",
       "      <th>Health and Hygiene</th>\n",
       "      <td>0</td>\n",
       "      <td>858</td>\n",
       "      <td>0</td>\n",
       "    </tr>\n",
       "    <tr>\n",
       "      <th>Household</th>\n",
       "      <td>0</td>\n",
       "      <td>1548</td>\n",
       "      <td>0</td>\n",
       "    </tr>\n",
       "    <tr>\n",
       "      <th>Meat</th>\n",
       "      <td>282</td>\n",
       "      <td>0</td>\n",
       "      <td>454</td>\n",
       "    </tr>\n",
       "    <tr>\n",
       "      <th>Others</th>\n",
       "      <td>0</td>\n",
       "      <td>280</td>\n",
       "      <td>0</td>\n",
       "    </tr>\n",
       "    <tr>\n",
       "      <th>Seafood</th>\n",
       "      <td>53</td>\n",
       "      <td>0</td>\n",
       "      <td>36</td>\n",
       "    </tr>\n",
       "    <tr>\n",
       "      <th>Snack Foods</th>\n",
       "      <td>1141</td>\n",
       "      <td>0</td>\n",
       "      <td>848</td>\n",
       "    </tr>\n",
       "    <tr>\n",
       "      <th>Soft Drinks</th>\n",
       "      <td>617</td>\n",
       "      <td>0</td>\n",
       "      <td>109</td>\n",
       "    </tr>\n",
       "    <tr>\n",
       "      <th>Starchy Foods</th>\n",
       "      <td>157</td>\n",
       "      <td>0</td>\n",
       "      <td>112</td>\n",
       "    </tr>\n",
       "  </tbody>\n",
       "</table>\n",
       "</div>"
      ],
      "text/plain": [
       "Item_Fat_Content       Low Fat  Non-Edible  Regular\n",
       "Item_Type                                          \n",
       "Baking Goods               542           0      544\n",
       "Breads                     222           0      194\n",
       "Breakfast                   66           0      120\n",
       "Canned                     549           0      535\n",
       "Dairy                      691           0      445\n",
       "Frozen Foods               731           0      695\n",
       "Fruits and Vegetables     1086           0      927\n",
       "Hard Drinks                362           0        0\n",
       "Health and Hygiene           0         858        0\n",
       "Household                    0        1548        0\n",
       "Meat                       282           0      454\n",
       "Others                       0         280        0\n",
       "Seafood                     53           0       36\n",
       "Snack Foods               1141           0      848\n",
       "Soft Drinks                617           0      109\n",
       "Starchy Foods              157           0      112"
      ]
     },
     "execution_count": 47,
     "metadata": {},
     "output_type": "execute_result"
    }
   ],
   "source": [
    "pd.crosstab(combinedf.Item_Type,combinedf.Item_Fat_Content)"
   ]
  },
  {
   "cell_type": "code",
   "execution_count": 48,
   "id": "02b1f323",
   "metadata": {},
   "outputs": [
    {
     "data": {
      "text/html": [
       "<div>\n",
       "<style scoped>\n",
       "    .dataframe tbody tr th:only-of-type {\n",
       "        vertical-align: middle;\n",
       "    }\n",
       "\n",
       "    .dataframe tbody tr th {\n",
       "        vertical-align: top;\n",
       "    }\n",
       "\n",
       "    .dataframe thead th {\n",
       "        text-align: right;\n",
       "    }\n",
       "</style>\n",
       "<table border=\"1\" class=\"dataframe\">\n",
       "  <thead>\n",
       "    <tr style=\"text-align: right;\">\n",
       "      <th>Outlet_Type</th>\n",
       "      <th>Grocery Store</th>\n",
       "      <th>Supermarket Type1</th>\n",
       "      <th>Supermarket Type2</th>\n",
       "      <th>Supermarket Type3</th>\n",
       "    </tr>\n",
       "    <tr>\n",
       "      <th>Outlet_Size</th>\n",
       "      <th></th>\n",
       "      <th></th>\n",
       "      <th></th>\n",
       "      <th></th>\n",
       "    </tr>\n",
       "  </thead>\n",
       "  <tbody>\n",
       "    <tr>\n",
       "      <th>High</th>\n",
       "      <td>0</td>\n",
       "      <td>1553</td>\n",
       "      <td>0</td>\n",
       "      <td>0</td>\n",
       "    </tr>\n",
       "    <tr>\n",
       "      <th>Medium</th>\n",
       "      <td>0</td>\n",
       "      <td>1550</td>\n",
       "      <td>1546</td>\n",
       "      <td>1559</td>\n",
       "    </tr>\n",
       "    <tr>\n",
       "      <th>Missing</th>\n",
       "      <td>925</td>\n",
       "      <td>3091</td>\n",
       "      <td>0</td>\n",
       "      <td>0</td>\n",
       "    </tr>\n",
       "    <tr>\n",
       "      <th>Small</th>\n",
       "      <td>880</td>\n",
       "      <td>3100</td>\n",
       "      <td>0</td>\n",
       "      <td>0</td>\n",
       "    </tr>\n",
       "  </tbody>\n",
       "</table>\n",
       "</div>"
      ],
      "text/plain": [
       "Outlet_Type  Grocery Store  Supermarket Type1  Supermarket Type2  \\\n",
       "Outlet_Size                                                        \n",
       "High                     0               1553                  0   \n",
       "Medium                   0               1550               1546   \n",
       "Missing                925               3091                  0   \n",
       "Small                  880               3100                  0   \n",
       "\n",
       "Outlet_Type  Supermarket Type3  \n",
       "Outlet_Size                     \n",
       "High                         0  \n",
       "Medium                    1559  \n",
       "Missing                      0  \n",
       "Small                        0  "
      ]
     },
     "execution_count": 48,
     "metadata": {},
     "output_type": "execute_result"
    }
   ],
   "source": [
    "pd.crosstab(combinedf.Outlet_Size,combinedf.Outlet_Type)"
   ]
  },
  {
   "cell_type": "code",
   "execution_count": 49,
   "id": "15ae6ac3",
   "metadata": {},
   "outputs": [
    {
     "data": {
      "text/html": [
       "<div>\n",
       "<style scoped>\n",
       "    .dataframe tbody tr th:only-of-type {\n",
       "        vertical-align: middle;\n",
       "    }\n",
       "\n",
       "    .dataframe tbody tr th {\n",
       "        vertical-align: top;\n",
       "    }\n",
       "\n",
       "    .dataframe thead th {\n",
       "        text-align: right;\n",
       "    }\n",
       "</style>\n",
       "<table border=\"1\" class=\"dataframe\">\n",
       "  <thead>\n",
       "    <tr style=\"text-align: right;\">\n",
       "      <th>Outlet_Location_Type</th>\n",
       "      <th>Tier 1</th>\n",
       "      <th>Tier 2</th>\n",
       "      <th>Tier 3</th>\n",
       "    </tr>\n",
       "    <tr>\n",
       "      <th>Outlet_Type</th>\n",
       "      <th></th>\n",
       "      <th></th>\n",
       "      <th></th>\n",
       "    </tr>\n",
       "  </thead>\n",
       "  <tbody>\n",
       "    <tr>\n",
       "      <th>Grocery Store</th>\n",
       "      <td>880</td>\n",
       "      <td>0</td>\n",
       "      <td>925</td>\n",
       "    </tr>\n",
       "    <tr>\n",
       "      <th>Supermarket Type1</th>\n",
       "      <td>3100</td>\n",
       "      <td>4641</td>\n",
       "      <td>1553</td>\n",
       "    </tr>\n",
       "    <tr>\n",
       "      <th>Supermarket Type2</th>\n",
       "      <td>0</td>\n",
       "      <td>0</td>\n",
       "      <td>1546</td>\n",
       "    </tr>\n",
       "    <tr>\n",
       "      <th>Supermarket Type3</th>\n",
       "      <td>0</td>\n",
       "      <td>0</td>\n",
       "      <td>1559</td>\n",
       "    </tr>\n",
       "  </tbody>\n",
       "</table>\n",
       "</div>"
      ],
      "text/plain": [
       "Outlet_Location_Type  Tier 1  Tier 2  Tier 3\n",
       "Outlet_Type                                 \n",
       "Grocery Store            880       0     925\n",
       "Supermarket Type1       3100    4641    1553\n",
       "Supermarket Type2          0       0    1546\n",
       "Supermarket Type3          0       0    1559"
      ]
     },
     "execution_count": 49,
     "metadata": {},
     "output_type": "execute_result"
    }
   ],
   "source": [
    "pd.crosstab(combinedf.Outlet_Type,combinedf.Outlet_Location_Type)"
   ]
  },
  {
   "cell_type": "code",
   "execution_count": 50,
   "id": "40771667",
   "metadata": {},
   "outputs": [
    {
     "data": {
      "text/plain": [
       "Item_Type\n",
       "Baking Goods             12.363868\n",
       "Breads                   11.440236\n",
       "Breakfast                13.108506\n",
       "Canned                   12.418391\n",
       "Dairy                    13.161885\n",
       "Frozen Foods             12.608669\n",
       "Fruits and Vegetables    13.125386\n",
       "Hard Drinks              11.774498\n",
       "Health and Hygiene       13.106384\n",
       "Household                13.245362\n",
       "Meat                     12.770792\n",
       "Others                   13.707191\n",
       "Seafood                  12.766131\n",
       "Snack Foods              12.853421\n",
       "Soft Drinks              11.958583\n",
       "Starchy Foods            13.524405\n",
       "Name: Item_Weight, dtype: float64"
      ]
     },
     "execution_count": 50,
     "metadata": {},
     "output_type": "execute_result"
    }
   ],
   "source": [
    "#groupby mean\n",
    "combinedf.Item_Weight.groupby(combinedf.Item_Type).mean()"
   ]
  },
  {
   "cell_type": "code",
   "execution_count": null,
   "id": "3892579a",
   "metadata": {},
   "outputs": [],
   "source": []
  },
  {
   "cell_type": "markdown",
   "id": "696a2912",
   "metadata": {},
   "source": [
    "### Spliting data into numeric cols and object cols\n",
    "\n",
    "We are spliting the data into numeric columns and object columns, to scale the data for numeric columns and imputing the dummies in object such each every data can be in 0's and 1's for building the Machine Learning models.\n"
   ]
  },
  {
   "cell_type": "code",
   "execution_count": 51,
   "id": "f7f3ef19",
   "metadata": {},
   "outputs": [],
   "source": [
    "numcols=combinedf.select_dtypes(include=np.number)\n",
    "objcols=combinedf.select_dtypes(include=['object'])"
   ]
  },
  {
   "cell_type": "code",
   "execution_count": 52,
   "id": "d162e646",
   "metadata": {},
   "outputs": [
    {
     "data": {
      "text/plain": [
       "Index(['Item_Weight', 'Item_Visibility', 'Item_MRP', 'Outlet_Age'], dtype='object')"
      ]
     },
     "execution_count": 52,
     "metadata": {},
     "output_type": "execute_result"
    }
   ],
   "source": [
    "numcols.columns"
   ]
  },
  {
   "cell_type": "code",
   "execution_count": 53,
   "id": "e6883c67",
   "metadata": {},
   "outputs": [
    {
     "data": {
      "text/plain": [
       "Index(['Item_Fat_Content', 'Item_Type', 'Outlet_Identifier', 'Outlet_Size',\n",
       "       'Outlet_Location_Type', 'Outlet_Type', 'Item_Outlet_Sales',\n",
       "       'Item_code'],\n",
       "      dtype='object')"
      ]
     },
     "execution_count": 53,
     "metadata": {},
     "output_type": "execute_result"
    }
   ],
   "source": [
    "objcols.columns"
   ]
  },
  {
   "cell_type": "code",
   "execution_count": 54,
   "id": "ef72effa",
   "metadata": {},
   "outputs": [
    {
     "data": {
      "text/html": [
       "<div>\n",
       "<style scoped>\n",
       "    .dataframe tbody tr th:only-of-type {\n",
       "        vertical-align: middle;\n",
       "    }\n",
       "\n",
       "    .dataframe tbody tr th {\n",
       "        vertical-align: top;\n",
       "    }\n",
       "\n",
       "    .dataframe thead th {\n",
       "        text-align: right;\n",
       "    }\n",
       "</style>\n",
       "<table border=\"1\" class=\"dataframe\">\n",
       "  <thead>\n",
       "    <tr style=\"text-align: right;\">\n",
       "      <th></th>\n",
       "      <th>Item_Weight</th>\n",
       "      <th>Item_Visibility</th>\n",
       "      <th>Item_MRP</th>\n",
       "      <th>Outlet_Age</th>\n",
       "    </tr>\n",
       "  </thead>\n",
       "  <tbody>\n",
       "    <tr>\n",
       "      <th>0</th>\n",
       "      <td>9.30</td>\n",
       "      <td>0.016047</td>\n",
       "      <td>249.8092</td>\n",
       "      <td>23</td>\n",
       "    </tr>\n",
       "    <tr>\n",
       "      <th>1</th>\n",
       "      <td>5.92</td>\n",
       "      <td>0.019278</td>\n",
       "      <td>48.2692</td>\n",
       "      <td>13</td>\n",
       "    </tr>\n",
       "    <tr>\n",
       "      <th>2</th>\n",
       "      <td>17.50</td>\n",
       "      <td>0.016760</td>\n",
       "      <td>141.6180</td>\n",
       "      <td>23</td>\n",
       "    </tr>\n",
       "    <tr>\n",
       "      <th>3</th>\n",
       "      <td>19.20</td>\n",
       "      <td>0.000000</td>\n",
       "      <td>182.0950</td>\n",
       "      <td>24</td>\n",
       "    </tr>\n",
       "    <tr>\n",
       "      <th>4</th>\n",
       "      <td>8.93</td>\n",
       "      <td>0.000000</td>\n",
       "      <td>53.8614</td>\n",
       "      <td>35</td>\n",
       "    </tr>\n",
       "  </tbody>\n",
       "</table>\n",
       "</div>"
      ],
      "text/plain": [
       "   Item_Weight  Item_Visibility  Item_MRP  Outlet_Age\n",
       "0         9.30         0.016047  249.8092          23\n",
       "1         5.92         0.019278   48.2692          13\n",
       "2        17.50         0.016760  141.6180          23\n",
       "3        19.20         0.000000  182.0950          24\n",
       "4         8.93         0.000000   53.8614          35"
      ]
     },
     "execution_count": 54,
     "metadata": {},
     "output_type": "execute_result"
    }
   ],
   "source": [
    "numcols.head()"
   ]
  },
  {
   "cell_type": "code",
   "execution_count": 55,
   "id": "c43becfd",
   "metadata": {},
   "outputs": [],
   "source": [
    "#standard scaler\n",
    "from sklearn.preprocessing import StandardScaler"
   ]
  },
  {
   "cell_type": "code",
   "execution_count": 56,
   "id": "c20f87ba",
   "metadata": {},
   "outputs": [],
   "source": [
    "scaler=StandardScaler()"
   ]
  },
  {
   "cell_type": "code",
   "execution_count": 57,
   "id": "fc3a7bb4",
   "metadata": {},
   "outputs": [],
   "source": [
    "numcols_scaled=scaler.fit_transform(numcols)"
   ]
  },
  {
   "cell_type": "code",
   "execution_count": 58,
   "id": "413bf0e0",
   "metadata": {},
   "outputs": [],
   "source": [
    "numcols_scaled=pd.DataFrame(numcols_scaled,columns=numcols.columns)"
   ]
  },
  {
   "cell_type": "code",
   "execution_count": 59,
   "id": "027bf394",
   "metadata": {},
   "outputs": [
    {
     "data": {
      "text/html": [
       "<div>\n",
       "<style scoped>\n",
       "    .dataframe tbody tr th:only-of-type {\n",
       "        vertical-align: middle;\n",
       "    }\n",
       "\n",
       "    .dataframe tbody tr th {\n",
       "        vertical-align: top;\n",
       "    }\n",
       "\n",
       "    .dataframe thead th {\n",
       "        text-align: right;\n",
       "    }\n",
       "</style>\n",
       "<table border=\"1\" class=\"dataframe\">\n",
       "  <thead>\n",
       "    <tr style=\"text-align: right;\">\n",
       "      <th></th>\n",
       "      <th>Item_Weight</th>\n",
       "      <th>Item_Visibility</th>\n",
       "      <th>Item_MRP</th>\n",
       "      <th>Outlet_Age</th>\n",
       "    </tr>\n",
       "  </thead>\n",
       "  <tbody>\n",
       "    <tr>\n",
       "      <th>0</th>\n",
       "      <td>-0.824939</td>\n",
       "      <td>-0.969852</td>\n",
       "      <td>1.752511</td>\n",
       "      <td>-0.139681</td>\n",
       "    </tr>\n",
       "    <tr>\n",
       "      <th>1</th>\n",
       "      <td>-1.623224</td>\n",
       "      <td>-0.907063</td>\n",
       "      <td>-1.493696</td>\n",
       "      <td>-1.334228</td>\n",
       "    </tr>\n",
       "    <tr>\n",
       "      <th>2</th>\n",
       "      <td>1.111729</td>\n",
       "      <td>-0.956000</td>\n",
       "      <td>0.009874</td>\n",
       "      <td>-0.139681</td>\n",
       "    </tr>\n",
       "    <tr>\n",
       "      <th>3</th>\n",
       "      <td>1.513233</td>\n",
       "      <td>-1.281712</td>\n",
       "      <td>0.661838</td>\n",
       "      <td>-0.020226</td>\n",
       "    </tr>\n",
       "    <tr>\n",
       "      <th>4</th>\n",
       "      <td>-0.912325</td>\n",
       "      <td>-1.281712</td>\n",
       "      <td>-1.403623</td>\n",
       "      <td>1.293777</td>\n",
       "    </tr>\n",
       "  </tbody>\n",
       "</table>\n",
       "</div>"
      ],
      "text/plain": [
       "   Item_Weight  Item_Visibility  Item_MRP  Outlet_Age\n",
       "0    -0.824939        -0.969852  1.752511   -0.139681\n",
       "1    -1.623224        -0.907063 -1.493696   -1.334228\n",
       "2     1.111729        -0.956000  0.009874   -0.139681\n",
       "3     1.513233        -1.281712  0.661838   -0.020226\n",
       "4    -0.912325        -1.281712 -1.403623    1.293777"
      ]
     },
     "execution_count": 59,
     "metadata": {},
     "output_type": "execute_result"
    }
   ],
   "source": [
    "numcols_scaled.head()"
   ]
  },
  {
   "cell_type": "code",
   "execution_count": 60,
   "id": "39ffd1ff",
   "metadata": {},
   "outputs": [],
   "source": [
    "from sklearn.preprocessing import MinMaxScaler"
   ]
  },
  {
   "cell_type": "code",
   "execution_count": 61,
   "id": "81b3f879",
   "metadata": {},
   "outputs": [],
   "source": [
    "minmax=MinMaxScaler()"
   ]
  },
  {
   "cell_type": "code",
   "execution_count": 62,
   "id": "c0e018ff",
   "metadata": {},
   "outputs": [],
   "source": [
    "numcols_minmax=minmax.fit_transform(numcols)"
   ]
  },
  {
   "cell_type": "code",
   "execution_count": 63,
   "id": "d685371c",
   "metadata": {},
   "outputs": [],
   "source": [
    "numcols_minmax=pd.DataFrame(numcols_minmax,columns=numcols.columns)"
   ]
  },
  {
   "cell_type": "code",
   "execution_count": 64,
   "id": "7ed913cc",
   "metadata": {},
   "outputs": [
    {
     "data": {
      "text/html": [
       "<div>\n",
       "<style scoped>\n",
       "    .dataframe tbody tr th:only-of-type {\n",
       "        vertical-align: middle;\n",
       "    }\n",
       "\n",
       "    .dataframe tbody tr th {\n",
       "        vertical-align: top;\n",
       "    }\n",
       "\n",
       "    .dataframe thead th {\n",
       "        text-align: right;\n",
       "    }\n",
       "</style>\n",
       "<table border=\"1\" class=\"dataframe\">\n",
       "  <thead>\n",
       "    <tr style=\"text-align: right;\">\n",
       "      <th></th>\n",
       "      <th>Item_Weight</th>\n",
       "      <th>Item_Visibility</th>\n",
       "      <th>Item_MRP</th>\n",
       "      <th>Outlet_Age</th>\n",
       "    </tr>\n",
       "  </thead>\n",
       "  <tbody>\n",
       "    <tr>\n",
       "      <th>0</th>\n",
       "      <td>0.282525</td>\n",
       "      <td>0.048866</td>\n",
       "      <td>0.927507</td>\n",
       "      <td>0.416667</td>\n",
       "    </tr>\n",
       "    <tr>\n",
       "      <th>1</th>\n",
       "      <td>0.081274</td>\n",
       "      <td>0.058705</td>\n",
       "      <td>0.072068</td>\n",
       "      <td>0.000000</td>\n",
       "    </tr>\n",
       "    <tr>\n",
       "      <th>2</th>\n",
       "      <td>0.770765</td>\n",
       "      <td>0.051037</td>\n",
       "      <td>0.468288</td>\n",
       "      <td>0.416667</td>\n",
       "    </tr>\n",
       "    <tr>\n",
       "      <th>3</th>\n",
       "      <td>0.871986</td>\n",
       "      <td>0.000000</td>\n",
       "      <td>0.640093</td>\n",
       "      <td>0.458333</td>\n",
       "    </tr>\n",
       "    <tr>\n",
       "      <th>4</th>\n",
       "      <td>0.260494</td>\n",
       "      <td>0.000000</td>\n",
       "      <td>0.095805</td>\n",
       "      <td>0.916667</td>\n",
       "    </tr>\n",
       "  </tbody>\n",
       "</table>\n",
       "</div>"
      ],
      "text/plain": [
       "   Item_Weight  Item_Visibility  Item_MRP  Outlet_Age\n",
       "0     0.282525         0.048866  0.927507    0.416667\n",
       "1     0.081274         0.058705  0.072068    0.000000\n",
       "2     0.770765         0.051037  0.468288    0.416667\n",
       "3     0.871986         0.000000  0.640093    0.458333\n",
       "4     0.260494         0.000000  0.095805    0.916667"
      ]
     },
     "execution_count": 64,
     "metadata": {},
     "output_type": "execute_result"
    }
   ],
   "source": [
    "numcols_minmax.head()"
   ]
  },
  {
   "cell_type": "code",
   "execution_count": 65,
   "id": "e345f285",
   "metadata": {},
   "outputs": [],
   "source": [
    "from sklearn.preprocessing import RobustScaler"
   ]
  },
  {
   "cell_type": "code",
   "execution_count": 66,
   "id": "00622de6",
   "metadata": {},
   "outputs": [],
   "source": [
    "robust=RobustScaler()"
   ]
  },
  {
   "cell_type": "code",
   "execution_count": 67,
   "id": "3d40339e",
   "metadata": {},
   "outputs": [],
   "source": [
    "numcols_robust=robust.fit_transform(numcols)"
   ]
  },
  {
   "cell_type": "code",
   "execution_count": 68,
   "id": "6f3da09d",
   "metadata": {},
   "outputs": [],
   "source": [
    "numcols_robust=pd.DataFrame(numcols_robust,columns=numcols.columns)"
   ]
  },
  {
   "cell_type": "code",
   "execution_count": 69,
   "id": "a687a483",
   "metadata": {},
   "outputs": [
    {
     "data": {
      "text/html": [
       "<div>\n",
       "<style scoped>\n",
       "    .dataframe tbody tr th:only-of-type {\n",
       "        vertical-align: middle;\n",
       "    }\n",
       "\n",
       "    .dataframe tbody tr th {\n",
       "        vertical-align: top;\n",
       "    }\n",
       "\n",
       "    .dataframe thead th {\n",
       "        text-align: right;\n",
       "    }\n",
       "</style>\n",
       "<table border=\"1\" class=\"dataframe\">\n",
       "  <thead>\n",
       "    <tr style=\"text-align: right;\">\n",
       "      <th></th>\n",
       "      <th>Item_Weight</th>\n",
       "      <th>Item_Visibility</th>\n",
       "      <th>Item_MRP</th>\n",
       "      <th>Outlet_Age</th>\n",
       "    </tr>\n",
       "  </thead>\n",
       "  <tbody>\n",
       "    <tr>\n",
       "      <th>0</th>\n",
       "      <td>-0.521322</td>\n",
       "      <td>-0.566751</td>\n",
       "      <td>1.171145</td>\n",
       "      <td>0.000000</td>\n",
       "    </tr>\n",
       "    <tr>\n",
       "      <th>1</th>\n",
       "      <td>-1.025799</td>\n",
       "      <td>-0.518530</td>\n",
       "      <td>-1.023237</td>\n",
       "      <td>-0.588235</td>\n",
       "    </tr>\n",
       "    <tr>\n",
       "      <th>2</th>\n",
       "      <td>0.702559</td>\n",
       "      <td>-0.556113</td>\n",
       "      <td>-0.006849</td>\n",
       "      <td>0.000000</td>\n",
       "    </tr>\n",
       "    <tr>\n",
       "      <th>3</th>\n",
       "      <td>0.956290</td>\n",
       "      <td>-0.806258</td>\n",
       "      <td>0.433868</td>\n",
       "      <td>0.058824</td>\n",
       "    </tr>\n",
       "    <tr>\n",
       "      <th>4</th>\n",
       "      <td>-0.576545</td>\n",
       "      <td>-0.806258</td>\n",
       "      <td>-0.962349</td>\n",
       "      <td>0.705882</td>\n",
       "    </tr>\n",
       "  </tbody>\n",
       "</table>\n",
       "</div>"
      ],
      "text/plain": [
       "   Item_Weight  Item_Visibility  Item_MRP  Outlet_Age\n",
       "0    -0.521322        -0.566751  1.171145    0.000000\n",
       "1    -1.025799        -0.518530 -1.023237   -0.588235\n",
       "2     0.702559        -0.556113 -0.006849    0.000000\n",
       "3     0.956290        -0.806258  0.433868    0.058824\n",
       "4    -0.576545        -0.806258 -0.962349    0.705882"
      ]
     },
     "execution_count": 69,
     "metadata": {},
     "output_type": "execute_result"
    }
   ],
   "source": [
    "numcols_robust.head()"
   ]
  },
  {
   "cell_type": "code",
   "execution_count": 70,
   "id": "52372d4d",
   "metadata": {},
   "outputs": [
    {
     "data": {
      "text/plain": [
       "<Axes: >"
      ]
     },
     "execution_count": 70,
     "metadata": {},
     "output_type": "execute_result"
    },
    {
     "data": {
      "image/png": "[encoded data removed]",
      "text/plain": [
       "<Figure size 640x480 with 1 Axes>"
      ]
     },
     "metadata": {},
     "output_type": "display_data"
    }
   ],
   "source": [
    "sns.boxplot(numcols,orient='h')"
   ]
  },
  {
   "cell_type": "code",
   "execution_count": 71,
   "id": "61df5128",
   "metadata": {},
   "outputs": [
    {
     "data": {
      "text/plain": [
       "Index(['Item_Weight', 'Item_Visibility', 'Item_MRP', 'Outlet_Age'], dtype='object')"
      ]
     },
     "execution_count": 71,
     "metadata": {},
     "output_type": "execute_result"
    }
   ],
   "source": [
    "numcols.columns"
   ]
  },
  {
   "cell_type": "code",
   "execution_count": 72,
   "id": "4480625b",
   "metadata": {},
   "outputs": [
    {
     "data": {
      "text/html": [
       "<div>\n",
       "<style scoped>\n",
       "    .dataframe tbody tr th:only-of-type {\n",
       "        vertical-align: middle;\n",
       "    }\n",
       "\n",
       "    .dataframe tbody tr th {\n",
       "        vertical-align: top;\n",
       "    }\n",
       "\n",
       "    .dataframe thead th {\n",
       "        text-align: right;\n",
       "    }\n",
       "</style>\n",
       "<table border=\"1\" class=\"dataframe\">\n",
       "  <thead>\n",
       "    <tr style=\"text-align: right;\">\n",
       "      <th></th>\n",
       "      <th>Item_Weight</th>\n",
       "      <th>Item_Visibility</th>\n",
       "      <th>Item_MRP</th>\n",
       "      <th>Outlet_Age</th>\n",
       "    </tr>\n",
       "  </thead>\n",
       "  <tbody>\n",
       "    <tr>\n",
       "      <th>Item_Weight</th>\n",
       "      <td>1.000000</td>\n",
       "      <td>-0.013641</td>\n",
       "      <td>0.033002</td>\n",
       "      <td>-0.000462</td>\n",
       "    </tr>\n",
       "    <tr>\n",
       "      <th>Item_Visibility</th>\n",
       "      <td>-0.013641</td>\n",
       "      <td>1.000000</td>\n",
       "      <td>-0.006351</td>\n",
       "      <td>0.083678</td>\n",
       "    </tr>\n",
       "    <tr>\n",
       "      <th>Item_MRP</th>\n",
       "      <td>0.033002</td>\n",
       "      <td>-0.006351</td>\n",
       "      <td>1.000000</td>\n",
       "      <td>-0.000141</td>\n",
       "    </tr>\n",
       "    <tr>\n",
       "      <th>Outlet_Age</th>\n",
       "      <td>-0.000462</td>\n",
       "      <td>0.083678</td>\n",
       "      <td>-0.000141</td>\n",
       "      <td>1.000000</td>\n",
       "    </tr>\n",
       "  </tbody>\n",
       "</table>\n",
       "</div>"
      ],
      "text/plain": [
       "                 Item_Weight  Item_Visibility  Item_MRP  Outlet_Age\n",
       "Item_Weight         1.000000        -0.013641  0.033002   -0.000462\n",
       "Item_Visibility    -0.013641         1.000000 -0.006351    0.083678\n",
       "Item_MRP            0.033002        -0.006351  1.000000   -0.000141\n",
       "Outlet_Age         -0.000462         0.083678 -0.000141    1.000000"
      ]
     },
     "execution_count": 72,
     "metadata": {},
     "output_type": "execute_result"
    }
   ],
   "source": [
    "numcols.corr()"
   ]
  },
  {
   "cell_type": "code",
   "execution_count": 73,
   "id": "b0c35046",
   "metadata": {},
   "outputs": [
    {
     "data": {
      "text/plain": [
       "Index(['Item_Fat_Content', 'Item_Type', 'Outlet_Identifier', 'Outlet_Size',\n",
       "       'Outlet_Location_Type', 'Outlet_Type', 'Item_Outlet_Sales',\n",
       "       'Item_code'],\n",
       "      dtype='object')"
      ]
     },
     "execution_count": 73,
     "metadata": {},
     "output_type": "execute_result"
    }
   ],
   "source": [
    "objcols.columns"
   ]
  },
  {
   "cell_type": "code",
   "execution_count": 74,
   "id": "c81e6797",
   "metadata": {},
   "outputs": [
    {
     "data": {
      "text/html": [
       "<div>\n",
       "<style scoped>\n",
       "    .dataframe tbody tr th:only-of-type {\n",
       "        vertical-align: middle;\n",
       "    }\n",
       "\n",
       "    .dataframe tbody tr th {\n",
       "        vertical-align: top;\n",
       "    }\n",
       "\n",
       "    .dataframe thead th {\n",
       "        text-align: right;\n",
       "    }\n",
       "</style>\n",
       "<table border=\"1\" class=\"dataframe\">\n",
       "  <thead>\n",
       "    <tr style=\"text-align: right;\">\n",
       "      <th></th>\n",
       "      <th>Item_Weight</th>\n",
       "      <th>Item_Visibility</th>\n",
       "      <th>Item_MRP</th>\n",
       "      <th>Outlet_Age</th>\n",
       "    </tr>\n",
       "  </thead>\n",
       "  <tbody>\n",
       "    <tr>\n",
       "      <th>0</th>\n",
       "      <td>9.30</td>\n",
       "      <td>0.016047</td>\n",
       "      <td>249.8092</td>\n",
       "      <td>23</td>\n",
       "    </tr>\n",
       "    <tr>\n",
       "      <th>1</th>\n",
       "      <td>5.92</td>\n",
       "      <td>0.019278</td>\n",
       "      <td>48.2692</td>\n",
       "      <td>13</td>\n",
       "    </tr>\n",
       "    <tr>\n",
       "      <th>2</th>\n",
       "      <td>17.50</td>\n",
       "      <td>0.016760</td>\n",
       "      <td>141.6180</td>\n",
       "      <td>23</td>\n",
       "    </tr>\n",
       "    <tr>\n",
       "      <th>3</th>\n",
       "      <td>19.20</td>\n",
       "      <td>0.000000</td>\n",
       "      <td>182.0950</td>\n",
       "      <td>24</td>\n",
       "    </tr>\n",
       "    <tr>\n",
       "      <th>4</th>\n",
       "      <td>8.93</td>\n",
       "      <td>0.000000</td>\n",
       "      <td>53.8614</td>\n",
       "      <td>35</td>\n",
       "    </tr>\n",
       "  </tbody>\n",
       "</table>\n",
       "</div>"
      ],
      "text/plain": [
       "   Item_Weight  Item_Visibility  Item_MRP  Outlet_Age\n",
       "0         9.30         0.016047  249.8092          23\n",
       "1         5.92         0.019278   48.2692          13\n",
       "2        17.50         0.016760  141.6180          23\n",
       "3        19.20         0.000000  182.0950          24\n",
       "4         8.93         0.000000   53.8614          35"
      ]
     },
     "execution_count": 74,
     "metadata": {},
     "output_type": "execute_result"
    }
   ],
   "source": [
    "numcols.head()"
   ]
  },
  {
   "cell_type": "code",
   "execution_count": 75,
   "id": "5064cae3",
   "metadata": {},
   "outputs": [
    {
     "data": {
      "text/plain": [
       "Index(['Item_Fat_Content', 'Item_Type', 'Outlet_Identifier', 'Outlet_Size',\n",
       "       'Outlet_Location_Type', 'Outlet_Type', 'Item_Outlet_Sales',\n",
       "       'Item_code'],\n",
       "      dtype='object')"
      ]
     },
     "execution_count": 75,
     "metadata": {},
     "output_type": "execute_result"
    }
   ],
   "source": [
    "objcols.columns"
   ]
  },
  {
   "cell_type": "code",
   "execution_count": 76,
   "id": "c85ec3fe",
   "metadata": {},
   "outputs": [],
   "source": [
    "objcols_dummy=pd.get_dummies(objcols,columns=['Item_Fat_Content', 'Item_Type', 'Outlet_Identifier',\n",
    "        'Outlet_Size', 'Outlet_Location_Type','Outlet_Type', 'Item_code'])"
   ]
  },
  {
   "cell_type": "code",
   "execution_count": 77,
   "id": "bdf67d91",
   "metadata": {
    "scrolled": true
   },
   "outputs": [
    {
     "data": {
      "text/html": [
       "<div>\n",
       "<style scoped>\n",
       "    .dataframe tbody tr th:only-of-type {\n",
       "        vertical-align: middle;\n",
       "    }\n",
       "\n",
       "    .dataframe tbody tr th {\n",
       "        vertical-align: top;\n",
       "    }\n",
       "\n",
       "    .dataframe thead th {\n",
       "        text-align: right;\n",
       "    }\n",
       "</style>\n",
       "<table border=\"1\" class=\"dataframe\">\n",
       "  <thead>\n",
       "    <tr style=\"text-align: right;\">\n",
       "      <th></th>\n",
       "      <th>Item_Outlet_Sales</th>\n",
       "      <th>Item_Fat_Content_Low Fat</th>\n",
       "      <th>Item_Fat_Content_Non-Edible</th>\n",
       "      <th>Item_Fat_Content_Regular</th>\n",
       "      <th>Item_Type_Baking Goods</th>\n",
       "      <th>Item_Type_Breads</th>\n",
       "      <th>Item_Type_Breakfast</th>\n",
       "      <th>Item_Type_Canned</th>\n",
       "      <th>Item_Type_Dairy</th>\n",
       "      <th>Item_Type_Frozen Foods</th>\n",
       "      <th>...</th>\n",
       "      <th>Outlet_Location_Type_Tier 1</th>\n",
       "      <th>Outlet_Location_Type_Tier 2</th>\n",
       "      <th>Outlet_Location_Type_Tier 3</th>\n",
       "      <th>Outlet_Type_Grocery Store</th>\n",
       "      <th>Outlet_Type_Supermarket Type1</th>\n",
       "      <th>Outlet_Type_Supermarket Type2</th>\n",
       "      <th>Outlet_Type_Supermarket Type3</th>\n",
       "      <th>Item_code_DR</th>\n",
       "      <th>Item_code_FD</th>\n",
       "      <th>Item_code_NC</th>\n",
       "    </tr>\n",
       "  </thead>\n",
       "  <tbody>\n",
       "    <tr>\n",
       "      <th>0</th>\n",
       "      <td>3735.138</td>\n",
       "      <td>1</td>\n",
       "      <td>0</td>\n",
       "      <td>0</td>\n",
       "      <td>0</td>\n",
       "      <td>0</td>\n",
       "      <td>0</td>\n",
       "      <td>0</td>\n",
       "      <td>1</td>\n",
       "      <td>0</td>\n",
       "      <td>...</td>\n",
       "      <td>1</td>\n",
       "      <td>0</td>\n",
       "      <td>0</td>\n",
       "      <td>0</td>\n",
       "      <td>1</td>\n",
       "      <td>0</td>\n",
       "      <td>0</td>\n",
       "      <td>0</td>\n",
       "      <td>1</td>\n",
       "      <td>0</td>\n",
       "    </tr>\n",
       "    <tr>\n",
       "      <th>1</th>\n",
       "      <td>443.4228</td>\n",
       "      <td>0</td>\n",
       "      <td>0</td>\n",
       "      <td>1</td>\n",
       "      <td>0</td>\n",
       "      <td>0</td>\n",
       "      <td>0</td>\n",
       "      <td>0</td>\n",
       "      <td>0</td>\n",
       "      <td>0</td>\n",
       "      <td>...</td>\n",
       "      <td>0</td>\n",
       "      <td>0</td>\n",
       "      <td>1</td>\n",
       "      <td>0</td>\n",
       "      <td>0</td>\n",
       "      <td>1</td>\n",
       "      <td>0</td>\n",
       "      <td>1</td>\n",
       "      <td>0</td>\n",
       "      <td>0</td>\n",
       "    </tr>\n",
       "    <tr>\n",
       "      <th>2</th>\n",
       "      <td>2097.27</td>\n",
       "      <td>1</td>\n",
       "      <td>0</td>\n",
       "      <td>0</td>\n",
       "      <td>0</td>\n",
       "      <td>0</td>\n",
       "      <td>0</td>\n",
       "      <td>0</td>\n",
       "      <td>0</td>\n",
       "      <td>0</td>\n",
       "      <td>...</td>\n",
       "      <td>1</td>\n",
       "      <td>0</td>\n",
       "      <td>0</td>\n",
       "      <td>0</td>\n",
       "      <td>1</td>\n",
       "      <td>0</td>\n",
       "      <td>0</td>\n",
       "      <td>0</td>\n",
       "      <td>1</td>\n",
       "      <td>0</td>\n",
       "    </tr>\n",
       "    <tr>\n",
       "      <th>3</th>\n",
       "      <td>732.38</td>\n",
       "      <td>0</td>\n",
       "      <td>0</td>\n",
       "      <td>1</td>\n",
       "      <td>0</td>\n",
       "      <td>0</td>\n",
       "      <td>0</td>\n",
       "      <td>0</td>\n",
       "      <td>0</td>\n",
       "      <td>0</td>\n",
       "      <td>...</td>\n",
       "      <td>0</td>\n",
       "      <td>0</td>\n",
       "      <td>1</td>\n",
       "      <td>1</td>\n",
       "      <td>0</td>\n",
       "      <td>0</td>\n",
       "      <td>0</td>\n",
       "      <td>0</td>\n",
       "      <td>1</td>\n",
       "      <td>0</td>\n",
       "    </tr>\n",
       "    <tr>\n",
       "      <th>4</th>\n",
       "      <td>994.7052</td>\n",
       "      <td>0</td>\n",
       "      <td>1</td>\n",
       "      <td>0</td>\n",
       "      <td>0</td>\n",
       "      <td>0</td>\n",
       "      <td>0</td>\n",
       "      <td>0</td>\n",
       "      <td>0</td>\n",
       "      <td>0</td>\n",
       "      <td>...</td>\n",
       "      <td>0</td>\n",
       "      <td>0</td>\n",
       "      <td>1</td>\n",
       "      <td>0</td>\n",
       "      <td>1</td>\n",
       "      <td>0</td>\n",
       "      <td>0</td>\n",
       "      <td>0</td>\n",
       "      <td>0</td>\n",
       "      <td>1</td>\n",
       "    </tr>\n",
       "  </tbody>\n",
       "</table>\n",
       "<p>5 rows × 44 columns</p>\n",
       "</div>"
      ],
      "text/plain": [
       "  Item_Outlet_Sales  Item_Fat_Content_Low Fat  Item_Fat_Content_Non-Edible  \\\n",
       "0          3735.138                         1                            0   \n",
       "1          443.4228                         0                            0   \n",
       "2           2097.27                         1                            0   \n",
       "3            732.38                         0                            0   \n",
       "4          994.7052                         0                            1   \n",
       "\n",
       "   Item_Fat_Content_Regular  Item_Type_Baking Goods  Item_Type_Breads  \\\n",
       "0                         0                       0                 0   \n",
       "1                         1                       0                 0   \n",
       "2                         0                       0                 0   \n",
       "3                         1                       0                 0   \n",
       "4                         0                       0                 0   \n",
       "\n",
       "   Item_Type_Breakfast  Item_Type_Canned  Item_Type_Dairy  \\\n",
       "0                    0                 0                1   \n",
       "1                    0                 0                0   \n",
       "2                    0                 0                0   \n",
       "3                    0                 0                0   \n",
       "4                    0                 0                0   \n",
       "\n",
       "   Item_Type_Frozen Foods  ...  Outlet_Location_Type_Tier 1  \\\n",
       "0                       0  ...                            1   \n",
       "1                       0  ...                            0   \n",
       "2                       0  ...                            1   \n",
       "3                       0  ...                            0   \n",
       "4                       0  ...                            0   \n",
       "\n",
       "   Outlet_Location_Type_Tier 2  Outlet_Location_Type_Tier 3  \\\n",
       "0                            0                            0   \n",
       "1                            0                            1   \n",
       "2                            0                            0   \n",
       "3                            0                            1   \n",
       "4                            0                            1   \n",
       "\n",
       "   Outlet_Type_Grocery Store  Outlet_Type_Supermarket Type1  \\\n",
       "0                          0                              1   \n",
       "1                          0                              0   \n",
       "2                          0                              1   \n",
       "3                          1                              0   \n",
       "4                          0                              1   \n",
       "\n",
       "   Outlet_Type_Supermarket Type2  Outlet_Type_Supermarket Type3  Item_code_DR  \\\n",
       "0                              0                              0             0   \n",
       "1                              1                              0             1   \n",
       "2                              0                              0             0   \n",
       "3                              0                              0             0   \n",
       "4                              0                              0             0   \n",
       "\n",
       "   Item_code_FD  Item_code_NC  \n",
       "0             1             0  \n",
       "1             0             0  \n",
       "2             1             0  \n",
       "3             1             0  \n",
       "4             0             1  \n",
       "\n",
       "[5 rows x 44 columns]"
      ]
     },
     "execution_count": 77,
     "metadata": {},
     "output_type": "execute_result"
    }
   ],
   "source": [
    "objcols_dummy.head()"
   ]
  },
  {
   "cell_type": "code",
   "execution_count": 78,
   "id": "e4c2e35a",
   "metadata": {},
   "outputs": [],
   "source": [
    "objcols_dummy.replace({False:0,True:1},inplace=True)"
   ]
  },
  {
   "cell_type": "code",
   "execution_count": 79,
   "id": "0aa04a2d",
   "metadata": {},
   "outputs": [
    {
     "data": {
      "text/html": [
       "<div>\n",
       "<style scoped>\n",
       "    .dataframe tbody tr th:only-of-type {\n",
       "        vertical-align: middle;\n",
       "    }\n",
       "\n",
       "    .dataframe tbody tr th {\n",
       "        vertical-align: top;\n",
       "    }\n",
       "\n",
       "    .dataframe thead th {\n",
       "        text-align: right;\n",
       "    }\n",
       "</style>\n",
       "<table border=\"1\" class=\"dataframe\">\n",
       "  <thead>\n",
       "    <tr style=\"text-align: right;\">\n",
       "      <th></th>\n",
       "      <th>Item_Outlet_Sales</th>\n",
       "      <th>Item_Fat_Content_Low Fat</th>\n",
       "      <th>Item_Fat_Content_Non-Edible</th>\n",
       "      <th>Item_Fat_Content_Regular</th>\n",
       "      <th>Item_Type_Baking Goods</th>\n",
       "      <th>Item_Type_Breads</th>\n",
       "      <th>Item_Type_Breakfast</th>\n",
       "      <th>Item_Type_Canned</th>\n",
       "      <th>Item_Type_Dairy</th>\n",
       "      <th>Item_Type_Frozen Foods</th>\n",
       "      <th>...</th>\n",
       "      <th>Outlet_Location_Type_Tier 1</th>\n",
       "      <th>Outlet_Location_Type_Tier 2</th>\n",
       "      <th>Outlet_Location_Type_Tier 3</th>\n",
       "      <th>Outlet_Type_Grocery Store</th>\n",
       "      <th>Outlet_Type_Supermarket Type1</th>\n",
       "      <th>Outlet_Type_Supermarket Type2</th>\n",
       "      <th>Outlet_Type_Supermarket Type3</th>\n",
       "      <th>Item_code_DR</th>\n",
       "      <th>Item_code_FD</th>\n",
       "      <th>Item_code_NC</th>\n",
       "    </tr>\n",
       "  </thead>\n",
       "  <tbody>\n",
       "    <tr>\n",
       "      <th>0</th>\n",
       "      <td>3735.138</td>\n",
       "      <td>1</td>\n",
       "      <td>0</td>\n",
       "      <td>0</td>\n",
       "      <td>0</td>\n",
       "      <td>0</td>\n",
       "      <td>0</td>\n",
       "      <td>0</td>\n",
       "      <td>1</td>\n",
       "      <td>0</td>\n",
       "      <td>...</td>\n",
       "      <td>1</td>\n",
       "      <td>0</td>\n",
       "      <td>0</td>\n",
       "      <td>0</td>\n",
       "      <td>1</td>\n",
       "      <td>0</td>\n",
       "      <td>0</td>\n",
       "      <td>0</td>\n",
       "      <td>1</td>\n",
       "      <td>0</td>\n",
       "    </tr>\n",
       "    <tr>\n",
       "      <th>1</th>\n",
       "      <td>443.4228</td>\n",
       "      <td>0</td>\n",
       "      <td>0</td>\n",
       "      <td>1</td>\n",
       "      <td>0</td>\n",
       "      <td>0</td>\n",
       "      <td>0</td>\n",
       "      <td>0</td>\n",
       "      <td>0</td>\n",
       "      <td>0</td>\n",
       "      <td>...</td>\n",
       "      <td>0</td>\n",
       "      <td>0</td>\n",
       "      <td>1</td>\n",
       "      <td>0</td>\n",
       "      <td>0</td>\n",
       "      <td>1</td>\n",
       "      <td>0</td>\n",
       "      <td>1</td>\n",
       "      <td>0</td>\n",
       "      <td>0</td>\n",
       "    </tr>\n",
       "    <tr>\n",
       "      <th>2</th>\n",
       "      <td>2097.27</td>\n",
       "      <td>1</td>\n",
       "      <td>0</td>\n",
       "      <td>0</td>\n",
       "      <td>0</td>\n",
       "      <td>0</td>\n",
       "      <td>0</td>\n",
       "      <td>0</td>\n",
       "      <td>0</td>\n",
       "      <td>0</td>\n",
       "      <td>...</td>\n",
       "      <td>1</td>\n",
       "      <td>0</td>\n",
       "      <td>0</td>\n",
       "      <td>0</td>\n",
       "      <td>1</td>\n",
       "      <td>0</td>\n",
       "      <td>0</td>\n",
       "      <td>0</td>\n",
       "      <td>1</td>\n",
       "      <td>0</td>\n",
       "    </tr>\n",
       "    <tr>\n",
       "      <th>3</th>\n",
       "      <td>732.38</td>\n",
       "      <td>0</td>\n",
       "      <td>0</td>\n",
       "      <td>1</td>\n",
       "      <td>0</td>\n",
       "      <td>0</td>\n",
       "      <td>0</td>\n",
       "      <td>0</td>\n",
       "      <td>0</td>\n",
       "      <td>0</td>\n",
       "      <td>...</td>\n",
       "      <td>0</td>\n",
       "      <td>0</td>\n",
       "      <td>1</td>\n",
       "      <td>1</td>\n",
       "      <td>0</td>\n",
       "      <td>0</td>\n",
       "      <td>0</td>\n",
       "      <td>0</td>\n",
       "      <td>1</td>\n",
       "      <td>0</td>\n",
       "    </tr>\n",
       "    <tr>\n",
       "      <th>4</th>\n",
       "      <td>994.7052</td>\n",
       "      <td>0</td>\n",
       "      <td>1</td>\n",
       "      <td>0</td>\n",
       "      <td>0</td>\n",
       "      <td>0</td>\n",
       "      <td>0</td>\n",
       "      <td>0</td>\n",
       "      <td>0</td>\n",
       "      <td>0</td>\n",
       "      <td>...</td>\n",
       "      <td>0</td>\n",
       "      <td>0</td>\n",
       "      <td>1</td>\n",
       "      <td>0</td>\n",
       "      <td>1</td>\n",
       "      <td>0</td>\n",
       "      <td>0</td>\n",
       "      <td>0</td>\n",
       "      <td>0</td>\n",
       "      <td>1</td>\n",
       "    </tr>\n",
       "  </tbody>\n",
       "</table>\n",
       "<p>5 rows × 44 columns</p>\n",
       "</div>"
      ],
      "text/plain": [
       "  Item_Outlet_Sales  Item_Fat_Content_Low Fat  Item_Fat_Content_Non-Edible  \\\n",
       "0          3735.138                         1                            0   \n",
       "1          443.4228                         0                            0   \n",
       "2           2097.27                         1                            0   \n",
       "3            732.38                         0                            0   \n",
       "4          994.7052                         0                            1   \n",
       "\n",
       "   Item_Fat_Content_Regular  Item_Type_Baking Goods  Item_Type_Breads  \\\n",
       "0                         0                       0                 0   \n",
       "1                         1                       0                 0   \n",
       "2                         0                       0                 0   \n",
       "3                         1                       0                 0   \n",
       "4                         0                       0                 0   \n",
       "\n",
       "   Item_Type_Breakfast  Item_Type_Canned  Item_Type_Dairy  \\\n",
       "0                    0                 0                1   \n",
       "1                    0                 0                0   \n",
       "2                    0                 0                0   \n",
       "3                    0                 0                0   \n",
       "4                    0                 0                0   \n",
       "\n",
       "   Item_Type_Frozen Foods  ...  Outlet_Location_Type_Tier 1  \\\n",
       "0                       0  ...                            1   \n",
       "1                       0  ...                            0   \n",
       "2                       0  ...                            1   \n",
       "3                       0  ...                            0   \n",
       "4                       0  ...                            0   \n",
       "\n",
       "   Outlet_Location_Type_Tier 2  Outlet_Location_Type_Tier 3  \\\n",
       "0                            0                            0   \n",
       "1                            0                            1   \n",
       "2                            0                            0   \n",
       "3                            0                            1   \n",
       "4                            0                            1   \n",
       "\n",
       "   Outlet_Type_Grocery Store  Outlet_Type_Supermarket Type1  \\\n",
       "0                          0                              1   \n",
       "1                          0                              0   \n",
       "2                          0                              1   \n",
       "3                          1                              0   \n",
       "4                          0                              1   \n",
       "\n",
       "   Outlet_Type_Supermarket Type2  Outlet_Type_Supermarket Type3  Item_code_DR  \\\n",
       "0                              0                              0             0   \n",
       "1                              1                              0             1   \n",
       "2                              0                              0             0   \n",
       "3                              0                              0             0   \n",
       "4                              0                              0             0   \n",
       "\n",
       "   Item_code_FD  Item_code_NC  \n",
       "0             1             0  \n",
       "1             0             0  \n",
       "2             1             0  \n",
       "3             1             0  \n",
       "4             0             1  \n",
       "\n",
       "[5 rows x 44 columns]"
      ]
     },
     "execution_count": 79,
     "metadata": {},
     "output_type": "execute_result"
    }
   ],
   "source": [
    "objcols_dummy.head()"
   ]
  },
  {
   "cell_type": "code",
   "execution_count": 80,
   "id": "eed95111",
   "metadata": {},
   "outputs": [
    {
     "name": "stdout",
     "output_type": "stream",
     "text": [
      "<class 'pandas.core.frame.DataFrame'>\n",
      "Int64Index: 14204 entries, 0 to 5680\n",
      "Data columns (total 44 columns):\n",
      " #   Column                           Non-Null Count  Dtype \n",
      "---  ------                           --------------  ----- \n",
      " 0   Item_Outlet_Sales                14204 non-null  object\n",
      " 1   Item_Fat_Content_Low Fat         14204 non-null  uint8 \n",
      " 2   Item_Fat_Content_Non-Edible      14204 non-null  uint8 \n",
      " 3   Item_Fat_Content_Regular         14204 non-null  uint8 \n",
      " 4   Item_Type_Baking Goods           14204 non-null  uint8 \n",
      " 5   Item_Type_Breads                 14204 non-null  uint8 \n",
      " 6   Item_Type_Breakfast              14204 non-null  uint8 \n",
      " 7   Item_Type_Canned                 14204 non-null  uint8 \n",
      " 8   Item_Type_Dairy                  14204 non-null  uint8 \n",
      " 9   Item_Type_Frozen Foods           14204 non-null  uint8 \n",
      " 10  Item_Type_Fruits and Vegetables  14204 non-null  uint8 \n",
      " 11  Item_Type_Hard Drinks            14204 non-null  uint8 \n",
      " 12  Item_Type_Health and Hygiene     14204 non-null  uint8 \n",
      " 13  Item_Type_Household              14204 non-null  uint8 \n",
      " 14  Item_Type_Meat                   14204 non-null  uint8 \n",
      " 15  Item_Type_Others                 14204 non-null  uint8 \n",
      " 16  Item_Type_Seafood                14204 non-null  uint8 \n",
      " 17  Item_Type_Snack Foods            14204 non-null  uint8 \n",
      " 18  Item_Type_Soft Drinks            14204 non-null  uint8 \n",
      " 19  Item_Type_Starchy Foods          14204 non-null  uint8 \n",
      " 20  Outlet_Identifier_OUT010         14204 non-null  uint8 \n",
      " 21  Outlet_Identifier_OUT013         14204 non-null  uint8 \n",
      " 22  Outlet_Identifier_OUT017         14204 non-null  uint8 \n",
      " 23  Outlet_Identifier_OUT018         14204 non-null  uint8 \n",
      " 24  Outlet_Identifier_OUT019         14204 non-null  uint8 \n",
      " 25  Outlet_Identifier_OUT027         14204 non-null  uint8 \n",
      " 26  Outlet_Identifier_OUT035         14204 non-null  uint8 \n",
      " 27  Outlet_Identifier_OUT045         14204 non-null  uint8 \n",
      " 28  Outlet_Identifier_OUT046         14204 non-null  uint8 \n",
      " 29  Outlet_Identifier_OUT049         14204 non-null  uint8 \n",
      " 30  Outlet_Size_High                 14204 non-null  uint8 \n",
      " 31  Outlet_Size_Medium               14204 non-null  uint8 \n",
      " 32  Outlet_Size_Missing              14204 non-null  uint8 \n",
      " 33  Outlet_Size_Small                14204 non-null  uint8 \n",
      " 34  Outlet_Location_Type_Tier 1      14204 non-null  uint8 \n",
      " 35  Outlet_Location_Type_Tier 2      14204 non-null  uint8 \n",
      " 36  Outlet_Location_Type_Tier 3      14204 non-null  uint8 \n",
      " 37  Outlet_Type_Grocery Store        14204 non-null  uint8 \n",
      " 38  Outlet_Type_Supermarket Type1    14204 non-null  uint8 \n",
      " 39  Outlet_Type_Supermarket Type2    14204 non-null  uint8 \n",
      " 40  Outlet_Type_Supermarket Type3    14204 non-null  uint8 \n",
      " 41  Item_code_DR                     14204 non-null  uint8 \n",
      " 42  Item_code_FD                     14204 non-null  uint8 \n",
      " 43  Item_code_NC                     14204 non-null  uint8 \n",
      "dtypes: object(1), uint8(43)\n",
      "memory usage: 818.4+ KB\n"
     ]
    }
   ],
   "source": [
    "objcols_dummy.info()"
   ]
  },
  {
   "cell_type": "code",
   "execution_count": 81,
   "id": "43e7ed99",
   "metadata": {},
   "outputs": [],
   "source": [
    "combinedf_clean=pd.concat([numcols_robust.reset_index(),objcols_dummy.reset_index().reset_index()],axis=1)\n",
    "# I have used the RobustScaler for numerical variables for scaling."
   ]
  },
  {
   "cell_type": "code",
   "execution_count": 82,
   "id": "0b65bafb",
   "metadata": {
    "scrolled": true
   },
   "outputs": [
    {
     "name": "stdout",
     "output_type": "stream",
     "text": [
      "<class 'pandas.core.frame.DataFrame'>\n",
      "RangeIndex: 14204 entries, 0 to 14203\n",
      "Data columns (total 51 columns):\n",
      " #   Column                           Non-Null Count  Dtype  \n",
      "---  ------                           --------------  -----  \n",
      " 0   index                            14204 non-null  int64  \n",
      " 1   Item_Weight                      14204 non-null  float64\n",
      " 2   Item_Visibility                  14204 non-null  float64\n",
      " 3   Item_MRP                         14204 non-null  float64\n",
      " 4   Outlet_Age                       14204 non-null  float64\n",
      " 5   level_0                          14204 non-null  int64  \n",
      " 6   index                            14204 non-null  int64  \n",
      " 7   Item_Outlet_Sales                14204 non-null  object \n",
      " 8   Item_Fat_Content_Low Fat         14204 non-null  uint8  \n",
      " 9   Item_Fat_Content_Non-Edible      14204 non-null  uint8  \n",
      " 10  Item_Fat_Content_Regular         14204 non-null  uint8  \n",
      " 11  Item_Type_Baking Goods           14204 non-null  uint8  \n",
      " 12  Item_Type_Breads                 14204 non-null  uint8  \n",
      " 13  Item_Type_Breakfast              14204 non-null  uint8  \n",
      " 14  Item_Type_Canned                 14204 non-null  uint8  \n",
      " 15  Item_Type_Dairy                  14204 non-null  uint8  \n",
      " 16  Item_Type_Frozen Foods           14204 non-null  uint8  \n",
      " 17  Item_Type_Fruits and Vegetables  14204 non-null  uint8  \n",
      " 18  Item_Type_Hard Drinks            14204 non-null  uint8  \n",
      " 19  Item_Type_Health and Hygiene     14204 non-null  uint8  \n",
      " 20  Item_Type_Household              14204 non-null  uint8  \n",
      " 21  Item_Type_Meat                   14204 non-null  uint8  \n",
      " 22  Item_Type_Others                 14204 non-null  uint8  \n",
      " 23  Item_Type_Seafood                14204 non-null  uint8  \n",
      " 24  Item_Type_Snack Foods            14204 non-null  uint8  \n",
      " 25  Item_Type_Soft Drinks            14204 non-null  uint8  \n",
      " 26  Item_Type_Starchy Foods          14204 non-null  uint8  \n",
      " 27  Outlet_Identifier_OUT010         14204 non-null  uint8  \n",
      " 28  Outlet_Identifier_OUT013         14204 non-null  uint8  \n",
      " 29  Outlet_Identifier_OUT017         14204 non-null  uint8  \n",
      " 30  Outlet_Identifier_OUT018         14204 non-null  uint8  \n",
      " 31  Outlet_Identifier_OUT019         14204 non-null  uint8  \n",
      " 32  Outlet_Identifier_OUT027         14204 non-null  uint8  \n",
      " 33  Outlet_Identifier_OUT035         14204 non-null  uint8  \n",
      " 34  Outlet_Identifier_OUT045         14204 non-null  uint8  \n",
      " 35  Outlet_Identifier_OUT046         14204 non-null  uint8  \n",
      " 36  Outlet_Identifier_OUT049         14204 non-null  uint8  \n",
      " 37  Outlet_Size_High                 14204 non-null  uint8  \n",
      " 38  Outlet_Size_Medium               14204 non-null  uint8  \n",
      " 39  Outlet_Size_Missing              14204 non-null  uint8  \n",
      " 40  Outlet_Size_Small                14204 non-null  uint8  \n",
      " 41  Outlet_Location_Type_Tier 1      14204 non-null  uint8  \n",
      " 42  Outlet_Location_Type_Tier 2      14204 non-null  uint8  \n",
      " 43  Outlet_Location_Type_Tier 3      14204 non-null  uint8  \n",
      " 44  Outlet_Type_Grocery Store        14204 non-null  uint8  \n",
      " 45  Outlet_Type_Supermarket Type1    14204 non-null  uint8  \n",
      " 46  Outlet_Type_Supermarket Type2    14204 non-null  uint8  \n",
      " 47  Outlet_Type_Supermarket Type3    14204 non-null  uint8  \n",
      " 48  Item_code_DR                     14204 non-null  uint8  \n",
      " 49  Item_code_FD                     14204 non-null  uint8  \n",
      " 50  Item_code_NC                     14204 non-null  uint8  \n",
      "dtypes: float64(4), int64(3), object(1), uint8(43)\n",
      "memory usage: 1.4+ MB\n"
     ]
    }
   ],
   "source": [
    "combinedf_clean.info()"
   ]
  },
  {
   "cell_type": "code",
   "execution_count": 83,
   "id": "52a2d71b",
   "metadata": {},
   "outputs": [],
   "source": [
    "combinedf_clean.drop(['index','level_0'],axis=1,inplace=True)"
   ]
  },
  {
   "cell_type": "code",
   "execution_count": 84,
   "id": "586458b8",
   "metadata": {},
   "outputs": [
    {
     "data": {
      "text/html": [
       "<div>\n",
       "<style scoped>\n",
       "    .dataframe tbody tr th:only-of-type {\n",
       "        vertical-align: middle;\n",
       "    }\n",
       "\n",
       "    .dataframe tbody tr th {\n",
       "        vertical-align: top;\n",
       "    }\n",
       "\n",
       "    .dataframe thead th {\n",
       "        text-align: right;\n",
       "    }\n",
       "</style>\n",
       "<table border=\"1\" class=\"dataframe\">\n",
       "  <thead>\n",
       "    <tr style=\"text-align: right;\">\n",
       "      <th></th>\n",
       "      <th>Item_Weight</th>\n",
       "      <th>Item_Visibility</th>\n",
       "      <th>Item_MRP</th>\n",
       "      <th>Outlet_Age</th>\n",
       "      <th>Item_Outlet_Sales</th>\n",
       "      <th>Item_Fat_Content_Low Fat</th>\n",
       "      <th>Item_Fat_Content_Non-Edible</th>\n",
       "      <th>Item_Fat_Content_Regular</th>\n",
       "      <th>Item_Type_Baking Goods</th>\n",
       "      <th>Item_Type_Breads</th>\n",
       "      <th>...</th>\n",
       "      <th>Outlet_Location_Type_Tier 1</th>\n",
       "      <th>Outlet_Location_Type_Tier 2</th>\n",
       "      <th>Outlet_Location_Type_Tier 3</th>\n",
       "      <th>Outlet_Type_Grocery Store</th>\n",
       "      <th>Outlet_Type_Supermarket Type1</th>\n",
       "      <th>Outlet_Type_Supermarket Type2</th>\n",
       "      <th>Outlet_Type_Supermarket Type3</th>\n",
       "      <th>Item_code_DR</th>\n",
       "      <th>Item_code_FD</th>\n",
       "      <th>Item_code_NC</th>\n",
       "    </tr>\n",
       "  </thead>\n",
       "  <tbody>\n",
       "    <tr>\n",
       "      <th>0</th>\n",
       "      <td>-0.521322</td>\n",
       "      <td>-0.566751</td>\n",
       "      <td>1.171145</td>\n",
       "      <td>0.000000</td>\n",
       "      <td>3735.138</td>\n",
       "      <td>1</td>\n",
       "      <td>0</td>\n",
       "      <td>0</td>\n",
       "      <td>0</td>\n",
       "      <td>0</td>\n",
       "      <td>...</td>\n",
       "      <td>1</td>\n",
       "      <td>0</td>\n",
       "      <td>0</td>\n",
       "      <td>0</td>\n",
       "      <td>1</td>\n",
       "      <td>0</td>\n",
       "      <td>0</td>\n",
       "      <td>0</td>\n",
       "      <td>1</td>\n",
       "      <td>0</td>\n",
       "    </tr>\n",
       "    <tr>\n",
       "      <th>1</th>\n",
       "      <td>-1.025799</td>\n",
       "      <td>-0.518530</td>\n",
       "      <td>-1.023237</td>\n",
       "      <td>-0.588235</td>\n",
       "      <td>443.4228</td>\n",
       "      <td>0</td>\n",
       "      <td>0</td>\n",
       "      <td>1</td>\n",
       "      <td>0</td>\n",
       "      <td>0</td>\n",
       "      <td>...</td>\n",
       "      <td>0</td>\n",
       "      <td>0</td>\n",
       "      <td>1</td>\n",
       "      <td>0</td>\n",
       "      <td>0</td>\n",
       "      <td>1</td>\n",
       "      <td>0</td>\n",
       "      <td>1</td>\n",
       "      <td>0</td>\n",
       "      <td>0</td>\n",
       "    </tr>\n",
       "    <tr>\n",
       "      <th>2</th>\n",
       "      <td>0.702559</td>\n",
       "      <td>-0.556113</td>\n",
       "      <td>-0.006849</td>\n",
       "      <td>0.000000</td>\n",
       "      <td>2097.27</td>\n",
       "      <td>1</td>\n",
       "      <td>0</td>\n",
       "      <td>0</td>\n",
       "      <td>0</td>\n",
       "      <td>0</td>\n",
       "      <td>...</td>\n",
       "      <td>1</td>\n",
       "      <td>0</td>\n",
       "      <td>0</td>\n",
       "      <td>0</td>\n",
       "      <td>1</td>\n",
       "      <td>0</td>\n",
       "      <td>0</td>\n",
       "      <td>0</td>\n",
       "      <td>1</td>\n",
       "      <td>0</td>\n",
       "    </tr>\n",
       "    <tr>\n",
       "      <th>3</th>\n",
       "      <td>0.956290</td>\n",
       "      <td>-0.806258</td>\n",
       "      <td>0.433868</td>\n",
       "      <td>0.058824</td>\n",
       "      <td>732.38</td>\n",
       "      <td>0</td>\n",
       "      <td>0</td>\n",
       "      <td>1</td>\n",
       "      <td>0</td>\n",
       "      <td>0</td>\n",
       "      <td>...</td>\n",
       "      <td>0</td>\n",
       "      <td>0</td>\n",
       "      <td>1</td>\n",
       "      <td>1</td>\n",
       "      <td>0</td>\n",
       "      <td>0</td>\n",
       "      <td>0</td>\n",
       "      <td>0</td>\n",
       "      <td>1</td>\n",
       "      <td>0</td>\n",
       "    </tr>\n",
       "    <tr>\n",
       "      <th>4</th>\n",
       "      <td>-0.576545</td>\n",
       "      <td>-0.806258</td>\n",
       "      <td>-0.962349</td>\n",
       "      <td>0.705882</td>\n",
       "      <td>994.7052</td>\n",
       "      <td>0</td>\n",
       "      <td>1</td>\n",
       "      <td>0</td>\n",
       "      <td>0</td>\n",
       "      <td>0</td>\n",
       "      <td>...</td>\n",
       "      <td>0</td>\n",
       "      <td>0</td>\n",
       "      <td>1</td>\n",
       "      <td>0</td>\n",
       "      <td>1</td>\n",
       "      <td>0</td>\n",
       "      <td>0</td>\n",
       "      <td>0</td>\n",
       "      <td>0</td>\n",
       "      <td>1</td>\n",
       "    </tr>\n",
       "  </tbody>\n",
       "</table>\n",
       "<p>5 rows × 48 columns</p>\n",
       "</div>"
      ],
      "text/plain": [
       "   Item_Weight  Item_Visibility  Item_MRP  Outlet_Age Item_Outlet_Sales  \\\n",
       "0    -0.521322        -0.566751  1.171145    0.000000          3735.138   \n",
       "1    -1.025799        -0.518530 -1.023237   -0.588235          443.4228   \n",
       "2     0.702559        -0.556113 -0.006849    0.000000           2097.27   \n",
       "3     0.956290        -0.806258  0.433868    0.058824            732.38   \n",
       "4    -0.576545        -0.806258 -0.962349    0.705882          994.7052   \n",
       "\n",
       "   Item_Fat_Content_Low Fat  Item_Fat_Content_Non-Edible  \\\n",
       "0                         1                            0   \n",
       "1                         0                            0   \n",
       "2                         1                            0   \n",
       "3                         0                            0   \n",
       "4                         0                            1   \n",
       "\n",
       "   Item_Fat_Content_Regular  Item_Type_Baking Goods  Item_Type_Breads  ...  \\\n",
       "0                         0                       0                 0  ...   \n",
       "1                         1                       0                 0  ...   \n",
       "2                         0                       0                 0  ...   \n",
       "3                         1                       0                 0  ...   \n",
       "4                         0                       0                 0  ...   \n",
       "\n",
       "   Outlet_Location_Type_Tier 1  Outlet_Location_Type_Tier 2  \\\n",
       "0                            1                            0   \n",
       "1                            0                            0   \n",
       "2                            1                            0   \n",
       "3                            0                            0   \n",
       "4                            0                            0   \n",
       "\n",
       "   Outlet_Location_Type_Tier 3  Outlet_Type_Grocery Store  \\\n",
       "0                            0                          0   \n",
       "1                            1                          0   \n",
       "2                            0                          0   \n",
       "3                            1                          1   \n",
       "4                            1                          0   \n",
       "\n",
       "   Outlet_Type_Supermarket Type1  Outlet_Type_Supermarket Type2  \\\n",
       "0                              1                              0   \n",
       "1                              0                              1   \n",
       "2                              1                              0   \n",
       "3                              0                              0   \n",
       "4                              1                              0   \n",
       "\n",
       "   Outlet_Type_Supermarket Type3  Item_code_DR  Item_code_FD  Item_code_NC  \n",
       "0                              0             0             1             0  \n",
       "1                              0             1             0             0  \n",
       "2                              0             0             1             0  \n",
       "3                              0             0             1             0  \n",
       "4                              0             0             0             1  \n",
       "\n",
       "[5 rows x 48 columns]"
      ]
     },
     "execution_count": 84,
     "metadata": {},
     "output_type": "execute_result"
    }
   ],
   "source": [
    "combinedf_clean.head()"
   ]
  },
  {
   "cell_type": "code",
   "execution_count": 85,
   "id": "30b25c6c",
   "metadata": {},
   "outputs": [],
   "source": [
    "#split data back to train and test \n",
    "salestrain_df=combinedf_clean[combinedf_clean.Item_Outlet_Sales!='test']\n",
    "salestest_df=combinedf_clean[combinedf_clean.Item_Outlet_Sales=='test']"
   ]
  },
  {
   "cell_type": "code",
   "execution_count": 86,
   "id": "9e8967c7",
   "metadata": {},
   "outputs": [],
   "source": [
    "#split data back to train and test for EDA Hypothesis testing as this dataset doesn't have scaled numerical variables\n",
    "#and dummies in categorical columns.\n",
    "salestrain_EDA=combinedf[combinedf.Item_Outlet_Sales!='test']\n",
    "salestest_EDA=combinedf[combinedf.Item_Outlet_Sales=='test']"
   ]
  },
  {
   "cell_type": "code",
   "execution_count": 87,
   "id": "8fffcbad",
   "metadata": {},
   "outputs": [
    {
     "data": {
      "text/html": [
       "<div>\n",
       "<style scoped>\n",
       "    .dataframe tbody tr th:only-of-type {\n",
       "        vertical-align: middle;\n",
       "    }\n",
       "\n",
       "    .dataframe tbody tr th {\n",
       "        vertical-align: top;\n",
       "    }\n",
       "\n",
       "    .dataframe thead th {\n",
       "        text-align: right;\n",
       "    }\n",
       "</style>\n",
       "<table border=\"1\" class=\"dataframe\">\n",
       "  <thead>\n",
       "    <tr style=\"text-align: right;\">\n",
       "      <th></th>\n",
       "      <th>Item_Weight</th>\n",
       "      <th>Item_Fat_Content</th>\n",
       "      <th>Item_Visibility</th>\n",
       "      <th>Item_Type</th>\n",
       "      <th>Item_MRP</th>\n",
       "      <th>Outlet_Identifier</th>\n",
       "      <th>Outlet_Size</th>\n",
       "      <th>Outlet_Location_Type</th>\n",
       "      <th>Outlet_Type</th>\n",
       "      <th>Item_Outlet_Sales</th>\n",
       "      <th>Outlet_Age</th>\n",
       "      <th>Item_code</th>\n",
       "    </tr>\n",
       "  </thead>\n",
       "  <tbody>\n",
       "    <tr>\n",
       "      <th>0</th>\n",
       "      <td>9.30</td>\n",
       "      <td>Low Fat</td>\n",
       "      <td>0.016047</td>\n",
       "      <td>Dairy</td>\n",
       "      <td>249.8092</td>\n",
       "      <td>OUT049</td>\n",
       "      <td>Medium</td>\n",
       "      <td>Tier 1</td>\n",
       "      <td>Supermarket Type1</td>\n",
       "      <td>3735.138</td>\n",
       "      <td>23</td>\n",
       "      <td>FD</td>\n",
       "    </tr>\n",
       "    <tr>\n",
       "      <th>1</th>\n",
       "      <td>5.92</td>\n",
       "      <td>Regular</td>\n",
       "      <td>0.019278</td>\n",
       "      <td>Soft Drinks</td>\n",
       "      <td>48.2692</td>\n",
       "      <td>OUT018</td>\n",
       "      <td>Medium</td>\n",
       "      <td>Tier 3</td>\n",
       "      <td>Supermarket Type2</td>\n",
       "      <td>443.4228</td>\n",
       "      <td>13</td>\n",
       "      <td>DR</td>\n",
       "    </tr>\n",
       "    <tr>\n",
       "      <th>2</th>\n",
       "      <td>17.50</td>\n",
       "      <td>Low Fat</td>\n",
       "      <td>0.016760</td>\n",
       "      <td>Meat</td>\n",
       "      <td>141.6180</td>\n",
       "      <td>OUT049</td>\n",
       "      <td>Medium</td>\n",
       "      <td>Tier 1</td>\n",
       "      <td>Supermarket Type1</td>\n",
       "      <td>2097.27</td>\n",
       "      <td>23</td>\n",
       "      <td>FD</td>\n",
       "    </tr>\n",
       "    <tr>\n",
       "      <th>3</th>\n",
       "      <td>19.20</td>\n",
       "      <td>Regular</td>\n",
       "      <td>0.000000</td>\n",
       "      <td>Fruits and Vegetables</td>\n",
       "      <td>182.0950</td>\n",
       "      <td>OUT010</td>\n",
       "      <td>Missing</td>\n",
       "      <td>Tier 3</td>\n",
       "      <td>Grocery Store</td>\n",
       "      <td>732.38</td>\n",
       "      <td>24</td>\n",
       "      <td>FD</td>\n",
       "    </tr>\n",
       "    <tr>\n",
       "      <th>4</th>\n",
       "      <td>8.93</td>\n",
       "      <td>Non-Edible</td>\n",
       "      <td>0.000000</td>\n",
       "      <td>Household</td>\n",
       "      <td>53.8614</td>\n",
       "      <td>OUT013</td>\n",
       "      <td>High</td>\n",
       "      <td>Tier 3</td>\n",
       "      <td>Supermarket Type1</td>\n",
       "      <td>994.7052</td>\n",
       "      <td>35</td>\n",
       "      <td>NC</td>\n",
       "    </tr>\n",
       "  </tbody>\n",
       "</table>\n",
       "</div>"
      ],
      "text/plain": [
       "   Item_Weight Item_Fat_Content  Item_Visibility              Item_Type  \\\n",
       "0         9.30          Low Fat         0.016047                  Dairy   \n",
       "1         5.92          Regular         0.019278            Soft Drinks   \n",
       "2        17.50          Low Fat         0.016760                   Meat   \n",
       "3        19.20          Regular         0.000000  Fruits and Vegetables   \n",
       "4         8.93       Non-Edible         0.000000              Household   \n",
       "\n",
       "   Item_MRP Outlet_Identifier Outlet_Size Outlet_Location_Type  \\\n",
       "0  249.8092            OUT049      Medium               Tier 1   \n",
       "1   48.2692            OUT018      Medium               Tier 3   \n",
       "2  141.6180            OUT049      Medium               Tier 1   \n",
       "3  182.0950            OUT010     Missing               Tier 3   \n",
       "4   53.8614            OUT013        High               Tier 3   \n",
       "\n",
       "         Outlet_Type Item_Outlet_Sales  Outlet_Age Item_code  \n",
       "0  Supermarket Type1          3735.138          23        FD  \n",
       "1  Supermarket Type2          443.4228          13        DR  \n",
       "2  Supermarket Type1           2097.27          23        FD  \n",
       "3      Grocery Store            732.38          24        FD  \n",
       "4  Supermarket Type1          994.7052          35        NC  "
      ]
     },
     "execution_count": 87,
     "metadata": {},
     "output_type": "execute_result"
    }
   ],
   "source": [
    "salestrain_EDA.head()"
   ]
  },
  {
   "cell_type": "code",
   "execution_count": 88,
   "id": "b05b252d",
   "metadata": {},
   "outputs": [
    {
     "name": "stderr",
     "output_type": "stream",
     "text": [
      "C:\\Users\\hp\\AppData\\Local\\Temp\\ipykernel_15016\\3615514951.py:1: SettingWithCopyWarning: \n",
      "A value is trying to be set on a copy of a slice from a DataFrame.\n",
      "Try using .loc[row_indexer,col_indexer] = value instead\n",
      "\n",
      "See the caveats in the documentation: https://pandas.pydata.org/pandas-docs/stable/user_guide/indexing.html#returning-a-view-versus-a-copy\n",
      "  salestrain_EDA.Item_Outlet_Sales=salestrain_EDA.Item_Outlet_Sales.astype('float64')\n"
     ]
    }
   ],
   "source": [
    "salestrain_EDA.Item_Outlet_Sales=salestrain_EDA.Item_Outlet_Sales.astype('float64')"
   ]
  },
  {
   "cell_type": "code",
   "execution_count": 89,
   "id": "0923b2f8",
   "metadata": {},
   "outputs": [
    {
     "name": "stdout",
     "output_type": "stream",
     "text": [
      "<class 'pandas.core.frame.DataFrame'>\n",
      "Int64Index: 8523 entries, 0 to 8522\n",
      "Data columns (total 12 columns):\n",
      " #   Column                Non-Null Count  Dtype  \n",
      "---  ------                --------------  -----  \n",
      " 0   Item_Weight           8523 non-null   float64\n",
      " 1   Item_Fat_Content      8523 non-null   object \n",
      " 2   Item_Visibility       8523 non-null   float64\n",
      " 3   Item_Type             8523 non-null   object \n",
      " 4   Item_MRP              8523 non-null   float64\n",
      " 5   Outlet_Identifier     8523 non-null   object \n",
      " 6   Outlet_Size           8523 non-null   object \n",
      " 7   Outlet_Location_Type  8523 non-null   object \n",
      " 8   Outlet_Type           8523 non-null   object \n",
      " 9   Item_Outlet_Sales     8523 non-null   float64\n",
      " 10  Outlet_Age            8523 non-null   int64  \n",
      " 11  Item_code             8523 non-null   object \n",
      "dtypes: float64(4), int64(1), object(7)\n",
      "memory usage: 865.6+ KB\n"
     ]
    }
   ],
   "source": [
    "salestrain_EDA.info()"
   ]
  },
  {
   "cell_type": "markdown",
   "id": "5155db1e",
   "metadata": {},
   "source": [
    "### Hypothesis Testing"
   ]
  },
  {
   "cell_type": "code",
   "execution_count": 90,
   "id": "5c9be29e",
   "metadata": {},
   "outputs": [
    {
     "data": {
      "text/plain": [
       "Item_code\n",
       "DR    1997.333337\n",
       "FD    2215.354223\n",
       "NC    2142.721364\n",
       "Name: Item_Outlet_Sales, dtype: float64"
      ]
     },
     "execution_count": 90,
     "metadata": {},
     "output_type": "execute_result"
    }
   ],
   "source": [
    "#Hypothesis testing to find if there is a significant difference between Item_Outlet_Sales and Item_code\n",
    "#groupby mean of  Item_Outlet_Sales and Item_code\n",
    "\n",
    "salestrain_EDA.Item_Outlet_Sales.groupby(salestrain_EDA.Item_code).mean()"
   ]
  },
  {
   "cell_type": "code",
   "execution_count": 91,
   "id": "cdddb27f",
   "metadata": {},
   "outputs": [],
   "source": [
    "DR=salestrain_EDA[salestrain_EDA.Item_code==\"DR\"]\n",
    "FD=salestrain_EDA[salestrain_EDA.Item_code==\"FD\"]\n",
    "NC=salestrain_EDA[salestrain_EDA.Item_code==\"NC\"]"
   ]
  },
  {
   "cell_type": "markdown",
   "id": "580cec54",
   "metadata": {},
   "source": [
    "Null hypothesis - There is no significant difference between the two given variables. (p-values greater than 0.05)\n",
    "\n",
    "Alternative Hypothesis - There is significant difference between the two given variables.(p-values less than 0.05)"
   ]
  },
  {
   "cell_type": "code",
   "execution_count": 92,
   "id": "72f781bb",
   "metadata": {},
   "outputs": [],
   "source": [
    "#performing hypothesis testing using one way anova\n",
    "\n",
    "from scipy.stats import f_oneway"
   ]
  },
  {
   "cell_type": "code",
   "execution_count": 93,
   "id": "6dd24492",
   "metadata": {},
   "outputs": [
    {
     "data": {
      "text/plain": [
       "F_onewayResult(statistic=6.278765679145161, pvalue=0.0018844050713309338)"
      ]
     },
     "execution_count": 93,
     "metadata": {},
     "output_type": "execute_result"
    }
   ],
   "source": [
    "f_oneway(DR.Item_Outlet_Sales,FD.Item_Outlet_Sales,NC.Item_Outlet_Sales)\n",
    "\n",
    "# Since pvalue=0.0018844050713309338 is less than 0.05, Reject null Hypothesis\n",
    "\n",
    "#Alternative Hypothesis True, there is significant difference of mean of Item_Outlet_Sales to Item_code"
   ]
  },
  {
   "cell_type": "code",
   "execution_count": 94,
   "id": "56285253",
   "metadata": {},
   "outputs": [
    {
     "data": {
      "text/plain": [
       "Outlet_Location_Type\n",
       "Tier 1    1876.909159\n",
       "Tier 2    2323.990559\n",
       "Tier 3    2279.627651\n",
       "Name: Item_Outlet_Sales, dtype: float64"
      ]
     },
     "execution_count": 94,
     "metadata": {},
     "output_type": "execute_result"
    }
   ],
   "source": [
    "#Hypothesis testing to find if there is a significant difference between Item_Outlet_Sales and Outlet_Location_Type\n",
    "\n",
    "salestrain_EDA.Item_Outlet_Sales.groupby(salestrain_EDA.Outlet_Location_Type).mean()"
   ]
  },
  {
   "cell_type": "code",
   "execution_count": 95,
   "id": "904fa390",
   "metadata": {},
   "outputs": [],
   "source": [
    "T1=salestrain_EDA[salestrain_EDA.Outlet_Location_Type==\"Tier 1\"]\n",
    "T2=salestrain_EDA[salestrain_EDA.Outlet_Location_Type==\"Tier 2\"]\n",
    "T3=salestrain_EDA[salestrain_EDA.Outlet_Location_Type==\"Tier 3\"]"
   ]
  },
  {
   "cell_type": "code",
   "execution_count": 96,
   "id": "1901e177",
   "metadata": {},
   "outputs": [
    {
     "data": {
      "text/plain": [
       "F_onewayResult(statistic=53.947739874560675, pvalue=5.2228172988842975e-24)"
      ]
     },
     "execution_count": 96,
     "metadata": {},
     "output_type": "execute_result"
    }
   ],
   "source": [
    "f_oneway(T1.Item_Outlet_Sales,T2.Item_Outlet_Sales,T3.Item_Outlet_Sales)\n",
    "\n",
    "# Since pvalue=5.2228172988842975e-24 is less than 0.05, Reject null Hypothesis\n",
    "\n",
    "#Alternative Hypothesis True,there is significant difference of mean of Item_Outlet_Sales to Outlet_Location_Type"
   ]
  },
  {
   "cell_type": "code",
   "execution_count": 97,
   "id": "a1e4b034",
   "metadata": {},
   "outputs": [],
   "source": [
    "#To find the relationship between Item_Fat_Content and Item_Type we are doing chi2 test of hypothesis\n",
    "from scipy.stats import chi2_contingency"
   ]
  },
  {
   "cell_type": "markdown",
   "id": "a41ab17a",
   "metadata": {},
   "source": [
    "Null hypothesis - There is no relationship between the two given variables. (p-values greater than 0.05)\n",
    "\n",
    "Alternative Hypothesis - There is significant difference between the two given variables.(p-values less than 0.05)"
   ]
  },
  {
   "cell_type": "code",
   "execution_count": 98,
   "id": "6f0da984",
   "metadata": {},
   "outputs": [
    {
     "data": {
      "text/plain": [
       "Chi2ContingencyResult(statistic=9022.40827631828, pvalue=0.0, dof=30, expected_freq=array([[297.88384372, 121.57127772, 228.54487856],\n",
       "       [115.38401971,  47.09010912,  88.52587117],\n",
       "       [ 50.56670187,  20.63709961,  38.79619852],\n",
       "       [298.34354101, 121.75888772, 228.89757128],\n",
       "       [313.51355157, 127.9500176 , 240.53643083],\n",
       "       [393.50087997, 160.59415699, 301.90496304],\n",
       "       [566.34706089, 231.13551566, 434.51742344],\n",
       "       [ 98.37521999,  40.14853925,  75.47624076],\n",
       "       [239.04259064,  97.55719817, 183.40021119],\n",
       "       [418.32453361, 170.7250968 , 320.95036959],\n",
       "       [195.37134812,  79.7342485 , 149.89440338],\n",
       "       [ 77.68884196,  31.70608941,  59.60506864],\n",
       "       [ 29.42062654,  12.00703977,  22.57233369],\n",
       "       [551.63674762, 225.13199578, 423.2312566 ],\n",
       "       [204.56529391,  83.48644843, 156.94825766],\n",
       "       [ 68.03519887,  27.76627948,  52.19852165]]))"
      ]
     },
     "execution_count": 98,
     "metadata": {},
     "output_type": "execute_result"
    }
   ],
   "source": [
    "chi2_contingency(pd.crosstab(salestrain_EDA.Item_Type,salestrain_EDA.Item_Fat_Content))\n",
    "\n",
    "#Since the pvalue=0.0 is less than 0.05, reject null\n",
    "# Alternative hyothesis ture, there is a relationship between Item_Fat_Content and Item_Type"
   ]
  },
  {
   "cell_type": "code",
   "execution_count": 99,
   "id": "898c0fa4",
   "metadata": {},
   "outputs": [
    {
     "data": {
      "text/plain": [
       "Chi2ContingencyResult(statistic=5380.286956123781, pvalue=0.0, dof=9, expected_freq=array([[ 118.42731433,  609.85146075,  101.47788337,  102.24334155],\n",
       "       [ 354.90073918, 1827.59134108,  304.10700458,  306.40091517],\n",
       "       [ 306.23372052, 1576.97641675,  262.40525637,  264.38460636],\n",
       "       [ 303.43822598, 1562.58078141,  260.00985568,  261.97113692]]))"
      ]
     },
     "execution_count": 99,
     "metadata": {},
     "output_type": "execute_result"
    }
   ],
   "source": [
    "#To find the relationship between Outlet_Size and Outlet_Type we are doing chi2 test of hypothesis\n",
    "\n",
    "chi2_contingency(pd.crosstab(salestrain_EDA.Outlet_Size,salestrain_EDA.Outlet_Type))\n",
    "\n",
    "#Since the pvalue=0.0 is less than 0.05, reject null\n",
    "# Alternative hyothesis ture, there is a relationship between Outlet_Size and Outlet_Type"
   ]
  },
  {
   "cell_type": "code",
   "execution_count": 100,
   "id": "23797fea",
   "metadata": {},
   "outputs": [
    {
     "data": {
      "text/html": [
       "<div>\n",
       "<style scoped>\n",
       "    .dataframe tbody tr th:only-of-type {\n",
       "        vertical-align: middle;\n",
       "    }\n",
       "\n",
       "    .dataframe tbody tr th {\n",
       "        vertical-align: top;\n",
       "    }\n",
       "\n",
       "    .dataframe thead th {\n",
       "        text-align: right;\n",
       "    }\n",
       "</style>\n",
       "<table border=\"1\" class=\"dataframe\">\n",
       "  <thead>\n",
       "    <tr style=\"text-align: right;\">\n",
       "      <th></th>\n",
       "      <th>Item_Weight</th>\n",
       "      <th>Item_Visibility</th>\n",
       "      <th>Item_MRP</th>\n",
       "      <th>Outlet_Age</th>\n",
       "      <th>Item_Outlet_Sales</th>\n",
       "      <th>Item_Fat_Content_Low Fat</th>\n",
       "      <th>Item_Fat_Content_Non-Edible</th>\n",
       "      <th>Item_Fat_Content_Regular</th>\n",
       "      <th>Item_Type_Baking Goods</th>\n",
       "      <th>Item_Type_Breads</th>\n",
       "      <th>...</th>\n",
       "      <th>Outlet_Location_Type_Tier 1</th>\n",
       "      <th>Outlet_Location_Type_Tier 2</th>\n",
       "      <th>Outlet_Location_Type_Tier 3</th>\n",
       "      <th>Outlet_Type_Grocery Store</th>\n",
       "      <th>Outlet_Type_Supermarket Type1</th>\n",
       "      <th>Outlet_Type_Supermarket Type2</th>\n",
       "      <th>Outlet_Type_Supermarket Type3</th>\n",
       "      <th>Item_code_DR</th>\n",
       "      <th>Item_code_FD</th>\n",
       "      <th>Item_code_NC</th>\n",
       "    </tr>\n",
       "  </thead>\n",
       "  <tbody>\n",
       "    <tr>\n",
       "      <th>0</th>\n",
       "      <td>-0.521322</td>\n",
       "      <td>-0.566751</td>\n",
       "      <td>1.171145</td>\n",
       "      <td>0.000000</td>\n",
       "      <td>3735.138</td>\n",
       "      <td>1</td>\n",
       "      <td>0</td>\n",
       "      <td>0</td>\n",
       "      <td>0</td>\n",
       "      <td>0</td>\n",
       "      <td>...</td>\n",
       "      <td>1</td>\n",
       "      <td>0</td>\n",
       "      <td>0</td>\n",
       "      <td>0</td>\n",
       "      <td>1</td>\n",
       "      <td>0</td>\n",
       "      <td>0</td>\n",
       "      <td>0</td>\n",
       "      <td>1</td>\n",
       "      <td>0</td>\n",
       "    </tr>\n",
       "    <tr>\n",
       "      <th>1</th>\n",
       "      <td>-1.025799</td>\n",
       "      <td>-0.518530</td>\n",
       "      <td>-1.023237</td>\n",
       "      <td>-0.588235</td>\n",
       "      <td>443.4228</td>\n",
       "      <td>0</td>\n",
       "      <td>0</td>\n",
       "      <td>1</td>\n",
       "      <td>0</td>\n",
       "      <td>0</td>\n",
       "      <td>...</td>\n",
       "      <td>0</td>\n",
       "      <td>0</td>\n",
       "      <td>1</td>\n",
       "      <td>0</td>\n",
       "      <td>0</td>\n",
       "      <td>1</td>\n",
       "      <td>0</td>\n",
       "      <td>1</td>\n",
       "      <td>0</td>\n",
       "      <td>0</td>\n",
       "    </tr>\n",
       "    <tr>\n",
       "      <th>2</th>\n",
       "      <td>0.702559</td>\n",
       "      <td>-0.556113</td>\n",
       "      <td>-0.006849</td>\n",
       "      <td>0.000000</td>\n",
       "      <td>2097.27</td>\n",
       "      <td>1</td>\n",
       "      <td>0</td>\n",
       "      <td>0</td>\n",
       "      <td>0</td>\n",
       "      <td>0</td>\n",
       "      <td>...</td>\n",
       "      <td>1</td>\n",
       "      <td>0</td>\n",
       "      <td>0</td>\n",
       "      <td>0</td>\n",
       "      <td>1</td>\n",
       "      <td>0</td>\n",
       "      <td>0</td>\n",
       "      <td>0</td>\n",
       "      <td>1</td>\n",
       "      <td>0</td>\n",
       "    </tr>\n",
       "    <tr>\n",
       "      <th>3</th>\n",
       "      <td>0.956290</td>\n",
       "      <td>-0.806258</td>\n",
       "      <td>0.433868</td>\n",
       "      <td>0.058824</td>\n",
       "      <td>732.38</td>\n",
       "      <td>0</td>\n",
       "      <td>0</td>\n",
       "      <td>1</td>\n",
       "      <td>0</td>\n",
       "      <td>0</td>\n",
       "      <td>...</td>\n",
       "      <td>0</td>\n",
       "      <td>0</td>\n",
       "      <td>1</td>\n",
       "      <td>1</td>\n",
       "      <td>0</td>\n",
       "      <td>0</td>\n",
       "      <td>0</td>\n",
       "      <td>0</td>\n",
       "      <td>1</td>\n",
       "      <td>0</td>\n",
       "    </tr>\n",
       "    <tr>\n",
       "      <th>4</th>\n",
       "      <td>-0.576545</td>\n",
       "      <td>-0.806258</td>\n",
       "      <td>-0.962349</td>\n",
       "      <td>0.705882</td>\n",
       "      <td>994.7052</td>\n",
       "      <td>0</td>\n",
       "      <td>1</td>\n",
       "      <td>0</td>\n",
       "      <td>0</td>\n",
       "      <td>0</td>\n",
       "      <td>...</td>\n",
       "      <td>0</td>\n",
       "      <td>0</td>\n",
       "      <td>1</td>\n",
       "      <td>0</td>\n",
       "      <td>1</td>\n",
       "      <td>0</td>\n",
       "      <td>0</td>\n",
       "      <td>0</td>\n",
       "      <td>0</td>\n",
       "      <td>1</td>\n",
       "    </tr>\n",
       "  </tbody>\n",
       "</table>\n",
       "<p>5 rows × 48 columns</p>\n",
       "</div>"
      ],
      "text/plain": [
       "   Item_Weight  Item_Visibility  Item_MRP  Outlet_Age Item_Outlet_Sales  \\\n",
       "0    -0.521322        -0.566751  1.171145    0.000000          3735.138   \n",
       "1    -1.025799        -0.518530 -1.023237   -0.588235          443.4228   \n",
       "2     0.702559        -0.556113 -0.006849    0.000000           2097.27   \n",
       "3     0.956290        -0.806258  0.433868    0.058824            732.38   \n",
       "4    -0.576545        -0.806258 -0.962349    0.705882          994.7052   \n",
       "\n",
       "   Item_Fat_Content_Low Fat  Item_Fat_Content_Non-Edible  \\\n",
       "0                         1                            0   \n",
       "1                         0                            0   \n",
       "2                         1                            0   \n",
       "3                         0                            0   \n",
       "4                         0                            1   \n",
       "\n",
       "   Item_Fat_Content_Regular  Item_Type_Baking Goods  Item_Type_Breads  ...  \\\n",
       "0                         0                       0                 0  ...   \n",
       "1                         1                       0                 0  ...   \n",
       "2                         0                       0                 0  ...   \n",
       "3                         1                       0                 0  ...   \n",
       "4                         0                       0                 0  ...   \n",
       "\n",
       "   Outlet_Location_Type_Tier 1  Outlet_Location_Type_Tier 2  \\\n",
       "0                            1                            0   \n",
       "1                            0                            0   \n",
       "2                            1                            0   \n",
       "3                            0                            0   \n",
       "4                            0                            0   \n",
       "\n",
       "   Outlet_Location_Type_Tier 3  Outlet_Type_Grocery Store  \\\n",
       "0                            0                          0   \n",
       "1                            1                          0   \n",
       "2                            0                          0   \n",
       "3                            1                          1   \n",
       "4                            1                          0   \n",
       "\n",
       "   Outlet_Type_Supermarket Type1  Outlet_Type_Supermarket Type2  \\\n",
       "0                              1                              0   \n",
       "1                              0                              1   \n",
       "2                              1                              0   \n",
       "3                              0                              0   \n",
       "4                              1                              0   \n",
       "\n",
       "   Outlet_Type_Supermarket Type3  Item_code_DR  Item_code_FD  Item_code_NC  \n",
       "0                              0             0             1             0  \n",
       "1                              0             1             0             0  \n",
       "2                              0             0             1             0  \n",
       "3                              0             0             1             0  \n",
       "4                              0             0             0             1  \n",
       "\n",
       "[5 rows x 48 columns]"
      ]
     },
     "execution_count": 100,
     "metadata": {},
     "output_type": "execute_result"
    }
   ],
   "source": [
    "salestrain_df.head()"
   ]
  },
  {
   "cell_type": "code",
   "execution_count": 101,
   "id": "0b096ccd",
   "metadata": {},
   "outputs": [
    {
     "data": {
      "text/html": [
       "<div>\n",
       "<style scoped>\n",
       "    .dataframe tbody tr th:only-of-type {\n",
       "        vertical-align: middle;\n",
       "    }\n",
       "\n",
       "    .dataframe tbody tr th {\n",
       "        vertical-align: top;\n",
       "    }\n",
       "\n",
       "    .dataframe thead th {\n",
       "        text-align: right;\n",
       "    }\n",
       "</style>\n",
       "<table border=\"1\" class=\"dataframe\">\n",
       "  <thead>\n",
       "    <tr style=\"text-align: right;\">\n",
       "      <th></th>\n",
       "      <th>Item_Weight</th>\n",
       "      <th>Item_Visibility</th>\n",
       "      <th>Item_MRP</th>\n",
       "      <th>Outlet_Age</th>\n",
       "      <th>Item_Outlet_Sales</th>\n",
       "      <th>Item_Fat_Content_Low Fat</th>\n",
       "      <th>Item_Fat_Content_Non-Edible</th>\n",
       "      <th>Item_Fat_Content_Regular</th>\n",
       "      <th>Item_Type_Baking Goods</th>\n",
       "      <th>Item_Type_Breads</th>\n",
       "      <th>...</th>\n",
       "      <th>Outlet_Location_Type_Tier 1</th>\n",
       "      <th>Outlet_Location_Type_Tier 2</th>\n",
       "      <th>Outlet_Location_Type_Tier 3</th>\n",
       "      <th>Outlet_Type_Grocery Store</th>\n",
       "      <th>Outlet_Type_Supermarket Type1</th>\n",
       "      <th>Outlet_Type_Supermarket Type2</th>\n",
       "      <th>Outlet_Type_Supermarket Type3</th>\n",
       "      <th>Item_code_DR</th>\n",
       "      <th>Item_code_FD</th>\n",
       "      <th>Item_code_NC</th>\n",
       "    </tr>\n",
       "  </thead>\n",
       "  <tbody>\n",
       "    <tr>\n",
       "      <th>8523</th>\n",
       "      <td>1.187634</td>\n",
       "      <td>-0.693352</td>\n",
       "      <td>-0.374384</td>\n",
       "      <td>0.000000</td>\n",
       "      <td>test</td>\n",
       "      <td>1</td>\n",
       "      <td>0</td>\n",
       "      <td>0</td>\n",
       "      <td>0</td>\n",
       "      <td>0</td>\n",
       "      <td>...</td>\n",
       "      <td>1</td>\n",
       "      <td>0</td>\n",
       "      <td>0</td>\n",
       "      <td>0</td>\n",
       "      <td>1</td>\n",
       "      <td>0</td>\n",
       "      <td>0</td>\n",
       "      <td>0</td>\n",
       "      <td>1</td>\n",
       "      <td>0</td>\n",
       "    </tr>\n",
       "    <tr>\n",
       "      <th>8524</th>\n",
       "      <td>-0.670575</td>\n",
       "      <td>-0.232724</td>\n",
       "      <td>-0.598051</td>\n",
       "      <td>-0.470588</td>\n",
       "      <td>test</td>\n",
       "      <td>0</td>\n",
       "      <td>0</td>\n",
       "      <td>1</td>\n",
       "      <td>0</td>\n",
       "      <td>0</td>\n",
       "      <td>...</td>\n",
       "      <td>0</td>\n",
       "      <td>1</td>\n",
       "      <td>0</td>\n",
       "      <td>0</td>\n",
       "      <td>1</td>\n",
       "      <td>0</td>\n",
       "      <td>0</td>\n",
       "      <td>0</td>\n",
       "      <td>1</td>\n",
       "      <td>0</td>\n",
       "    </tr>\n",
       "    <tr>\n",
       "      <th>8525</th>\n",
       "      <td>0.269723</td>\n",
       "      <td>0.679900</td>\n",
       "      <td>1.083437</td>\n",
       "      <td>0.058824</td>\n",
       "      <td>test</td>\n",
       "      <td>0</td>\n",
       "      <td>1</td>\n",
       "      <td>0</td>\n",
       "      <td>0</td>\n",
       "      <td>0</td>\n",
       "      <td>...</td>\n",
       "      <td>0</td>\n",
       "      <td>0</td>\n",
       "      <td>1</td>\n",
       "      <td>1</td>\n",
       "      <td>0</td>\n",
       "      <td>0</td>\n",
       "      <td>0</td>\n",
       "      <td>0</td>\n",
       "      <td>0</td>\n",
       "      <td>1</td>\n",
       "    </tr>\n",
       "    <tr>\n",
       "      <th>8526</th>\n",
       "      <td>-0.817590</td>\n",
       "      <td>-0.576586</td>\n",
       "      <td>0.139226</td>\n",
       "      <td>-0.470588</td>\n",
       "      <td>test</td>\n",
       "      <td>1</td>\n",
       "      <td>0</td>\n",
       "      <td>0</td>\n",
       "      <td>0</td>\n",
       "      <td>0</td>\n",
       "      <td>...</td>\n",
       "      <td>0</td>\n",
       "      <td>1</td>\n",
       "      <td>0</td>\n",
       "      <td>0</td>\n",
       "      <td>1</td>\n",
       "      <td>0</td>\n",
       "      <td>0</td>\n",
       "      <td>0</td>\n",
       "      <td>1</td>\n",
       "      <td>0</td>\n",
       "    </tr>\n",
       "    <tr>\n",
       "      <th>8527</th>\n",
       "      <td>0.000000</td>\n",
       "      <td>0.963840</td>\n",
       "      <td>1.001518</td>\n",
       "      <td>0.823529</td>\n",
       "      <td>test</td>\n",
       "      <td>0</td>\n",
       "      <td>0</td>\n",
       "      <td>1</td>\n",
       "      <td>0</td>\n",
       "      <td>0</td>\n",
       "      <td>...</td>\n",
       "      <td>0</td>\n",
       "      <td>0</td>\n",
       "      <td>1</td>\n",
       "      <td>0</td>\n",
       "      <td>0</td>\n",
       "      <td>0</td>\n",
       "      <td>1</td>\n",
       "      <td>0</td>\n",
       "      <td>1</td>\n",
       "      <td>0</td>\n",
       "    </tr>\n",
       "  </tbody>\n",
       "</table>\n",
       "<p>5 rows × 48 columns</p>\n",
       "</div>"
      ],
      "text/plain": [
       "      Item_Weight  Item_Visibility  Item_MRP  Outlet_Age Item_Outlet_Sales  \\\n",
       "8523     1.187634        -0.693352 -0.374384    0.000000              test   \n",
       "8524    -0.670575        -0.232724 -0.598051   -0.470588              test   \n",
       "8525     0.269723         0.679900  1.083437    0.058824              test   \n",
       "8526    -0.817590        -0.576586  0.139226   -0.470588              test   \n",
       "8527     0.000000         0.963840  1.001518    0.823529              test   \n",
       "\n",
       "      Item_Fat_Content_Low Fat  Item_Fat_Content_Non-Edible  \\\n",
       "8523                         1                            0   \n",
       "8524                         0                            0   \n",
       "8525                         0                            1   \n",
       "8526                         1                            0   \n",
       "8527                         0                            0   \n",
       "\n",
       "      Item_Fat_Content_Regular  Item_Type_Baking Goods  Item_Type_Breads  ...  \\\n",
       "8523                         0                       0                 0  ...   \n",
       "8524                         1                       0                 0  ...   \n",
       "8525                         0                       0                 0  ...   \n",
       "8526                         0                       0                 0  ...   \n",
       "8527                         1                       0                 0  ...   \n",
       "\n",
       "      Outlet_Location_Type_Tier 1  Outlet_Location_Type_Tier 2  \\\n",
       "8523                            1                            0   \n",
       "8524                            0                            1   \n",
       "8525                            0                            0   \n",
       "8526                            0                            1   \n",
       "8527                            0                            0   \n",
       "\n",
       "      Outlet_Location_Type_Tier 3  Outlet_Type_Grocery Store  \\\n",
       "8523                            0                          0   \n",
       "8524                            0                          0   \n",
       "8525                            1                          1   \n",
       "8526                            0                          0   \n",
       "8527                            1                          0   \n",
       "\n",
       "      Outlet_Type_Supermarket Type1  Outlet_Type_Supermarket Type2  \\\n",
       "8523                              1                              0   \n",
       "8524                              1                              0   \n",
       "8525                              0                              0   \n",
       "8526                              1                              0   \n",
       "8527                              0                              0   \n",
       "\n",
       "      Outlet_Type_Supermarket Type3  Item_code_DR  Item_code_FD  Item_code_NC  \n",
       "8523                              0             0             1             0  \n",
       "8524                              0             0             1             0  \n",
       "8525                              0             0             0             1  \n",
       "8526                              0             0             1             0  \n",
       "8527                              1             0             1             0  \n",
       "\n",
       "[5 rows x 48 columns]"
      ]
     },
     "execution_count": 101,
     "metadata": {},
     "output_type": "execute_result"
    }
   ],
   "source": [
    "salestest_df.head()"
   ]
  },
  {
   "cell_type": "code",
   "execution_count": 102,
   "id": "d00aa348",
   "metadata": {},
   "outputs": [
    {
     "name": "stdout",
     "output_type": "stream",
     "text": [
      "<class 'pandas.core.frame.DataFrame'>\n",
      "Int64Index: 8523 entries, 0 to 8522\n",
      "Data columns (total 48 columns):\n",
      " #   Column                           Non-Null Count  Dtype  \n",
      "---  ------                           --------------  -----  \n",
      " 0   Item_Weight                      8523 non-null   float64\n",
      " 1   Item_Visibility                  8523 non-null   float64\n",
      " 2   Item_MRP                         8523 non-null   float64\n",
      " 3   Outlet_Age                       8523 non-null   float64\n",
      " 4   Item_Outlet_Sales                8523 non-null   object \n",
      " 5   Item_Fat_Content_Low Fat         8523 non-null   uint8  \n",
      " 6   Item_Fat_Content_Non-Edible      8523 non-null   uint8  \n",
      " 7   Item_Fat_Content_Regular         8523 non-null   uint8  \n",
      " 8   Item_Type_Baking Goods           8523 non-null   uint8  \n",
      " 9   Item_Type_Breads                 8523 non-null   uint8  \n",
      " 10  Item_Type_Breakfast              8523 non-null   uint8  \n",
      " 11  Item_Type_Canned                 8523 non-null   uint8  \n",
      " 12  Item_Type_Dairy                  8523 non-null   uint8  \n",
      " 13  Item_Type_Frozen Foods           8523 non-null   uint8  \n",
      " 14  Item_Type_Fruits and Vegetables  8523 non-null   uint8  \n",
      " 15  Item_Type_Hard Drinks            8523 non-null   uint8  \n",
      " 16  Item_Type_Health and Hygiene     8523 non-null   uint8  \n",
      " 17  Item_Type_Household              8523 non-null   uint8  \n",
      " 18  Item_Type_Meat                   8523 non-null   uint8  \n",
      " 19  Item_Type_Others                 8523 non-null   uint8  \n",
      " 20  Item_Type_Seafood                8523 non-null   uint8  \n",
      " 21  Item_Type_Snack Foods            8523 non-null   uint8  \n",
      " 22  Item_Type_Soft Drinks            8523 non-null   uint8  \n",
      " 23  Item_Type_Starchy Foods          8523 non-null   uint8  \n",
      " 24  Outlet_Identifier_OUT010         8523 non-null   uint8  \n",
      " 25  Outlet_Identifier_OUT013         8523 non-null   uint8  \n",
      " 26  Outlet_Identifier_OUT017         8523 non-null   uint8  \n",
      " 27  Outlet_Identifier_OUT018         8523 non-null   uint8  \n",
      " 28  Outlet_Identifier_OUT019         8523 non-null   uint8  \n",
      " 29  Outlet_Identifier_OUT027         8523 non-null   uint8  \n",
      " 30  Outlet_Identifier_OUT035         8523 non-null   uint8  \n",
      " 31  Outlet_Identifier_OUT045         8523 non-null   uint8  \n",
      " 32  Outlet_Identifier_OUT046         8523 non-null   uint8  \n",
      " 33  Outlet_Identifier_OUT049         8523 non-null   uint8  \n",
      " 34  Outlet_Size_High                 8523 non-null   uint8  \n",
      " 35  Outlet_Size_Medium               8523 non-null   uint8  \n",
      " 36  Outlet_Size_Missing              8523 non-null   uint8  \n",
      " 37  Outlet_Size_Small                8523 non-null   uint8  \n",
      " 38  Outlet_Location_Type_Tier 1      8523 non-null   uint8  \n",
      " 39  Outlet_Location_Type_Tier 2      8523 non-null   uint8  \n",
      " 40  Outlet_Location_Type_Tier 3      8523 non-null   uint8  \n",
      " 41  Outlet_Type_Grocery Store        8523 non-null   uint8  \n",
      " 42  Outlet_Type_Supermarket Type1    8523 non-null   uint8  \n",
      " 43  Outlet_Type_Supermarket Type2    8523 non-null   uint8  \n",
      " 44  Outlet_Type_Supermarket Type3    8523 non-null   uint8  \n",
      " 45  Item_code_DR                     8523 non-null   uint8  \n",
      " 46  Item_code_FD                     8523 non-null   uint8  \n",
      " 47  Item_code_NC                     8523 non-null   uint8  \n",
      "dtypes: float64(4), object(1), uint8(43)\n",
      "memory usage: 757.4+ KB\n"
     ]
    }
   ],
   "source": [
    "salestrain_df.info()"
   ]
  },
  {
   "cell_type": "code",
   "execution_count": 103,
   "id": "d3685988",
   "metadata": {},
   "outputs": [
    {
     "name": "stdout",
     "output_type": "stream",
     "text": [
      "<class 'pandas.core.frame.DataFrame'>\n",
      "Int64Index: 5681 entries, 8523 to 14203\n",
      "Data columns (total 48 columns):\n",
      " #   Column                           Non-Null Count  Dtype  \n",
      "---  ------                           --------------  -----  \n",
      " 0   Item_Weight                      5681 non-null   float64\n",
      " 1   Item_Visibility                  5681 non-null   float64\n",
      " 2   Item_MRP                         5681 non-null   float64\n",
      " 3   Outlet_Age                       5681 non-null   float64\n",
      " 4   Item_Outlet_Sales                5681 non-null   object \n",
      " 5   Item_Fat_Content_Low Fat         5681 non-null   uint8  \n",
      " 6   Item_Fat_Content_Non-Edible      5681 non-null   uint8  \n",
      " 7   Item_Fat_Content_Regular         5681 non-null   uint8  \n",
      " 8   Item_Type_Baking Goods           5681 non-null   uint8  \n",
      " 9   Item_Type_Breads                 5681 non-null   uint8  \n",
      " 10  Item_Type_Breakfast              5681 non-null   uint8  \n",
      " 11  Item_Type_Canned                 5681 non-null   uint8  \n",
      " 12  Item_Type_Dairy                  5681 non-null   uint8  \n",
      " 13  Item_Type_Frozen Foods           5681 non-null   uint8  \n",
      " 14  Item_Type_Fruits and Vegetables  5681 non-null   uint8  \n",
      " 15  Item_Type_Hard Drinks            5681 non-null   uint8  \n",
      " 16  Item_Type_Health and Hygiene     5681 non-null   uint8  \n",
      " 17  Item_Type_Household              5681 non-null   uint8  \n",
      " 18  Item_Type_Meat                   5681 non-null   uint8  \n",
      " 19  Item_Type_Others                 5681 non-null   uint8  \n",
      " 20  Item_Type_Seafood                5681 non-null   uint8  \n",
      " 21  Item_Type_Snack Foods            5681 non-null   uint8  \n",
      " 22  Item_Type_Soft Drinks            5681 non-null   uint8  \n",
      " 23  Item_Type_Starchy Foods          5681 non-null   uint8  \n",
      " 24  Outlet_Identifier_OUT010         5681 non-null   uint8  \n",
      " 25  Outlet_Identifier_OUT013         5681 non-null   uint8  \n",
      " 26  Outlet_Identifier_OUT017         5681 non-null   uint8  \n",
      " 27  Outlet_Identifier_OUT018         5681 non-null   uint8  \n",
      " 28  Outlet_Identifier_OUT019         5681 non-null   uint8  \n",
      " 29  Outlet_Identifier_OUT027         5681 non-null   uint8  \n",
      " 30  Outlet_Identifier_OUT035         5681 non-null   uint8  \n",
      " 31  Outlet_Identifier_OUT045         5681 non-null   uint8  \n",
      " 32  Outlet_Identifier_OUT046         5681 non-null   uint8  \n",
      " 33  Outlet_Identifier_OUT049         5681 non-null   uint8  \n",
      " 34  Outlet_Size_High                 5681 non-null   uint8  \n",
      " 35  Outlet_Size_Medium               5681 non-null   uint8  \n",
      " 36  Outlet_Size_Missing              5681 non-null   uint8  \n",
      " 37  Outlet_Size_Small                5681 non-null   uint8  \n",
      " 38  Outlet_Location_Type_Tier 1      5681 non-null   uint8  \n",
      " 39  Outlet_Location_Type_Tier 2      5681 non-null   uint8  \n",
      " 40  Outlet_Location_Type_Tier 3      5681 non-null   uint8  \n",
      " 41  Outlet_Type_Grocery Store        5681 non-null   uint8  \n",
      " 42  Outlet_Type_Supermarket Type1    5681 non-null   uint8  \n",
      " 43  Outlet_Type_Supermarket Type2    5681 non-null   uint8  \n",
      " 44  Outlet_Type_Supermarket Type3    5681 non-null   uint8  \n",
      " 45  Item_code_DR                     5681 non-null   uint8  \n",
      " 46  Item_code_FD                     5681 non-null   uint8  \n",
      " 47  Item_code_NC                     5681 non-null   uint8  \n",
      "dtypes: float64(4), object(1), uint8(43)\n",
      "memory usage: 504.9+ KB\n"
     ]
    }
   ],
   "source": [
    "salestest_df.info()"
   ]
  },
  {
   "cell_type": "code",
   "execution_count": 104,
   "id": "e3a44bbb",
   "metadata": {},
   "outputs": [],
   "source": [
    "#Delete Item_Outlet_sales from salestest_df\n",
    "salestest_df=salestest_df.drop('Item_Outlet_Sales',axis=1)"
   ]
  },
  {
   "cell_type": "code",
   "execution_count": 105,
   "id": "09d9d119",
   "metadata": {},
   "outputs": [
    {
     "name": "stdout",
     "output_type": "stream",
     "text": [
      "<class 'pandas.core.frame.DataFrame'>\n",
      "Int64Index: 5681 entries, 8523 to 14203\n",
      "Data columns (total 47 columns):\n",
      " #   Column                           Non-Null Count  Dtype  \n",
      "---  ------                           --------------  -----  \n",
      " 0   Item_Weight                      5681 non-null   float64\n",
      " 1   Item_Visibility                  5681 non-null   float64\n",
      " 2   Item_MRP                         5681 non-null   float64\n",
      " 3   Outlet_Age                       5681 non-null   float64\n",
      " 4   Item_Fat_Content_Low Fat         5681 non-null   uint8  \n",
      " 5   Item_Fat_Content_Non-Edible      5681 non-null   uint8  \n",
      " 6   Item_Fat_Content_Regular         5681 non-null   uint8  \n",
      " 7   Item_Type_Baking Goods           5681 non-null   uint8  \n",
      " 8   Item_Type_Breads                 5681 non-null   uint8  \n",
      " 9   Item_Type_Breakfast              5681 non-null   uint8  \n",
      " 10  Item_Type_Canned                 5681 non-null   uint8  \n",
      " 11  Item_Type_Dairy                  5681 non-null   uint8  \n",
      " 12  Item_Type_Frozen Foods           5681 non-null   uint8  \n",
      " 13  Item_Type_Fruits and Vegetables  5681 non-null   uint8  \n",
      " 14  Item_Type_Hard Drinks            5681 non-null   uint8  \n",
      " 15  Item_Type_Health and Hygiene     5681 non-null   uint8  \n",
      " 16  Item_Type_Household              5681 non-null   uint8  \n",
      " 17  Item_Type_Meat                   5681 non-null   uint8  \n",
      " 18  Item_Type_Others                 5681 non-null   uint8  \n",
      " 19  Item_Type_Seafood                5681 non-null   uint8  \n",
      " 20  Item_Type_Snack Foods            5681 non-null   uint8  \n",
      " 21  Item_Type_Soft Drinks            5681 non-null   uint8  \n",
      " 22  Item_Type_Starchy Foods          5681 non-null   uint8  \n",
      " 23  Outlet_Identifier_OUT010         5681 non-null   uint8  \n",
      " 24  Outlet_Identifier_OUT013         5681 non-null   uint8  \n",
      " 25  Outlet_Identifier_OUT017         5681 non-null   uint8  \n",
      " 26  Outlet_Identifier_OUT018         5681 non-null   uint8  \n",
      " 27  Outlet_Identifier_OUT019         5681 non-null   uint8  \n",
      " 28  Outlet_Identifier_OUT027         5681 non-null   uint8  \n",
      " 29  Outlet_Identifier_OUT035         5681 non-null   uint8  \n",
      " 30  Outlet_Identifier_OUT045         5681 non-null   uint8  \n",
      " 31  Outlet_Identifier_OUT046         5681 non-null   uint8  \n",
      " 32  Outlet_Identifier_OUT049         5681 non-null   uint8  \n",
      " 33  Outlet_Size_High                 5681 non-null   uint8  \n",
      " 34  Outlet_Size_Medium               5681 non-null   uint8  \n",
      " 35  Outlet_Size_Missing              5681 non-null   uint8  \n",
      " 36  Outlet_Size_Small                5681 non-null   uint8  \n",
      " 37  Outlet_Location_Type_Tier 1      5681 non-null   uint8  \n",
      " 38  Outlet_Location_Type_Tier 2      5681 non-null   uint8  \n",
      " 39  Outlet_Location_Type_Tier 3      5681 non-null   uint8  \n",
      " 40  Outlet_Type_Grocery Store        5681 non-null   uint8  \n",
      " 41  Outlet_Type_Supermarket Type1    5681 non-null   uint8  \n",
      " 42  Outlet_Type_Supermarket Type2    5681 non-null   uint8  \n",
      " 43  Outlet_Type_Supermarket Type3    5681 non-null   uint8  \n",
      " 44  Item_code_DR                     5681 non-null   uint8  \n",
      " 45  Item_code_FD                     5681 non-null   uint8  \n",
      " 46  Item_code_NC                     5681 non-null   uint8  \n",
      "dtypes: float64(4), uint8(43)\n",
      "memory usage: 460.5 KB\n"
     ]
    }
   ],
   "source": [
    "salestest_df.info()"
   ]
  },
  {
   "cell_type": "code",
   "execution_count": 106,
   "id": "ab2cd6e3",
   "metadata": {},
   "outputs": [
    {
     "name": "stderr",
     "output_type": "stream",
     "text": [
      "C:\\Users\\hp\\AppData\\Local\\Temp\\ipykernel_15016\\560551408.py:1: SettingWithCopyWarning: \n",
      "A value is trying to be set on a copy of a slice from a DataFrame.\n",
      "Try using .loc[row_indexer,col_indexer] = value instead\n",
      "\n",
      "See the caveats in the documentation: https://pandas.pydata.org/pandas-docs/stable/user_guide/indexing.html#returning-a-view-versus-a-copy\n",
      "  salestrain_df.Item_Outlet_Sales=salestrain_df.Item_Outlet_Sales.astype('float64')\n"
     ]
    }
   ],
   "source": [
    "salestrain_df.Item_Outlet_Sales=salestrain_df.Item_Outlet_Sales.astype('float64')"
   ]
  },
  {
   "cell_type": "code",
   "execution_count": 107,
   "id": "8c5139f8",
   "metadata": {},
   "outputs": [
    {
     "data": {
      "text/plain": [
       "count     8523.000000\n",
       "mean      2181.288914\n",
       "std       1706.499616\n",
       "min         33.290000\n",
       "25%        834.247400\n",
       "50%       1794.331000\n",
       "75%       3101.296400\n",
       "max      13086.964800\n",
       "Name: Item_Outlet_Sales, dtype: float64"
      ]
     },
     "execution_count": 107,
     "metadata": {},
     "output_type": "execute_result"
    }
   ],
   "source": [
    "salestrain_df.Item_Outlet_Sales.describe()"
   ]
  },
  {
   "cell_type": "code",
   "execution_count": 108,
   "id": "0f479132",
   "metadata": {},
   "outputs": [
    {
     "data": {
      "text/plain": [
       "<Axes: ylabel='Density'>"
      ]
     },
     "execution_count": 108,
     "metadata": {},
     "output_type": "execute_result"
    },
    {
     "data": {
      "text/plain": [
       "<Figure size 3000x1500 with 0 Axes>"
      ]
     },
     "metadata": {},
     "output_type": "display_data"
    },
    {
     "data": {
      "image/png": "[encoded data removed]",
      "text/plain": [
       "<Figure size 640x480 with 3 Axes>"
      ]
     },
     "metadata": {},
     "output_type": "display_data"
    }
   ],
   "source": [
    "#hitogram,Boxplot,and density curve\n",
    "plt.figure(figsize=(30,15))\n",
    "fig,ax=plt.subplots(3,1)\n",
    "salestrain_df.Item_Outlet_Sales.plot(kind='hist',ax=ax[0])\n",
    "salestrain_df.Item_Outlet_Sales.plot(kind='box',vert=False,ax=ax[1])\n",
    "salestrain_df.Item_Outlet_Sales.plot(kind='kde',ax=ax[2])"
   ]
  },
  {
   "cell_type": "code",
   "execution_count": 109,
   "id": "0a2c400b",
   "metadata": {},
   "outputs": [],
   "source": [
    "#spliting data into 2 ways which having dependent and independent variables (split data into dependent variable(y) & independent variables(x's))\n",
    "y=salestrain_df.Item_Outlet_Sales\n",
    "x=salestrain_df.drop('Item_Outlet_Sales',axis=1)"
   ]
  },
  {
   "cell_type": "code",
   "execution_count": 110,
   "id": "e6ca764b",
   "metadata": {},
   "outputs": [
    {
     "data": {
      "text/plain": [
       "<Axes: ylabel='Density'>"
      ]
     },
     "execution_count": 110,
     "metadata": {},
     "output_type": "execute_result"
    },
    {
     "data": {
      "text/plain": [
       "<Figure size 3000x1500 with 0 Axes>"
      ]
     },
     "metadata": {},
     "output_type": "display_data"
    },
    {
     "data": {
      "image/png": "[encoded data removed]",
      "text/plain": [
       "<Figure size 640x480 with 3 Axes>"
      ]
     },
     "metadata": {},
     "output_type": "display_data"
    }
   ],
   "source": [
    "#To achieve normality of the residuals, we apply the log transformation to our dependent variable, which has a \n",
    "#positive skew. This reduces the effect of outliers and improves the fit of the linear model.\n",
    "\n",
    "plt.figure(figsize=(30,15))\n",
    "fig,ax=plt.subplots(3,1)\n",
    "np.log(y).plot(kind='hist',ax=ax[0])\n",
    "np.log(y).plot(kind='box',vert=False,ax=ax[1])\n",
    "np.log(y).plot(kind='kde',ax=ax[2])"
   ]
  },
  {
   "cell_type": "code",
   "execution_count": 111,
   "id": "45d89f86",
   "metadata": {},
   "outputs": [
    {
     "data": {
      "text/html": [
       "<div>\n",
       "<style scoped>\n",
       "    .dataframe tbody tr th:only-of-type {\n",
       "        vertical-align: middle;\n",
       "    }\n",
       "\n",
       "    .dataframe tbody tr th {\n",
       "        vertical-align: top;\n",
       "    }\n",
       "\n",
       "    .dataframe thead th {\n",
       "        text-align: right;\n",
       "    }\n",
       "</style>\n",
       "<table border=\"1\" class=\"dataframe\">\n",
       "  <thead>\n",
       "    <tr style=\"text-align: right;\">\n",
       "      <th></th>\n",
       "      <th>Item_Weight</th>\n",
       "      <th>Item_Visibility</th>\n",
       "      <th>Item_MRP</th>\n",
       "      <th>Outlet_Age</th>\n",
       "      <th>Item_Fat_Content_Low Fat</th>\n",
       "      <th>Item_Fat_Content_Non-Edible</th>\n",
       "      <th>Item_Fat_Content_Regular</th>\n",
       "      <th>Item_Type_Baking Goods</th>\n",
       "      <th>Item_Type_Breads</th>\n",
       "      <th>Item_Type_Breakfast</th>\n",
       "      <th>...</th>\n",
       "      <th>Outlet_Location_Type_Tier 1</th>\n",
       "      <th>Outlet_Location_Type_Tier 2</th>\n",
       "      <th>Outlet_Location_Type_Tier 3</th>\n",
       "      <th>Outlet_Type_Grocery Store</th>\n",
       "      <th>Outlet_Type_Supermarket Type1</th>\n",
       "      <th>Outlet_Type_Supermarket Type2</th>\n",
       "      <th>Outlet_Type_Supermarket Type3</th>\n",
       "      <th>Item_code_DR</th>\n",
       "      <th>Item_code_FD</th>\n",
       "      <th>Item_code_NC</th>\n",
       "    </tr>\n",
       "  </thead>\n",
       "  <tbody>\n",
       "    <tr>\n",
       "      <th>0</th>\n",
       "      <td>-0.521322</td>\n",
       "      <td>-0.566751</td>\n",
       "      <td>1.171145</td>\n",
       "      <td>0.000000</td>\n",
       "      <td>1</td>\n",
       "      <td>0</td>\n",
       "      <td>0</td>\n",
       "      <td>0</td>\n",
       "      <td>0</td>\n",
       "      <td>0</td>\n",
       "      <td>...</td>\n",
       "      <td>1</td>\n",
       "      <td>0</td>\n",
       "      <td>0</td>\n",
       "      <td>0</td>\n",
       "      <td>1</td>\n",
       "      <td>0</td>\n",
       "      <td>0</td>\n",
       "      <td>0</td>\n",
       "      <td>1</td>\n",
       "      <td>0</td>\n",
       "    </tr>\n",
       "    <tr>\n",
       "      <th>1</th>\n",
       "      <td>-1.025799</td>\n",
       "      <td>-0.518530</td>\n",
       "      <td>-1.023237</td>\n",
       "      <td>-0.588235</td>\n",
       "      <td>0</td>\n",
       "      <td>0</td>\n",
       "      <td>1</td>\n",
       "      <td>0</td>\n",
       "      <td>0</td>\n",
       "      <td>0</td>\n",
       "      <td>...</td>\n",
       "      <td>0</td>\n",
       "      <td>0</td>\n",
       "      <td>1</td>\n",
       "      <td>0</td>\n",
       "      <td>0</td>\n",
       "      <td>1</td>\n",
       "      <td>0</td>\n",
       "      <td>1</td>\n",
       "      <td>0</td>\n",
       "      <td>0</td>\n",
       "    </tr>\n",
       "    <tr>\n",
       "      <th>2</th>\n",
       "      <td>0.702559</td>\n",
       "      <td>-0.556113</td>\n",
       "      <td>-0.006849</td>\n",
       "      <td>0.000000</td>\n",
       "      <td>1</td>\n",
       "      <td>0</td>\n",
       "      <td>0</td>\n",
       "      <td>0</td>\n",
       "      <td>0</td>\n",
       "      <td>0</td>\n",
       "      <td>...</td>\n",
       "      <td>1</td>\n",
       "      <td>0</td>\n",
       "      <td>0</td>\n",
       "      <td>0</td>\n",
       "      <td>1</td>\n",
       "      <td>0</td>\n",
       "      <td>0</td>\n",
       "      <td>0</td>\n",
       "      <td>1</td>\n",
       "      <td>0</td>\n",
       "    </tr>\n",
       "    <tr>\n",
       "      <th>3</th>\n",
       "      <td>0.956290</td>\n",
       "      <td>-0.806258</td>\n",
       "      <td>0.433868</td>\n",
       "      <td>0.058824</td>\n",
       "      <td>0</td>\n",
       "      <td>0</td>\n",
       "      <td>1</td>\n",
       "      <td>0</td>\n",
       "      <td>0</td>\n",
       "      <td>0</td>\n",
       "      <td>...</td>\n",
       "      <td>0</td>\n",
       "      <td>0</td>\n",
       "      <td>1</td>\n",
       "      <td>1</td>\n",
       "      <td>0</td>\n",
       "      <td>0</td>\n",
       "      <td>0</td>\n",
       "      <td>0</td>\n",
       "      <td>1</td>\n",
       "      <td>0</td>\n",
       "    </tr>\n",
       "    <tr>\n",
       "      <th>4</th>\n",
       "      <td>-0.576545</td>\n",
       "      <td>-0.806258</td>\n",
       "      <td>-0.962349</td>\n",
       "      <td>0.705882</td>\n",
       "      <td>0</td>\n",
       "      <td>1</td>\n",
       "      <td>0</td>\n",
       "      <td>0</td>\n",
       "      <td>0</td>\n",
       "      <td>0</td>\n",
       "      <td>...</td>\n",
       "      <td>0</td>\n",
       "      <td>0</td>\n",
       "      <td>1</td>\n",
       "      <td>0</td>\n",
       "      <td>1</td>\n",
       "      <td>0</td>\n",
       "      <td>0</td>\n",
       "      <td>0</td>\n",
       "      <td>0</td>\n",
       "      <td>1</td>\n",
       "    </tr>\n",
       "  </tbody>\n",
       "</table>\n",
       "<p>5 rows × 47 columns</p>\n",
       "</div>"
      ],
      "text/plain": [
       "   Item_Weight  Item_Visibility  Item_MRP  Outlet_Age  \\\n",
       "0    -0.521322        -0.566751  1.171145    0.000000   \n",
       "1    -1.025799        -0.518530 -1.023237   -0.588235   \n",
       "2     0.702559        -0.556113 -0.006849    0.000000   \n",
       "3     0.956290        -0.806258  0.433868    0.058824   \n",
       "4    -0.576545        -0.806258 -0.962349    0.705882   \n",
       "\n",
       "   Item_Fat_Content_Low Fat  Item_Fat_Content_Non-Edible  \\\n",
       "0                         1                            0   \n",
       "1                         0                            0   \n",
       "2                         1                            0   \n",
       "3                         0                            0   \n",
       "4                         0                            1   \n",
       "\n",
       "   Item_Fat_Content_Regular  Item_Type_Baking Goods  Item_Type_Breads  \\\n",
       "0                         0                       0                 0   \n",
       "1                         1                       0                 0   \n",
       "2                         0                       0                 0   \n",
       "3                         1                       0                 0   \n",
       "4                         0                       0                 0   \n",
       "\n",
       "   Item_Type_Breakfast  ...  Outlet_Location_Type_Tier 1  \\\n",
       "0                    0  ...                            1   \n",
       "1                    0  ...                            0   \n",
       "2                    0  ...                            1   \n",
       "3                    0  ...                            0   \n",
       "4                    0  ...                            0   \n",
       "\n",
       "   Outlet_Location_Type_Tier 2  Outlet_Location_Type_Tier 3  \\\n",
       "0                            0                            0   \n",
       "1                            0                            1   \n",
       "2                            0                            0   \n",
       "3                            0                            1   \n",
       "4                            0                            1   \n",
       "\n",
       "   Outlet_Type_Grocery Store  Outlet_Type_Supermarket Type1  \\\n",
       "0                          0                              1   \n",
       "1                          0                              0   \n",
       "2                          0                              1   \n",
       "3                          1                              0   \n",
       "4                          0                              1   \n",
       "\n",
       "   Outlet_Type_Supermarket Type2  Outlet_Type_Supermarket Type3  Item_code_DR  \\\n",
       "0                              0                              0             0   \n",
       "1                              1                              0             1   \n",
       "2                              0                              0             0   \n",
       "3                              0                              0             0   \n",
       "4                              0                              0             0   \n",
       "\n",
       "   Item_code_FD  Item_code_NC  \n",
       "0             1             0  \n",
       "1             0             0  \n",
       "2             1             0  \n",
       "3             1             0  \n",
       "4             0             1  \n",
       "\n",
       "[5 rows x 47 columns]"
      ]
     },
     "execution_count": 111,
     "metadata": {},
     "output_type": "execute_result"
    }
   ],
   "source": [
    "x.head()"
   ]
  },
  {
   "cell_type": "markdown",
   "id": "a393d9f0",
   "metadata": {},
   "source": [
    "# Building the Machine Learning Models"
   ]
  },
  {
   "cell_type": "markdown",
   "id": "ec791d2f",
   "metadata": {},
   "source": [
    "# Linear Regression"
   ]
  },
  {
   "cell_type": "code",
   "execution_count": 112,
   "id": "5932c322",
   "metadata": {},
   "outputs": [],
   "source": [
    "from sklearn.linear_model import LinearRegression"
   ]
  },
  {
   "cell_type": "code",
   "execution_count": 113,
   "id": "879dac78",
   "metadata": {},
   "outputs": [],
   "source": [
    "reg=LinearRegression()"
   ]
  },
  {
   "cell_type": "code",
   "execution_count": 114,
   "id": "b7d6dcbe",
   "metadata": {},
   "outputs": [],
   "source": [
    "regmodel=reg.fit(x,np.log(y))\n",
    "#To achieve normality of the residuals, we apply the log transformation to our dependent variable, which has a \n",
    "#positive skew. This reduces the effect of outliers and improves the fit of the linear model."
   ]
  },
  {
   "cell_type": "code",
   "execution_count": 115,
   "id": "2216e5c1",
   "metadata": {},
   "outputs": [
    {
     "data": {
      "text/plain": [
       "0.7213876943174335"
      ]
     },
     "execution_count": 115,
     "metadata": {},
     "output_type": "execute_result"
    }
   ],
   "source": [
    "regmodel.score(x,np.log(y))"
   ]
  },
  {
   "cell_type": "code",
   "execution_count": 116,
   "id": "d7b34ea5",
   "metadata": {},
   "outputs": [],
   "source": [
    "regpredict=regmodel.predict(x)"
   ]
  },
  {
   "cell_type": "code",
   "execution_count": 117,
   "id": "1aeb3ec7",
   "metadata": {},
   "outputs": [],
   "source": [
    "rigresid=y-regpredict"
   ]
  },
  {
   "cell_type": "code",
   "execution_count": 118,
   "id": "21969992",
   "metadata": {},
   "outputs": [
    {
     "data": {
      "text/plain": [
       "2763.3203381308235"
      ]
     },
     "execution_count": 118,
     "metadata": {},
     "output_type": "execute_result"
    }
   ],
   "source": [
    "np.sqrt(np.mean(rigresid**2))"
   ]
  },
  {
   "cell_type": "code",
   "execution_count": 119,
   "id": "927c080d",
   "metadata": {},
   "outputs": [],
   "source": [
    "regtestpredict=regmodel.predict(salestest_df)"
   ]
  },
  {
   "cell_type": "code",
   "execution_count": 120,
   "id": "cb811fc1",
   "metadata": {},
   "outputs": [],
   "source": [
    "regtestpredict=np.exp(regtestpredict) \n",
    "#Since our dependent variable (y) is log-transformed, we need to apply the exponential function to convert our \n",
    "#predictions from log scale to normal scale."
   ]
  },
  {
   "cell_type": "code",
   "execution_count": 121,
   "id": "3d0c08a3",
   "metadata": {},
   "outputs": [],
   "source": [
    "pd.DataFrame(regtestpredict).to_csv('reg.csv')"
   ]
  },
  {
   "cell_type": "markdown",
   "id": "a0363a74",
   "metadata": {},
   "source": [
    "# Decession Tree"
   ]
  },
  {
   "cell_type": "code",
   "execution_count": 122,
   "id": "17785636",
   "metadata": {},
   "outputs": [],
   "source": [
    "from sklearn.tree import DecisionTreeRegressor"
   ]
  },
  {
   "cell_type": "code",
   "execution_count": 123,
   "id": "fc97392a",
   "metadata": {},
   "outputs": [],
   "source": [
    "tree=DecisionTreeRegressor(max_depth=8)"
   ]
  },
  {
   "cell_type": "code",
   "execution_count": 124,
   "id": "6c094003",
   "metadata": {},
   "outputs": [],
   "source": [
    "treemodel=tree.fit(x,np.log(y))\n",
    "#To achieve normality of the residuals, we apply the log transformation to our dependent variable, which has a \n",
    "#positive skew. This reduces the effect of outliers and improves the fit of the linear model."
   ]
  },
  {
   "cell_type": "code",
   "execution_count": 125,
   "id": "75b248db",
   "metadata": {},
   "outputs": [
    {
     "data": {
      "text/plain": [
       "0.7681075272318065"
      ]
     },
     "execution_count": 125,
     "metadata": {},
     "output_type": "execute_result"
    }
   ],
   "source": [
    "treemodel.score(x,np.log(y))"
   ]
  },
  {
   "cell_type": "code",
   "execution_count": 126,
   "id": "d5f4b831",
   "metadata": {},
   "outputs": [],
   "source": [
    "treepredict=treemodel.predict(x)"
   ]
  },
  {
   "cell_type": "code",
   "execution_count": 127,
   "id": "6201623f",
   "metadata": {},
   "outputs": [],
   "source": [
    "treeresid=y-treepredict"
   ]
  },
  {
   "cell_type": "code",
   "execution_count": 128,
   "id": "f39dc35c",
   "metadata": {},
   "outputs": [
    {
     "data": {
      "text/plain": [
       "2763.3110787250403"
      ]
     },
     "execution_count": 128,
     "metadata": {},
     "output_type": "execute_result"
    }
   ],
   "source": [
    "np.sqrt(np.mean(treeresid**2))"
   ]
  },
  {
   "cell_type": "code",
   "execution_count": 129,
   "id": "639da41c",
   "metadata": {
    "scrolled": true
   },
   "outputs": [],
   "source": [
    "treetestpred=treemodel.predict(salestest_df)"
   ]
  },
  {
   "cell_type": "code",
   "execution_count": 130,
   "id": "4ab7be28",
   "metadata": {},
   "outputs": [],
   "source": [
    "treetestpred=np.exp(treetestpred)\n",
    "#Since our dependent variable (y) is log-transformed, we need to apply the exponential function to convert our \n",
    "#predictions from log scale to normal scale."
   ]
  },
  {
   "cell_type": "code",
   "execution_count": 131,
   "id": "0d7d9147",
   "metadata": {},
   "outputs": [],
   "source": [
    "pd.DataFrame(treetestpred).to_csv(\"tree.csv\")"
   ]
  },
  {
   "cell_type": "markdown",
   "id": "151c828a",
   "metadata": {},
   "source": [
    "# Random Forest"
   ]
  },
  {
   "cell_type": "code",
   "execution_count": 132,
   "id": "944231f4",
   "metadata": {},
   "outputs": [],
   "source": [
    "from sklearn.ensemble import RandomForestRegressor"
   ]
  },
  {
   "cell_type": "code",
   "execution_count": 133,
   "id": "fbb12cb4",
   "metadata": {},
   "outputs": [],
   "source": [
    "RF=RandomForestRegressor(max_depth=7,n_estimators=5000)"
   ]
  },
  {
   "cell_type": "code",
   "execution_count": 134,
   "id": "f2b0cd5f",
   "metadata": {},
   "outputs": [],
   "source": [
    "RFmodel=RF.fit(x,np.log(y))\n",
    "#To achieve normality of the residuals, we apply the log transformation to our dependent variable, which has a \n",
    "#positive skew. This reduces the effect of outliers and improves the fit of the linear model."
   ]
  },
  {
   "cell_type": "code",
   "execution_count": 135,
   "id": "effef0af",
   "metadata": {},
   "outputs": [
    {
     "data": {
      "text/plain": [
       "0.7657921231151716"
      ]
     },
     "execution_count": 135,
     "metadata": {},
     "output_type": "execute_result"
    }
   ],
   "source": [
    "RFmodel.score(x,np.log(y))"
   ]
  },
  {
   "cell_type": "code",
   "execution_count": 136,
   "id": "c61e0c96",
   "metadata": {},
   "outputs": [],
   "source": [
    "rfpredict=RFmodel.predict(x)"
   ]
  },
  {
   "cell_type": "code",
   "execution_count": 137,
   "id": "70a6d462",
   "metadata": {},
   "outputs": [],
   "source": [
    "rfresid=y-rfpredict"
   ]
  },
  {
   "cell_type": "code",
   "execution_count": 138,
   "id": "c1c3c6e6",
   "metadata": {},
   "outputs": [
    {
     "data": {
      "text/plain": [
       "2763.316207452842"
      ]
     },
     "execution_count": 138,
     "metadata": {},
     "output_type": "execute_result"
    }
   ],
   "source": [
    "np.sqrt(np.mean(rfresid**2))"
   ]
  },
  {
   "cell_type": "code",
   "execution_count": 139,
   "id": "b6420dfc",
   "metadata": {},
   "outputs": [],
   "source": [
    "RFtestpredict=RFmodel.predict(salestest_df)"
   ]
  },
  {
   "cell_type": "code",
   "execution_count": 140,
   "id": "a08211a0",
   "metadata": {},
   "outputs": [],
   "source": [
    "RFtestpredict=np.exp(RFtestpredict)\n",
    "#Since our dependent variable (y) is log-transformed, we need to apply the exponential function to convert our \n",
    "#predictions from log scale to normal scale."
   ]
  },
  {
   "cell_type": "code",
   "execution_count": 141,
   "id": "3feaf88a",
   "metadata": {},
   "outputs": [],
   "source": [
    "pd.DataFrame(RFtestpredict).to_csv('RF.csv')"
   ]
  },
  {
   "cell_type": "markdown",
   "id": "7f57ee6c",
   "metadata": {},
   "source": [
    "# GBM"
   ]
  },
  {
   "cell_type": "code",
   "execution_count": 142,
   "id": "ccc72ae1",
   "metadata": {},
   "outputs": [],
   "source": [
    "from sklearn.ensemble import GradientBoostingRegressor"
   ]
  },
  {
   "cell_type": "code",
   "execution_count": 143,
   "id": "d69069de",
   "metadata": {},
   "outputs": [],
   "source": [
    "gbm=GradientBoostingRegressor(n_estimators=100, learning_rate=0.1)"
   ]
  },
  {
   "cell_type": "code",
   "execution_count": 144,
   "id": "6979d799",
   "metadata": {},
   "outputs": [],
   "source": [
    "gbmmodel=gbm.fit(x,np.log(y))\n",
    "#To achieve normality of the residuals, we apply the log transformation to our dependent variable, which has a \n",
    "#positive skew. This reduces the effect of outliers and improves the fit of the linear model."
   ]
  },
  {
   "cell_type": "code",
   "execution_count": 145,
   "id": "3b2eb089",
   "metadata": {},
   "outputs": [
    {
     "data": {
      "text/plain": [
       "0.7555382397657534"
      ]
     },
     "execution_count": 145,
     "metadata": {},
     "output_type": "execute_result"
    }
   ],
   "source": [
    "gbmmodel.score(x,np.log(y))"
   ]
  },
  {
   "cell_type": "code",
   "execution_count": 146,
   "id": "f29c5c3e",
   "metadata": {},
   "outputs": [],
   "source": [
    "gbmpredict=gbmmodel.predict(x)"
   ]
  },
  {
   "cell_type": "code",
   "execution_count": 147,
   "id": "a7816b8f",
   "metadata": {},
   "outputs": [],
   "source": [
    "gbmpredict=np.exp(gbmpredict)"
   ]
  },
  {
   "cell_type": "code",
   "execution_count": 148,
   "id": "ee018e98",
   "metadata": {},
   "outputs": [],
   "source": [
    "gbmresid=y-gbmpredict"
   ]
  },
  {
   "cell_type": "code",
   "execution_count": 149,
   "id": "4233bf25",
   "metadata": {},
   "outputs": [
    {
     "data": {
      "text/plain": [
       "1083.1388810411952"
      ]
     },
     "execution_count": 149,
     "metadata": {},
     "output_type": "execute_result"
    }
   ],
   "source": [
    "np.sqrt(np.mean(gbmresid**2))"
   ]
  },
  {
   "cell_type": "code",
   "execution_count": 150,
   "id": "39e48643",
   "metadata": {},
   "outputs": [],
   "source": [
    "GBMtestpredict=gbmmodel.predict(salestest_df)"
   ]
  },
  {
   "cell_type": "code",
   "execution_count": 151,
   "id": "ed18dbcf",
   "metadata": {},
   "outputs": [],
   "source": [
    "GBMtestpredict=np.exp(GBMtestpredict)\n",
    "#Since our dependent variable (y) is log-transformed, we need to apply the exponential function to convert our \n",
    "#predictions from log scale to normal scale."
   ]
  },
  {
   "cell_type": "code",
   "execution_count": 152,
   "id": "67a972f5",
   "metadata": {},
   "outputs": [],
   "source": [
    "pd.DataFrame(GBMtestpredict).to_csv('GBM.csv')"
   ]
  },
  {
   "cell_type": "markdown",
   "id": "b554a74f",
   "metadata": {},
   "source": [
    "# SVR"
   ]
  },
  {
   "cell_type": "code",
   "execution_count": 153,
   "id": "7c226dec",
   "metadata": {},
   "outputs": [],
   "source": [
    "from sklearn.svm import SVR"
   ]
  },
  {
   "cell_type": "code",
   "execution_count": 154,
   "id": "e8b3c500",
   "metadata": {},
   "outputs": [],
   "source": [
    "svr=SVR(kernel='linear', C=100)"
   ]
  },
  {
   "cell_type": "code",
   "execution_count": 155,
   "id": "a83e35c3",
   "metadata": {},
   "outputs": [],
   "source": [
    "svrmodel=svr.fit(x,np.log(y))\n",
    "#To achieve normality of the residuals, we apply the log transformation to our dependent variable, which has a \n",
    "#positive skew. This reduces the effect of outliers and improves the fit of the linear model."
   ]
  },
  {
   "cell_type": "code",
   "execution_count": 156,
   "id": "a7149661",
   "metadata": {},
   "outputs": [
    {
     "data": {
      "text/plain": [
       "0.7166926407787446"
      ]
     },
     "execution_count": 156,
     "metadata": {},
     "output_type": "execute_result"
    }
   ],
   "source": [
    "svrmodel.score(x,np.log(y))"
   ]
  },
  {
   "cell_type": "code",
   "execution_count": 157,
   "id": "f77c6468",
   "metadata": {},
   "outputs": [],
   "source": [
    "svrpredict=svrmodel.predict(x)"
   ]
  },
  {
   "cell_type": "code",
   "execution_count": 158,
   "id": "f769d94e",
   "metadata": {},
   "outputs": [],
   "source": [
    "svrpredict=np.exp(svrpredict)"
   ]
  },
  {
   "cell_type": "code",
   "execution_count": 159,
   "id": "2eee7597",
   "metadata": {},
   "outputs": [],
   "source": [
    "svrresid=y-svrpredict"
   ]
  },
  {
   "cell_type": "code",
   "execution_count": 160,
   "id": "2805d742",
   "metadata": {},
   "outputs": [
    {
     "data": {
      "text/plain": [
       "1135.0064754879943"
      ]
     },
     "execution_count": 160,
     "metadata": {},
     "output_type": "execute_result"
    }
   ],
   "source": [
    "np.sqrt(np.mean(svrresid**2))"
   ]
  },
  {
   "cell_type": "code",
   "execution_count": 161,
   "id": "1340ebfa",
   "metadata": {},
   "outputs": [],
   "source": [
    "svrtestpredict=svrmodel.predict(salestest_df)"
   ]
  },
  {
   "cell_type": "code",
   "execution_count": 162,
   "id": "6275e45d",
   "metadata": {},
   "outputs": [],
   "source": [
    "svrtestpredict=np.exp(svrtestpredict)\n",
    "#Since our dependent variable (y) is log-transformed, we need to apply the exponential function to convert our \n",
    "#predictions from log scale to normal scale."
   ]
  },
  {
   "cell_type": "code",
   "execution_count": 163,
   "id": "041f7aec",
   "metadata": {},
   "outputs": [],
   "source": [
    "pd.DataFrame(svrtestpredict).to_csv('svr.csv')"
   ]
  },
  {
   "cell_type": "markdown",
   "id": "56e7f515",
   "metadata": {},
   "source": [
    "# KNN regression"
   ]
  },
  {
   "cell_type": "code",
   "execution_count": 164,
   "id": "b9387efc",
   "metadata": {},
   "outputs": [],
   "source": [
    "from sklearn.neighbors import KNeighborsRegressor"
   ]
  },
  {
   "cell_type": "code",
   "execution_count": 165,
   "id": "d5db5204",
   "metadata": {},
   "outputs": [],
   "source": [
    "knn=KNeighborsRegressor(n_neighbors=5)"
   ]
  },
  {
   "cell_type": "code",
   "execution_count": 166,
   "id": "8f376c96",
   "metadata": {},
   "outputs": [],
   "source": [
    "knnmodel=knn.fit(x,np.log(y))\n",
    "#To achieve normality of the residuals, we apply the log transformation to our dependent variable, which has a \n",
    "#positive skew. This reduces the effect of outliers and improves the fit of the linear model."
   ]
  },
  {
   "cell_type": "code",
   "execution_count": 167,
   "id": "cf5708d6",
   "metadata": {},
   "outputs": [
    {
     "data": {
      "text/plain": [
       "0.763546184334263"
      ]
     },
     "execution_count": 167,
     "metadata": {},
     "output_type": "execute_result"
    }
   ],
   "source": [
    "knnmodel.score(x,np.log(y))"
   ]
  },
  {
   "cell_type": "code",
   "execution_count": 168,
   "id": "e70a2fc2",
   "metadata": {},
   "outputs": [],
   "source": [
    "knnpredict=knnmodel.predict(x)"
   ]
  },
  {
   "cell_type": "code",
   "execution_count": 169,
   "id": "c6f6bac6",
   "metadata": {},
   "outputs": [],
   "source": [
    "knnpredict=np.exp(knnpredict)"
   ]
  },
  {
   "cell_type": "code",
   "execution_count": 170,
   "id": "74f60763",
   "metadata": {},
   "outputs": [],
   "source": [
    "knnresid=y-knnpredict"
   ]
  },
  {
   "cell_type": "code",
   "execution_count": 171,
   "id": "ae08dbc4",
   "metadata": {},
   "outputs": [
    {
     "data": {
      "text/plain": [
       "1046.8056299612163"
      ]
     },
     "execution_count": 171,
     "metadata": {},
     "output_type": "execute_result"
    }
   ],
   "source": [
    "np.sqrt(np.mean(knnresid**2))"
   ]
  },
  {
   "cell_type": "code",
   "execution_count": 172,
   "id": "fc542cdc",
   "metadata": {},
   "outputs": [],
   "source": [
    "knntestpredict=knnmodel.predict(salestest_df)"
   ]
  },
  {
   "cell_type": "code",
   "execution_count": 173,
   "id": "ac761dff",
   "metadata": {},
   "outputs": [],
   "source": [
    "knntestpredict=np.exp(knntestpredict)\n",
    "#Since our dependent variable (y) is log-transformed, we need to apply the exponential function to convert our \n",
    "#predictions from log scale to normal scale."
   ]
  },
  {
   "cell_type": "code",
   "execution_count": 174,
   "id": "8d508fcc",
   "metadata": {},
   "outputs": [],
   "source": [
    "pd.DataFrame(knntestpredict).to_csv('knn.csv')"
   ]
  },
  {
   "cell_type": "markdown",
   "id": "55ba383f",
   "metadata": {},
   "source": [
    "# Validating the Score in analytics visdya "
   ]
  },
  {
   "cell_type": "markdown",
   "id": "82f8c622",
   "metadata": {},
   "source": [
    "# Summary"
   ]
  },
  {
   "cell_type": "markdown",
   "id": "d13c4999",
   "metadata": {},
   "source": [
    "In this summary, I will present the results of our machine learning project on the Big Mart Sales dataset, which contains information about the sales of various products across different outlets. Our goal was to build and evaluate different machine learning models that can predict the sales of a product given its features and the outlet characteristics. We used various regression techniques, such as linear regression, decision tree, random forest, gradient boosting machines, support vector regression, and KNN regression, and compared their performance using two metrics: accuracyscore and root mean squared error (RMSE).\n",
    "\n",
    "Accuracy score measures how often the model predicts the correct sales value, while RMSE measures how far the predictions are from the actual sales values. A higher accuracy score and a lower RMSE indicatea better model performance. We split the dataset into training and testing sets, trained each model on the training set, and evaluated them on the testing set. The table below summarizes the results of our analysis:\n",
    "\n",
    "| Model | R_square Score | Accuracy Score|RMSE|\n",
    "|:------:|:--------------:|:-------------:|:------|\n",
    "|Linear Regression|0.7213876943174335|1231.6924354246|2763.3203381308235|\n",
    "|Decision tree|0.7681075272318065|1205.76106862046|2763.3110787250403|\n",
    "|Random Forest|0.7657894720526683|1182.87698936678|2763.3161236936025|\n",
    "|Gradient boosting machines|0.7555382397657534|1182.14794339031|1083.138881041195|\n",
    "|Support Vector Regression|0.7166926407787446|1227.09118039255|1135.0064754879943|\n",
    "|KNN regression|0.763546184334263|1327.29272474048|1046.8056299612163|\n",
    "\n",
    "As we can see from the table, the Gradient Boosting Machines model outperforms the other models in terms of RMSE, which is the most important metric for regression problems. The Gradient Boosting Machines model has an RMSE of 1083.14, which is much lower than the other models, which have RMSE values above 2000. This means that the Gradient Boosting Machines model makes predictions that are closer to the actual sales values, and thus has less error.\n",
    "\n",
    "The accuracy score of the Gradient Boosting Machines model is slightly lower than some of the other models, such as the Decision Tree and Random Forest models, but this is not a major concern, as accuracy score is not a very reliable metric for regression problems. Accuracy score only tells us how many predictions are exactly equal to the actual sales values, but it does not tell us how close or far they are. \n",
    "\n",
    "For example, a model that predicts a sales value of 1000 for an actual value of 999 would have an accuracy score of 0, but an RMSE of 1, while a model that predicts a sales value of 2000 for an actual value of 1000 would have an accuracy score of 0, but an RMSE of 1000. Clearly, the first model is much better than the second model, but accuracy score does not capture this difference.\n",
    "\n",
    "Therefore, we recommend using the Gradient Boosting Machines model for predicting the sales of products in the Big Mart Sales dataset, as it has the lowest RMSE and thus the highest predictive power among the models we tested. The Gradient Boosting Machines model is a type of ensemble learning technique that combines multiple weak learners (such as decision trees) into a strong learner that can handle complex and nonlinear relationships between features and target variables. The Gradient Boosting Machines model also has several advantages over other models, such as being robust to outliers and missing values, being able to handle both categorical and numerical features, and having various hyperparameters that can be tuned to optimize performance."
   ]
  },
  {
   "cell_type": "code",
   "execution_count": null,
   "id": "d9096554",
   "metadata": {},
   "outputs": [],
   "source": []
  }
 ],
 "metadata": {
  "kernelspec": {
   "display_name": "Python 3 (ipykernel)",
   "language": "python",
   "name": "python3"
  },
  "language_info": {
   "codemirror_mode": {
    "name": "ipython",
    "version": 3
   },
   "file_extension": ".py",
   "mimetype": "text/x-python",
   "name": "python",
   "nbconvert_exporter": "python",
   "pygments_lexer": "ipython3",
   "version": "3.10.9"
  }
 },
 "nbformat": 4,
 "nbformat_minor": 5
}
